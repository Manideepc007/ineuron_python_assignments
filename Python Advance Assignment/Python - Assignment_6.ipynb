{
 "cells": [
  {
   "cell_type": "markdown",
   "id": "3921188a",
   "metadata": {},
   "source": [
    "### Q1. Describe three applications for exception processing.\n"
   ]
  },
  {
   "cell_type": "markdown",
   "id": "62d1daf7",
   "metadata": {},
   "source": [
    "Exception Processing is important to find exceptions that causes the runtime error. As runtime errors Halt the program execution when exception occurs.\n",
    "\n",
    "Exception Processing is used in Various Applications of which few examples are:\n",
    "\n",
    "Checking Appropriate use of input in an application\n",
    "Checking for Arithmetic exceptions in mathematical executions\n",
    "Checking File I/O exceptions during File handling"
   ]
  },
  {
   "cell_type": "markdown",
   "id": "cc43bf79",
   "metadata": {},
   "source": [
    "### Q2. What happens if you don't do something extra to treat an exception?\n"
   ]
  },
  {
   "cell_type": "markdown",
   "id": "380f6fc7",
   "metadata": {},
   "source": [
    "If Exceptions are not handled flow of program will be broken during the run time which might lead to a abnormal termination of the program. Inshort inability of program to handle exceptions will result in crashing of program."
   ]
  },
  {
   "cell_type": "markdown",
   "id": "4a74b39b",
   "metadata": {},
   "source": [
    "### Q3. What are your options for recovering from an exception in your script?\n"
   ]
  },
  {
   "cell_type": "markdown",
   "id": "21d21742",
   "metadata": {},
   "source": [
    "Python provides try and except statements for recovering from an exception in your script."
   ]
  },
  {
   "cell_type": "markdown",
   "id": "174b02cc",
   "metadata": {},
   "source": [
    "### Q4. Describe two methods for triggering exceptions in your script.\n"
   ]
  },
  {
   "cell_type": "markdown",
   "id": "bcb4a272",
   "metadata": {},
   "source": [
    "raise and assert are two methods that can be used to trigger manual exceptions in your script.\n",
    "\n",
    "raise method triggers an exception if condition provided to it turns out to be True.\n",
    "assert will let the program to continue execution if condition provided to it turns out to be True else exception will be raised"
   ]
  },
  {
   "cell_type": "markdown",
   "id": "85af159a",
   "metadata": {},
   "source": [
    "### Q5. Identify two methods for specifying actions to be executed at termination time, regardless of whether or not an exception exists.\n"
   ]
  },
  {
   "cell_type": "markdown",
   "id": "e8bc0afb",
   "metadata": {},
   "source": [
    "Python Provides else and finally blocks for specifying actions to be executed at termination time, regardless of whether an exceptions exists or not."
   ]
  },
  {
   "cell_type": "code",
   "execution_count": null,
   "id": "78944551",
   "metadata": {},
   "outputs": [],
   "source": []
  }
 ],
 "metadata": {
  "kernelspec": {
   "display_name": "Python 3 (ipykernel)",
   "language": "python",
   "name": "python3"
  },
  "language_info": {
   "codemirror_mode": {
    "name": "ipython",
    "version": 3
   },
   "file_extension": ".py",
   "mimetype": "text/x-python",
   "name": "python",
   "nbconvert_exporter": "python",
   "pygments_lexer": "ipython3",
   "version": "3.9.7"
  }
 },
 "nbformat": 4,
 "nbformat_minor": 5
}
