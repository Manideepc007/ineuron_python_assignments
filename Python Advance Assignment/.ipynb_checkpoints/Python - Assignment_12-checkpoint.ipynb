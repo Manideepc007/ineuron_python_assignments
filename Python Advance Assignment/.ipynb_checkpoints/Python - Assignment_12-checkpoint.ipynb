{
 "cells": [
  {
   "cell_type": "markdown",
   "id": "221cdf24",
   "metadata": {},
   "source": [
    "### Q1. Does assigning a value to a string's indexed character violate Python's string immutability?\n"
   ]
  },
  {
   "cell_type": "raw",
   "id": "6c3a2fbd",
   "metadata": {},
   "source": [
    "String’s indexed character cannot to be assigned a New value , as Strings are immutable.\n",
    "\n"
   ]
  },
  {
   "cell_type": "code",
   "execution_count": 2,
   "id": "f47d2f9c",
   "metadata": {},
   "outputs": [
    {
     "name": "stdout",
     "output_type": "stream",
     "text": [
      "1625199441520\n"
     ]
    },
    {
     "ename": "TypeError",
     "evalue": "'str' object does not support item assignment",
     "output_type": "error",
     "traceback": [
      "\u001b[1;31m---------------------------------------------------------------------------\u001b[0m",
      "\u001b[1;31mTypeError\u001b[0m                                 Traceback (most recent call last)",
      "\u001b[1;32m~\\AppData\\Local\\Temp/ipykernel_16916/1101154320.py\u001b[0m in \u001b[0;36m<module>\u001b[1;34m\u001b[0m\n\u001b[0;32m      1\u001b[0m \u001b[0mname\u001b[0m \u001b[1;33m=\u001b[0m \u001b[1;34m\"Reinforcement\"\u001b[0m\u001b[1;33m\u001b[0m\u001b[1;33m\u001b[0m\u001b[0m\n\u001b[0;32m      2\u001b[0m \u001b[0mprint\u001b[0m\u001b[1;33m(\u001b[0m\u001b[0mid\u001b[0m\u001b[1;33m(\u001b[0m\u001b[0mname\u001b[0m\u001b[1;33m)\u001b[0m\u001b[1;33m)\u001b[0m \u001b[1;31m#73472\u001b[0m\u001b[1;33m\u001b[0m\u001b[1;33m\u001b[0m\u001b[0m\n\u001b[1;32m----> 3\u001b[1;33m \u001b[0mname\u001b[0m\u001b[1;33m[\u001b[0m\u001b[1;36m0\u001b[0m\u001b[1;33m]\u001b[0m \u001b[1;33m=\u001b[0m \u001b[1;34m\"V\"\u001b[0m \u001b[1;31m# Raises TypeError\u001b[0m\u001b[1;33m\u001b[0m\u001b[1;33m\u001b[0m\u001b[0m\n\u001b[0m",
      "\u001b[1;31mTypeError\u001b[0m: 'str' object does not support item assignment"
     ]
    }
   ],
   "source": [
    "name = \"Reinforcement\"\n",
    "print(id(name)) #73472\n",
    "name[0] = \"V\""
   ]
  },
  {
   "cell_type": "markdown",
   "id": "3cd8076c",
   "metadata": {},
   "source": [
    "### Q2. Does using the += operator to concatenate strings violate Python's string immutability? Why or why not?\n"
   ]
  },
  {
   "cell_type": "raw",
   "id": "bf7d3046",
   "metadata": {},
   "source": [
    "+= operator is used to concatenate strings, it does not violate Python’s string immutability Property. Because doing so new creates a new association with data and variable. E.g. str_1=\"a\" and str_1+=\"b. effect of this statements to create string ab and reassign it to variable str_1, any string data is not actually modified."
   ]
  },
  {
   "cell_type": "code",
   "execution_count": 3,
   "id": "5e94d47a",
   "metadata": {},
   "outputs": [
    {
     "name": "stdout",
     "output_type": "stream",
     "text": [
      "1625125209392\n",
      "1625199453040\n"
     ]
    }
   ],
   "source": [
    "str_1 = 'a'\n",
    "print(id(str_1))\n",
    "str_1 += 'b'\n",
    "print(id(str_1)) # Does not Modify existing string, Creates a New String Object"
   ]
  },
  {
   "cell_type": "markdown",
   "id": "ac6dfd1a",
   "metadata": {},
   "source": [
    "### Q3. In Python, how many different ways are there to index a character?\n"
   ]
  },
  {
   "cell_type": "raw",
   "id": "6ee437d8",
   "metadata": {},
   "source": [
    "A Character in string can be indexed using string name followed by index number of character in square bracket. Positive Indexing i.e. first index is 0 and so on, or Negative Indexing i.e. last letter is -1 and so on can be used to index a character"
   ]
  },
  {
   "cell_type": "code",
   "execution_count": 4,
   "id": "41295128",
   "metadata": {},
   "outputs": [
    {
     "name": "stdout",
     "output_type": "stream",
     "text": [
      "u l e\n",
      "e i c\n"
     ]
    }
   ],
   "source": [
    "in_string = \"iNeuron Full Stack Data Science\"\n",
    "print(in_string[9],in_string[10],in_string[2]) # Positive Indexing\n",
    "print(in_string[-1],in_string[-5],in_string[-2]) # Negative Indexing"
   ]
  },
  {
   "cell_type": "markdown",
   "id": "adffb816",
   "metadata": {},
   "source": [
    "### Q4. What is the relationship between indexing and slicing?\n"
   ]
  },
  {
   "cell_type": "raw",
   "id": "8791a95d",
   "metadata": {},
   "source": [
    "We can access elements of sequence datatypes by using slicing and indexing. Indexing is used to obtaining individual element while slicing for sequence of elements."
   ]
  },
  {
   "cell_type": "code",
   "execution_count": 5,
   "id": "4e993902",
   "metadata": {},
   "outputs": [
    {
     "name": "stdout",
     "output_type": "stream",
     "text": [
      "N u o\n",
      "Neuron Full St\n"
     ]
    }
   ],
   "source": [
    "in_string = \"iNeuron Full Stack Data Science\"\n",
    "print(in_string[1],in_string[3],in_string[5]) # Indexing\n",
    "print(in_string[1:15]) # Slicing"
   ]
  },
  {
   "cell_type": "markdown",
   "id": "3ef1ac8a",
   "metadata": {},
   "source": [
    "### Q5. What is an indexed character's exact data type? What is the data form of a slicing-generated substring?\n"
   ]
  },
  {
   "cell_type": "raw",
   "id": "3bfd2703",
   "metadata": {},
   "source": [
    " Indexed characters and sliced substrings have datatype String."
   ]
  },
  {
   "cell_type": "code",
   "execution_count": 7,
   "id": "553e7920",
   "metadata": {},
   "outputs": [
    {
     "name": "stdout",
     "output_type": "stream",
     "text": [
      "<class 'str'>\n",
      "<class 'str'>\n"
     ]
    }
   ],
   "source": [
    "in_string = \"iNeuron Full Stack Data Science\"\n",
    "print(type(in_string[3])) # Indexing -> str\n",
    "print(type(in_string[1:10])) # slicing -> str"
   ]
  },
  {
   "cell_type": "markdown",
   "id": "a223dbad",
   "metadata": {},
   "source": [
    "### Q6. What is the relationship between string and character \"types\" in Python?\n"
   ]
  },
  {
   "cell_type": "markdown",
   "id": "f320b694",
   "metadata": {},
   "source": [
    " Object that contains sequence of character datatypes are called String."
   ]
  },
  {
   "cell_type": "markdown",
   "id": "0603c679",
   "metadata": {},
   "source": [
    "### Q7. Identify at least two operators and one method that allow you to combine one or more smaller strings to create a larger string.\n"
   ]
  },
  {
   "cell_type": "raw",
   "id": "970b1a72",
   "metadata": {},
   "source": [
    "+, += and * allow to combine one or more smaller strings to create a larger string. <string>.join(<sep>) method joins element of iterable type like list and tuple to get a combined string."
   ]
  },
  {
   "cell_type": "code",
   "execution_count": 8,
   "id": "95377e7b",
   "metadata": {},
   "outputs": [
    {
     "name": "stdout",
     "output_type": "stream",
     "text": [
      "iNeuron Full Stack Data Science FSDS\n",
      "FSDS FSDS FSDS \n",
      "I N E U R O N\n",
      "i n e u r o n\n"
     ]
    }
   ],
   "source": [
    "in_string = 'iNeuron '\n",
    "in_string += 'Full Stack Data Science'\n",
    "print(in_string + ' FSDS')\n",
    "print('FSDS '*3)\n",
    "print(\" \".join(['I','N','E','U','R','O','N'])) # List Iterable\n",
    "print(\" \".join(('I','N','E','U','R','O','N')).lower()) # Tuple Iterable"
   ]
  },
  {
   "cell_type": "markdown",
   "id": "801e3ffd",
   "metadata": {},
   "source": [
    "### Q8. What is the benefit of first checking the target string with in or not in before using the index method to find a substring?\n"
   ]
  },
  {
   "cell_type": "raw",
   "id": "0db667e8",
   "metadata": {},
   "source": [
    " Checking the target string with in or not Operators before using the index method to find a substring just helps confirming availability of substring and thus avoid raising of ValueError.\n",
    "Example:\n",
    "in_string = \"ineuron\"\n",
    "in_string.index('x') # Raises ValueError\n",
    "in_string.index('u') # 3"
   ]
  },
  {
   "cell_type": "markdown",
   "id": "b6985f01",
   "metadata": {},
   "source": [
    "### Q9. Which operators and built-in string methods produce simple Boolean (true/false) results?\n"
   ]
  },
  {
   "cell_type": "raw",
   "id": "78e2e567",
   "metadata": {},
   "source": [
    "The String Operators and built-in methods to Produce Simple Boolean (True/False) Results are:\n",
    "\n",
    "in\n",
    "not\n",
    "<string>.isalpha()\n",
    "<string>.isalnum()\n",
    "<string>.isdecimal()\n",
    "<string>.isdigit()\n",
    "<string>.islower()\n",
    "<string>.isnumeric()\n",
    "<string>.isprintable()\n",
    "<string>.isspace()\n",
    "<string>.istitle()"
   ]
  },
  {
   "cell_type": "code",
   "execution_count": null,
   "id": "0900c577",
   "metadata": {},
   "outputs": [],
   "source": []
  }
 ],
 "metadata": {
  "kernelspec": {
   "display_name": "Python 3 (ipykernel)",
   "language": "python",
   "name": "python3"
  },
  "language_info": {
   "codemirror_mode": {
    "name": "ipython",
    "version": 3
   },
   "file_extension": ".py",
   "mimetype": "text/x-python",
   "name": "python",
   "nbconvert_exporter": "python",
   "pygments_lexer": "ipython3",
   "version": "3.9.7"
  }
 },
 "nbformat": 4,
 "nbformat_minor": 5
}
