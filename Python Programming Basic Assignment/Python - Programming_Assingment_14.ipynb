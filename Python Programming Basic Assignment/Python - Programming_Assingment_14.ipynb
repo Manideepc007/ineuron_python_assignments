{
 "cells": [
  {
   "cell_type": "markdown",
   "id": "a058c3aa",
   "metadata": {},
   "source": [
    "#### 1. Define a class with a generator which can iterate the numbers, which are divisible by 7, between a given range 0 and n."
   ]
  },
  {
   "cell_type": "code",
   "execution_count": 20,
   "id": "3708c8b0",
   "metadata": {},
   "outputs": [
    {
     "name": "stdout",
     "output_type": "stream",
     "text": [
      "0,7,14,21,28,35,42,49,56,63,70,77,84,91,98,"
     ]
    }
   ],
   "source": [
    "class gen():\n",
    "    def __init__(self,num):\n",
    "        self.num = num\n",
    "    def gen(self):\n",
    "        for i in range(0,self.num+1):\n",
    "            if i % 7 ==0:\n",
    "                yield i\n",
    "generator = gen(100)\n",
    "for i in generator.gen():\n",
    "    print(i,end=\",\")"
   ]
  },
  {
   "cell_type": "markdown",
   "id": "1f6f9aa8",
   "metadata": {},
   "source": [
    "#### 2.Write a program to compute the frequency of the words from the input. The output should output after sorting the key alphanumerically.\n",
    "\n",
    "**Suppose the following input is supplied to the program:**\n",
    "\n",
    "`New to Python or choosing between Python 2 and Python 3? Read Python 2 orPython 3.`\n",
    "\n",
    "Then, the output should be:\n",
    "\n",
    "`2:2`\n",
    "`3.:1`\n",
    "`3?:1`\n",
    "New:1\n",
    "Python:5\n",
    "Read:1\n",
    "and:1\n",
    "between:1\n",
    "choosing:1\n",
    "or:2\n",
    "to:1"
   ]
  },
  {
   "cell_type": "code",
   "execution_count": 21,
   "id": "c29dcc97",
   "metadata": {},
   "outputs": [
    {
     "name": "stdout",
     "output_type": "stream",
     "text": [
      "Enter the Input String: New to Python or choosing between Python 2 and Python 3? Read Python 2 orPython 3\n",
      "2:2 3:1 3?:1 New:1 Python:4 Read:1 and:1 between:1 choosing:1 or:1 orPython:1 to:1 "
     ]
    }
   ],
   "source": [
    "def checkFrequency():\n",
    "    in_string = input(\"Enter the Input String: \")\n",
    "    frequency = {}\n",
    "    for ele in in_string.split(\" \"):\n",
    "        if(frequency.get(ele) == None):\n",
    "            frequency[ele] = 1\n",
    "        else:\n",
    "            frequency[ele] += 1 \n",
    "    for ele in sorted(frequency):\n",
    "        print(f'{ele}:{frequency[ele]}',end=\" \")\n",
    "checkFrequency()"
   ]
  },
  {
   "cell_type": "markdown",
   "id": "91ccc86a",
   "metadata": {},
   "source": [
    "#### 3.Define a class Person and its two child classes: Male and Female. All classes have a method \"getGender\" which can print \"Male\" for Male class and \"Female\" for Female class. ?"
   ]
  },
  {
   "cell_type": "code",
   "execution_count": 22,
   "id": "859157a1",
   "metadata": {},
   "outputs": [
    {
     "name": "stdout",
     "output_type": "stream",
     "text": [
      "Male\n",
      "Female\n"
     ]
    }
   ],
   "source": [
    "class Person():\n",
    "    def getGender():\n",
    "        pass\n",
    "    \n",
    "class Male(Person):\n",
    "    def getGender():\n",
    "        print(\"Male\")\n",
    "        \n",
    "class Female(Person):\n",
    "    def getGender():\n",
    "        print(\"Female\")\n",
    "\n",
    "Male.getGender()\n",
    "Female.getGender()"
   ]
  },
  {
   "cell_type": "markdown",
   "id": "55a09d77",
   "metadata": {},
   "source": [
    "#### 4.Please write a program to generate all sentences where subject is in [\"I\", \"You\"] and verb is in [\"Play\", \"Love\"] and the object is in [\"Hockey\",\"Football\"] ?"
   ]
  },
  {
   "cell_type": "code",
   "execution_count": 23,
   "id": "9fa0caf9",
   "metadata": {},
   "outputs": [
    {
     "name": "stdout",
     "output_type": "stream",
     "text": [
      "I Play Hockey\n",
      "I Play Football\n",
      "I Love Hockey\n",
      "I Love Football\n",
      "You Play Hockey\n",
      "You Play Football\n",
      "You Love Hockey\n",
      "You Love Football\n"
     ]
    }
   ],
   "source": [
    "def generateSentences():\n",
    "    subject = ['I','You']\n",
    "    verb = ['Play','Love']\n",
    "    objects = ['Hockey','Football']\n",
    "    for s in subject:\n",
    "        for v in verb:\n",
    "            for o in objects:\n",
    "                print(f'{s} {v} {o}')\n",
    "                \n",
    "generateSentences()"
   ]
  },
  {
   "cell_type": "markdown",
   "id": "3d6be16d",
   "metadata": {},
   "source": [
    "#### 5.Please write a program to compress and decompress the string \"hello world!hello world!hello world!hello world!\" ?"
   ]
  },
  {
   "cell_type": "code",
   "execution_count": 25,
   "id": "be3620a2",
   "metadata": {},
   "outputs": [
    {
     "name": "stdout",
     "output_type": "stream",
     "text": [
      "hel2o world!hel2o world!hel2o world!hel2o world!\n",
      "hello world!hello world!hello world!hello world!\n"
     ]
    }
   ],
   "source": [
    "def compress(in_string):\n",
    "    output = in_string[0]\n",
    "    count = 1\n",
    "    for ele in range(len(in_string)-1):\n",
    "        if in_string[ele] == in_string[ele+1]:\n",
    "            count +=1\n",
    "        else:\n",
    "            if count > 1:\n",
    "                output += str(count)\n",
    "            output += in_string[ele+1]\n",
    "            count = 1\n",
    "    if count > 1:\n",
    "        output += str(count)            \n",
    "    print(output)\n",
    "\n",
    "\n",
    "def decompress(in_string):\n",
    "    output = ''\n",
    "    for ele in range(len(in_string)):\n",
    "        if in_string[ele].isdigit():\n",
    "            output += output[-1]*(int(in_string[ele])-1)\n",
    "        else:\n",
    "            output += in_string[ele]\n",
    "    print(output)\n",
    "    \n",
    "        \n",
    "compress(\"hello world!hello world!hello world!hello world!\")\n",
    "decompress(\"hel2o world!hel2o world!hel2o world!hel2o world!\")"
   ]
  },
  {
   "cell_type": "markdown",
   "id": "ddafb773",
   "metadata": {},
   "source": [
    "#### 6.Please write a binary search function which searches an item in a sorted list. The function should return the index of element to be searched in the list ?"
   ]
  },
  {
   "cell_type": "code",
   "execution_count": 26,
   "id": "a7b907a2",
   "metadata": {},
   "outputs": [
    {
     "name": "stdout",
     "output_type": "stream",
     "text": [
      "7\n",
      "Input Element not in the list\n"
     ]
    }
   ],
   "source": [
    "sorted_list = [1,2,3,4,5,6,7,8,9,10]\n",
    "def binary_search(in_list,in_num):\n",
    "    low = 0\n",
    "    high = len(in_list)-1\n",
    "    while low <= high:\n",
    "        mid = high+low//2\n",
    "        if in_list[mid] < in_num:\n",
    "            low = mid+1\n",
    "        elif in_list[mid] > in_num:\n",
    "            high = mid-1\n",
    "        else:\n",
    "            return mid\n",
    "    else:\n",
    "        return 'Input Element not in the list'\n",
    "    \n",
    "print(binary_search(sorted_list,8))\n",
    "print(binary_search(sorted_list,100))"
   ]
  },
  {
   "cell_type": "code",
   "execution_count": null,
   "id": "8d5d1390",
   "metadata": {},
   "outputs": [],
   "source": []
  }
 ],
 "metadata": {
  "kernelspec": {
   "display_name": "Python 3 (ipykernel)",
   "language": "python",
   "name": "python3"
  },
  "language_info": {
   "codemirror_mode": {
    "name": "ipython",
    "version": 3
   },
   "file_extension": ".py",
   "mimetype": "text/x-python",
   "name": "python",
   "nbconvert_exporter": "python",
   "pygments_lexer": "ipython3",
   "version": "3.9.7"
  }
 },
 "nbformat": 4,
 "nbformat_minor": 5
}
