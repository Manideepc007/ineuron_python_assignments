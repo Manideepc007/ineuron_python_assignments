{
 "cells": [
  {
   "cell_type": "markdown",
   "id": "db39aa22",
   "metadata": {},
   "source": [
    "### Q1) Write a Python program to print \"Hello Python\"?\n"
   ]
  },
  {
   "cell_type": "code",
   "execution_count": 1,
   "id": "b8f2c1c0",
   "metadata": {},
   "outputs": [
    {
     "name": "stdout",
     "output_type": "stream",
     "text": [
      "Hello Python\n"
     ]
    }
   ],
   "source": [
    "print('Hello Python')"
   ]
  },
  {
   "cell_type": "markdown",
   "id": "7106645a",
   "metadata": {},
   "source": [
    "### Q2) Write a Python program to do arithmetical operations addition and division.?\n"
   ]
  },
  {
   "cell_type": "code",
   "execution_count": 2,
   "id": "dea5c8f6",
   "metadata": {},
   "outputs": [
    {
     "name": "stdout",
     "output_type": "stream",
     "text": [
      "9\n",
      "0.5\n"
     ]
    }
   ],
   "source": [
    "add = 5+4\n",
    "div = 2/4\n",
    "\n",
    "print(add)\n",
    "print(div)"
   ]
  },
  {
   "cell_type": "markdown",
   "id": "89db5bcc",
   "metadata": {},
   "source": [
    "### Q3) Write a Python program to find the area of a triangle?\n"
   ]
  },
  {
   "cell_type": "code",
   "execution_count": 3,
   "id": "79b875bf",
   "metadata": {},
   "outputs": [
    {
     "name": "stdout",
     "output_type": "stream",
     "text": [
      "Enter the base: 20\n",
      "Enter the height: 30\n",
      "300.0\n"
     ]
    }
   ],
   "source": [
    "base = int(input('Enter the base: '))\n",
    "height  = int(input('Enter the height: '))\n",
    "\n",
    "area_of_triangle = 0.5*base*height\n",
    "print(area_of_triangle)"
   ]
  },
  {
   "cell_type": "markdown",
   "id": "91a30a25",
   "metadata": {},
   "source": [
    "### Q4) Write a Python program to swap two variables?\n"
   ]
  },
  {
   "cell_type": "code",
   "execution_count": 4,
   "id": "89ad22a0",
   "metadata": {},
   "outputs": [
    {
     "name": "stdout",
     "output_type": "stream",
     "text": [
      "value of a:  4\n",
      "value of b:  5\n",
      "value of a after swap:  5\n",
      "value of b after swap:  4\n"
     ]
    }
   ],
   "source": [
    "a,b = 4,5\n",
    "print('value of a: ',a)\n",
    "print('value of b: ',b)\n",
    "temp = a\n",
    "a = b\n",
    "b = temp\n",
    "print('value of a after swap: ',a)\n",
    "print('value of b after swap: ',b)"
   ]
  },
  {
   "cell_type": "markdown",
   "id": "5767a5a1",
   "metadata": {},
   "source": [
    "### Q5) Write a Python program to generate a random number?\n"
   ]
  },
  {
   "cell_type": "code",
   "execution_count": 5,
   "id": "b97d1e9a",
   "metadata": {},
   "outputs": [],
   "source": [
    "import random"
   ]
  },
  {
   "cell_type": "code",
   "execution_count": 6,
   "id": "4fb38ba5",
   "metadata": {},
   "outputs": [
    {
     "name": "stdout",
     "output_type": "stream",
     "text": [
      "14\n"
     ]
    }
   ],
   "source": [
    "generate = random.randint(1,100)\n",
    "print(generate)"
   ]
  },
  {
   "cell_type": "code",
   "execution_count": null,
   "id": "d0123b8a",
   "metadata": {},
   "outputs": [],
   "source": []
  },
  {
   "cell_type": "code",
   "execution_count": null,
   "id": "ab88b9df",
   "metadata": {},
   "outputs": [],
   "source": []
  }
 ],
 "metadata": {
  "kernelspec": {
   "display_name": "Python 3 (ipykernel)",
   "language": "python",
   "name": "python3"
  },
  "language_info": {
   "codemirror_mode": {
    "name": "ipython",
    "version": 3
   },
   "file_extension": ".py",
   "mimetype": "text/x-python",
   "name": "python",
   "nbconvert_exporter": "python",
   "pygments_lexer": "ipython3",
   "version": "3.9.7"
  }
 },
 "nbformat": 4,
 "nbformat_minor": 5
}
