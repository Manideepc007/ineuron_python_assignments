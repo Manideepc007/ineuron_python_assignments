{
 "cells": [
  {
   "cell_type": "markdown",
   "id": "3d7c9013",
   "metadata": {},
   "source": [
    "#### 1. Please write a program using generator to print the numbers which can be divisible by 5 and 7 between 0 and n in comma separated form while n is input by console.\n",
    "\n",
    "Example:\n",
    "\n",
    "If the following n is given as input to the program: 100\n",
    "\n",
    "Then, the output of the program should be:\n",
    "`0,35,70`\n"
   ]
  },
  {
   "cell_type": "code",
   "execution_count": 21,
   "id": "f040bc55",
   "metadata": {},
   "outputs": [],
   "source": [
    "def gen_div():\n",
    "    n = int(input('Enter number: '))\n",
    "    for i in range(0,n+1):\n",
    "        if i % 5 ==0 and i % 7 == 0:\n",
    "            yield i"
   ]
  },
  {
   "cell_type": "code",
   "execution_count": 26,
   "id": "821a34b7",
   "metadata": {},
   "outputs": [
    {
     "name": "stdout",
     "output_type": "stream",
     "text": [
      "Enter number: 100\n",
      "0,35,70,"
     ]
    }
   ],
   "source": [
    "for i in gen_div():\n",
    "    print(i,end=\",\")"
   ]
  },
  {
   "cell_type": "markdown",
   "id": "9589df89",
   "metadata": {},
   "source": [
    "#### 2.Please write a program using generator to print the even numbers between 0 and n in comma separated form while n is input by console.\n",
    "\n",
    "Example:\n",
    "\n",
    "If the following n is given as input to the program:\n",
    "\n",
    "`10`\n",
    "\n",
    "Then, the output of the program should be:\n",
    "\n",
    "`0,2,4,6,8,10`\n"
   ]
  },
  {
   "cell_type": "code",
   "execution_count": 27,
   "id": "852ebe60",
   "metadata": {},
   "outputs": [],
   "source": [
    "def gen_even():\n",
    "    n = int(input('Enter number: '))\n",
    "    for i in range(0,n+1):\n",
    "        if i % 2 ==0:\n",
    "            yield i"
   ]
  },
  {
   "cell_type": "code",
   "execution_count": 29,
   "id": "5c0962a4",
   "metadata": {},
   "outputs": [
    {
     "name": "stdout",
     "output_type": "stream",
     "text": [
      "Enter number: 10\n",
      "0,2,4,6,8,10,"
     ]
    }
   ],
   "source": [
    "for i in gen_even():\n",
    "    print(i,end=',')"
   ]
  },
  {
   "cell_type": "markdown",
   "id": "8dd66479",
   "metadata": {},
   "source": [
    "#### 3.The Fibonacci Sequence is computed based on the following formula:\n",
    "\n",
    "`f(n)=0 if n=0`\n",
    "\n",
    "`f(n)=1 if n=1`\n",
    "\n",
    "`f(n)=f(n-1)+f(n-2) if n>1`\n",
    "\n",
    "Please write a program using list comprehension to print the Fibonacci Sequence in comma separated form with a given n input by console.\n",
    "\n",
    "Example:\n",
    "\n",
    "If the following n is given as input to the program:\n",
    "\n",
    "`7`\n",
    "\n",
    "Then, the output of the program should be:\n",
    "\n",
    "`0,1,1,2,3,5,8,13`\n"
   ]
  },
  {
   "cell_type": "code",
   "execution_count": 48,
   "id": "6cb1a1c1",
   "metadata": {},
   "outputs": [],
   "source": [
    "def fib_list():    \n",
    "    n=int(input('Enter number of fib series req: '))\n",
    "    mylist=[0,1]  \n",
    "    [mylist.append(mylist[-2]+mylist[-1]) for n in range(n-2)]\n",
    "    for i in mylist:\n",
    "        print(i,end=\",\")"
   ]
  },
  {
   "cell_type": "code",
   "execution_count": 49,
   "id": "291c009d",
   "metadata": {},
   "outputs": [
    {
     "name": "stdout",
     "output_type": "stream",
     "text": [
      "Enter number of fib series req: 10\n",
      "0,1,1,2,3,5,8,13,21,34,"
     ]
    }
   ],
   "source": [
    "fib_list()"
   ]
  },
  {
   "cell_type": "markdown",
   "id": "adc3b224",
   "metadata": {},
   "source": [
    "#### 5.Assuming that we have some email addresses in the \"username@companyname.com\" format, please write program to print the user name of a given email address. Both user names and company names are composed of letters only.\n",
    "\n",
    "Example:\n",
    "\n",
    "If the following email address is given as input to the program:\n",
    "\n",
    "`john@google.com`\n",
    "\n",
    "Then, the output of the program should be:\n",
    "\n",
    "`john`\n"
   ]
  },
  {
   "cell_type": "code",
   "execution_count": 60,
   "id": "92624635",
   "metadata": {},
   "outputs": [
    {
     "name": "stdout",
     "output_type": "stream",
     "text": [
      "Enter Email Address: john@google.com\n",
      "Username of john@google.com is john\n",
      "Enter Email Address: manimanideep345@gmail.com\n",
      "Username of manimanideep345@gmail.com is manimanideep345\n",
      "Enter Email Address: manideep.chinthalapally@yahoo.com\n",
      "Username of manideep.chinthalapally@yahoo.com is manideep.chinthalapally\n"
     ]
    }
   ],
   "source": [
    "def str_names():\n",
    "    string = input('Enter Email Address: ')\n",
    "    result = string.split('@')\n",
    "    print(f'Username of {string} is {result[0]}')\n",
    "for i in range(3):\n",
    "    str_names()"
   ]
  },
  {
   "cell_type": "markdown",
   "id": "aa5516ae",
   "metadata": {},
   "source": [
    "#### 5. Define a class named Shape and its subclass Square. The Square class has an init function which takes a length as argument. Both classes have a area function which can print the area of the shape where Shape's area is 0 by default."
   ]
  },
  {
   "cell_type": "code",
   "execution_count": 61,
   "id": "42fe0ca9",
   "metadata": {},
   "outputs": [
    {
     "name": "stdout",
     "output_type": "stream",
     "text": [
      "2500\n"
     ]
    }
   ],
   "source": [
    "class Shape:\n",
    "    def area(self):\n",
    "        return 0\n",
    "\n",
    "class Square(Shape):\n",
    "    def __init__(self, length):\n",
    "        self.length = length\n",
    "    def area(self):\n",
    "        return self.length*self.length\n",
    "\n",
    "square = Square(50)\n",
    "print(square.area())"
   ]
  },
  {
   "cell_type": "code",
   "execution_count": null,
   "id": "88631c38",
   "metadata": {},
   "outputs": [],
   "source": []
  }
 ],
 "metadata": {
  "kernelspec": {
   "display_name": "Python 3 (ipykernel)",
   "language": "python",
   "name": "python3"
  },
  "language_info": {
   "codemirror_mode": {
    "name": "ipython",
    "version": 3
   },
   "file_extension": ".py",
   "mimetype": "text/x-python",
   "name": "python",
   "nbconvert_exporter": "python",
   "pygments_lexer": "ipython3",
   "version": "3.9.7"
  }
 },
 "nbformat": 4,
 "nbformat_minor": 5
}
