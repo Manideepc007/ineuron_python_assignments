{
 "cells": [
  {
   "cell_type": "markdown",
   "id": "1e8430f7",
   "metadata": {},
   "source": [
    "#### 1.Create a function that takes an integer and returns a list from 1 to the given number, where:\n",
    "\n",
    "##### 1. If the number can be divided evenly by 4, amplify it by 10 (i.e. return 10 times the number).\n",
    "\n",
    "##### 2. If the number cannot be divided evenly by 4, simply return the number.\n",
    "\n",
    "Examples\n",
    "\n",
    "`amplify(4) ➞ [1, 2, 3, 40]`\n",
    "\n",
    "`amplify(3) ➞ [1, 2, 3]`\n",
    "\n",
    "`amplify(25) ➞ [1, 2, 3, 40, 5, 6, 7, 80, 9, 10, 11, 120, 13, 14, 15, 160, 17, 18, 19, 200, 21, 22, 23, 240, 25]`\n",
    "\n",
    "Notes\n",
    "\n",
    "** The given integer will always be equal to or greater than 1.**\n",
    "\n",
    "** Include the number (see example above).**\n",
    "\n",
    "** To perform this problem with its intended purpose, try doing it with list comprehensions. **\n",
    "\n",
    "** If that's too difficult, just solve the challenge any way you can.**"
   ]
  },
  {
   "cell_type": "code",
   "execution_count": 1,
   "id": "006a0759",
   "metadata": {},
   "outputs": [
    {
     "name": "stdout",
     "output_type": "stream",
     "text": [
      "[1, 2, 3, 40]\n",
      "[1, 2, 3]\n",
      "[1, 2, 3, 40, 5, 6, 7, 80, 9, 10, 11, 120, 13, 14, 15, 160, 17, 18, 19, 200, 21, 22, 23, 240, 25]\n"
     ]
    }
   ],
   "source": [
    "def amplify(n):\n",
    "    result = [i*10 if i % 4 ==0 else i for i in range(1,n+1)]\n",
    "    return(result)\n",
    "\n",
    "\n",
    "print(amplify(4))\n",
    "print(amplify(3))\n",
    "print(amplify(25))"
   ]
  },
  {
   "cell_type": "markdown",
   "id": "fccfff15",
   "metadata": {},
   "source": [
    "#### 2.Create a function that takes a list of numbers and return the number that&#39;s unique.\n",
    "\n",
    "Examples\n",
    "\n",
    "`unique([3, 3, 3, 7, 3, 3]) ➞ 7`\n",
    "\n",
    "`unique([0, 0, 0.77, 0, 0]) ➞ 0.77`\n",
    "\n",
    "`unique([0, 1, 1, 1, 1, 1, 1, 1]) ➞ 0`\n",
    "\n",
    "Notes\n",
    "\n",
    "**Test cases will always have exactly one unique number while all others are the same.**"
   ]
  },
  {
   "cell_type": "code",
   "execution_count": 2,
   "id": "a4ba4db3",
   "metadata": {},
   "outputs": [],
   "source": [
    "def unique(lst):\n",
    "    for i in set(lst):\n",
    "        if lst.count(i) == 1:\n",
    "            return i"
   ]
  },
  {
   "cell_type": "code",
   "execution_count": 3,
   "id": "e8323664",
   "metadata": {},
   "outputs": [
    {
     "name": "stdout",
     "output_type": "stream",
     "text": [
      "7\n",
      "0.77\n",
      "0\n"
     ]
    }
   ],
   "source": [
    "print(unique([3, 3, 3, 7, 3, 3]))\n",
    "print(unique([0, 0, 0.77, 0, 0]))\n",
    "print(unique([0, 1, 1, 1, 1, 1, 1, 1]))"
   ]
  },
  {
   "cell_type": "markdown",
   "id": "78dd460c",
   "metadata": {},
   "source": [
    "#### 3.Your task is to create a Circle constructor that creates a circle with a radius provided by an argument. The circles constructed must have two getters getArea() (PIr^2) andgetPerimeter() (2PI*r) which give both respective areas and perimeter (circumference).\n",
    "\n",
    "**For help with this class, I have provided you with a Rectangle constructor which you can use as a base example.**\n",
    "\n",
    "Examples\n",
    "\n",
    "circy = Circle(11)\n",
    "\n",
    "circy.getArea()\n",
    "\n",
    "**Should return 380.132711084365**\n",
    "\n",
    "`circy = Circle(4.44)`\n",
    "\n",
    "`circy.getPerimeter()`\n",
    "\n",
    "**Should return 27.897342763877365**\n",
    "\n",
    "Notes\n",
    "\n",
    "Round results up to the nearest integer."
   ]
  },
  {
   "cell_type": "code",
   "execution_count": 4,
   "id": "7898916a",
   "metadata": {},
   "outputs": [
    {
     "name": "stdout",
     "output_type": "stream",
     "text": [
      "380\n",
      "69\n"
     ]
    }
   ],
   "source": [
    "import math\n",
    "\n",
    "class Circle:\n",
    "    def __init__(self,radius):\n",
    "        self.radius = radius\n",
    "        \n",
    "    def getArea(self):\n",
    "        return round((math.pi*(self.radius**2)))\n",
    "    \n",
    "    def getPerimeter(self):\n",
    "        return round((2*math.pi*self.radius))\n",
    "    \n",
    "    \n",
    "circy = Circle(11)\n",
    "\n",
    "print(circy.getArea())\n",
    "print(circy.getPerimeter())"
   ]
  },
  {
   "cell_type": "markdown",
   "id": "afe7fe60",
   "metadata": {},
   "source": [
    "#### 4.Create a function that takes a list of strings and return a list, sorted from shortest to longest.\n",
    "**Examples:**  \n",
    "`sort_by_length([\"Google\", \"Apple\", \"Microsoft\"])`  \n",
    "`➞ [\"Apple\", \"Google\", \"Microsoft\"]`  \n",
    "`sort_by_length([\"Leonardo\", \"Michelangelo\", \"Raphael\", \"Donatello\"])`  \n",
    "`➞ [\"Raphael\", \"Leonardo\", \"Donatello\", \"Michelangelo\"]`  \n",
    "`sort_by_length([\"Turing\", \"Einstein\", \"Jung\"])`  \n",
    "`➞ [\"Jung\", \"Turing\", \"Einstein\"]`  \n",
    "\n",
    "**Notes:**  \n",
    "All test cases contain lists with strings of different lengths, so you won't have to deal with\n",
    "multiple strings of the same length."
   ]
  },
  {
   "cell_type": "code",
   "execution_count": 5,
   "id": "7ba002dc",
   "metadata": {},
   "outputs": [
    {
     "name": "stdout",
     "output_type": "stream",
     "text": [
      "['Apple', 'Google', 'Microsoft']\n",
      "['Raphael', 'Leonardo', 'Donatello', 'Michelangelo']\n",
      "['Jung', 'Turing', 'Einstein']\n"
     ]
    }
   ],
   "source": [
    "def sort_by_length(string):\n",
    "    print(sorted(string,key=len))\n",
    "\n",
    "sort_by_length([\"Google\", \"Apple\", \"Microsoft\"])\n",
    "sort_by_length([\"Leonardo\", \"Michelangelo\", \"Raphael\", \"Donatello\"])\n",
    "sort_by_length([\"Turing\", \"Einstein\", \"Jung\"])"
   ]
  },
  {
   "cell_type": "markdown",
   "id": "7193af12",
   "metadata": {},
   "source": [
    "#### 5.Create a function that validates whether three given integers form a Pythagorean triplet. The sum of the squares of the two smallest integers must equal the square of the largest number to be validated.\n",
    "\n",
    "Examples\n",
    "\n",
    "is_triplet(3, 4, 5) ➞ True\n",
    "\n",
    "`3² + 4² = 25`\n",
    "\n",
    "`5² = 25`\n",
    "\n",
    "is_triplet(13, 5, 12) ➞ True\n",
    "\n",
    "`5² + 12² = 169`\n",
    "\n",
    "`13² = 169`\n",
    "\n",
    "is_triplet(1, 2, 3) ➞ False\n",
    "\n",
    "`1² + 2² = 5`\n",
    "\n",
    "`3² = 9`\n",
    "\n",
    "**Notes: Numbers may not be given in a sorted order.**"
   ]
  },
  {
   "cell_type": "code",
   "execution_count": 6,
   "id": "b7e171d6",
   "metadata": {},
   "outputs": [
    {
     "name": "stdout",
     "output_type": "stream",
     "text": [
      "True\n",
      "True\n",
      "False\n"
     ]
    }
   ],
   "source": [
    "def triplet(*args):\n",
    "    l = []\n",
    "    l.extend(args)\n",
    "    l = sorted(l)\n",
    "    if l[0]**2 + l[1]**2 == l[2]**2:\n",
    "        return True\n",
    "    return False\n",
    "\n",
    "print(triplet(3, 4, 5))\n",
    "print(triplet(13, 5, 12))\n",
    "print(triplet(1, 2, 3))"
   ]
  },
  {
   "cell_type": "code",
   "execution_count": null,
   "id": "5b89642a",
   "metadata": {},
   "outputs": [],
   "source": []
  }
 ],
 "metadata": {
  "kernelspec": {
   "display_name": "Python 3 (ipykernel)",
   "language": "python",
   "name": "python3"
  },
  "language_info": {
   "codemirror_mode": {
    "name": "ipython",
    "version": 3
   },
   "file_extension": ".py",
   "mimetype": "text/x-python",
   "name": "python",
   "nbconvert_exporter": "python",
   "pygments_lexer": "ipython3",
   "version": "3.9.7"
  }
 },
 "nbformat": 4,
 "nbformat_minor": 5
}
