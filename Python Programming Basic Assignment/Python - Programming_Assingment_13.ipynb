{
 "cells": [
  {
   "cell_type": "code",
   "execution_count": null,
   "id": "5b98990f",
   "metadata": {},
   "outputs": [],
   "source": [
    "\n",
    "Question 3:\n",
    "Write a program that accepts a comma separated sequence of words as input and prints the words in a comma-separated sequence after sorting them alphabetically.\n",
    "Suppose the following input is supplied to the program:\n",
    "without,hello,bag,world\n",
    "Then, the output should be:\n",
    "bag,hello,without,world\n",
    "Question 4:\n",
    "Write a program that accepts a sequence of whitespace separated words as input and prints the words after removing all duplicate words and sorting them alphanumerically.\n",
    "Suppose the following input is supplied to the program:\n",
    "hello world and practice makes perfect and hello world again\n",
    "Then, the output should be:\n",
    "again and hello makes perfect practice world\n",
    "Question 5:\n",
    "Write a program that accepts a sentence and calculate the number of letters and digits.\n",
    "Suppose the following input is supplied to the program:\n",
    "Then, the output should be:\n",
    "LETTERS 10\n",
    "DIGITS 3\n",
    "Question 6:\n",
    "A website requires the users to input username and password to register. Write a program to check the validity of password input by users.\n",
    "Following are the criteria for checking the password:\n",
    "1. At least 1 letter between [a-z]\n",
    "2. At least 1 number between [0-9]\n",
    "1. At least 1 letter between [A-Z]\n",
    "3. At least 1 character from [$#@]\n",
    "4. Minimum length of transaction password: 6\n",
    "5. Maximum length of transaction password: 12\n",
    "Your program should accept a sequence of comma separated passwords and will check them according to the above criteria. Passwords that match the criteria are to be printed, each separated by a comma.\n",
    "Example\n",
    "If the following passwords are given as input to the program:\n",
    "ABd1234@1,a F1#,2w3E*,2We3345\n",
    "Then, the output of the program should be:\n",
    "ABd1234@1"
   ]
  },
  {
   "cell_type": "markdown",
   "id": "b2341901",
   "metadata": {},
   "source": [
    "#### 1.Write a program that calculates and prints the value according to the given formula:\n",
    "`Q = Square root of [(2 * C * D)/H]`  \n",
    "Following are the fixed values of C and H:  \n",
    "C is 50. H is 30.  \n",
    "D is the variable whose values should be input to your program in a comma-separated sequence.  \n",
    "**Example:** Let us assume the following comma separated input sequence is given to the program:`100,150,180`  \n",
    "The output of the program should be:  `18,22,24` "
   ]
  },
  {
   "cell_type": "code",
   "execution_count": 35,
   "id": "38a0fbf6",
   "metadata": {},
   "outputs": [],
   "source": []
  },
  {
   "cell_type": "code",
   "execution_count": 40,
   "id": "d16d4cbc",
   "metadata": {},
   "outputs": [
    {
     "name": "stdout",
     "output_type": "stream",
     "text": [
      "Enter the number with comma separeated: 100,150,180\n",
      "output is 18,22,24\n"
     ]
    }
   ],
   "source": [
    "import math\n",
    "def formula():\n",
    "    d = eval(input('Enter the number with comma separeated: '))\n",
    "    output = []\n",
    "    for i in d:\n",
    "        result = str(int(math.sqrt((2*50*i)/30)))\n",
    "        output.append(result)\n",
    "    print ('output is {}'.format(','.join(output)))\n",
    "formula()"
   ]
  },
  {
   "cell_type": "markdown",
   "id": "235d7e91",
   "metadata": {},
   "source": [
    "#### 2.Write a program which takes 2 digits, X,Y as input and generates a 2-dimensional array. The element value in the i-th row and j-th column of the array should be i*j.     \n",
    "`Note: i=0,1.., X-1; j=0,1,¡Y-1.`   \n",
    "**Example:** Suppose the following inputs are given to the program: `3,5`   \n",
    "Then, the output of the program should be:`[[0, 0, 0, 0, 0], [0, 1, 2, 3, 4], [0, 2, 4, 6, 8]]`   "
   ]
  },
  {
   "cell_type": "code",
   "execution_count": 39,
   "id": "25ab5da2",
   "metadata": {},
   "outputs": [
    {
     "name": "stdout",
     "output_type": "stream",
     "text": [
      "Enter the No of Rows:3\n",
      "Enter the No of Columns:5\n",
      "[[0, 0, 0, 0, 0], [0, 1, 2, 3, 4], [0, 2, 4, 6, 8]]\n"
     ]
    }
   ],
   "source": [
    "import array\n",
    "def generate_array():\n",
    "    rows = int(input('Enter the No of Rows:'))\n",
    "    cols = int(input('Enter the No of Columns:')) \n",
    "    result = []\n",
    "    for i in range(rows):\n",
    "        result.insert(rows,[])\n",
    "        for j in range(cols):\n",
    "            result[i].append(i*j)\n",
    "    print(result)\n",
    "    \n",
    "generate_array()"
   ]
  },
  {
   "cell_type": "markdown",
   "id": "d5e49d6e",
   "metadata": {},
   "source": [
    "#### 3.Write a program that accepts a comma separated sequence of words as input and prints the words in a comma-separated sequence after sorting them alphabetically.\n",
    "\n",
    "Suppose the following input is supplied to the program:\n",
    "\n",
    "`without,hello,bag,world`\n",
    "\n",
    "**Then, the output should be:**\n",
    "\n",
    "`bag,hello,without,world`\n"
   ]
  },
  {
   "cell_type": "code",
   "execution_count": 41,
   "id": "e8170fb3",
   "metadata": {},
   "outputs": [
    {
     "name": "stdout",
     "output_type": "stream",
     "text": [
      "Enter the Input String: without,hello,bag,world\n",
      "Output: bag,hello,without,world\n"
     ]
    }
   ],
   "source": [
    "def sort_string():\n",
    "    data = input(\"Enter the Input String: \")\n",
    "    output = ','.join(sorted(data.split(',')))\n",
    "    print(f'Output: {output}')\n",
    "    \n",
    "sort_string()"
   ]
  },
  {
   "cell_type": "markdown",
   "id": "df3e1384",
   "metadata": {},
   "source": [
    "#### 4.Write a program that accepts a sequence of whitespace separated words as input and prints the words after removing all duplicate words and sorting them alphanumerically.\n",
    "\n",
    "Suppose the following input is supplied to the program:\n",
    "\n",
    "`hello world and practice makes perfect and hello world again`\n",
    "\n",
    "**Then, the output should be:**\n",
    "    \n",
    "`again and hello makes perfect practice world`"
   ]
  },
  {
   "cell_type": "code",
   "execution_count": 45,
   "id": "c4f0c179",
   "metadata": {},
   "outputs": [
    {
     "name": "stdout",
     "output_type": "stream",
     "text": [
      "Enter the Input String: hello world and practice makes perfect and hello world again\n",
      "Output: again and hello makes perfect practice world\n"
     ]
    }
   ],
   "source": [
    "def sort_alphanumerically():\n",
    "    data = input(\"Enter the Input String: \")\n",
    "    output = ' '.join(sorted(list(set(data.split(\" \")))))\n",
    "    print(f'Output: {output}')\n",
    "    \n",
    "sort_alphanumerically()"
   ]
  },
  {
   "cell_type": "markdown",
   "id": "82b5cc7a",
   "metadata": {},
   "source": [
    "#### 5.Write a program that accepts a sentence and calculate the number of letters and digits.\n",
    "\n",
    "Suppose the following input is supplied to the program:\n",
    "\n",
    "\n",
    "`hello world! 123`\n",
    "\n",
    "\n",
    "\n",
    "**Then, the output should be:**\n",
    "\n",
    "`LETTERS 10`\n",
    "\n",
    "`DIGITS 3`\n"
   ]
  },
  {
   "cell_type": "code",
   "execution_count": 48,
   "id": "57aef46a",
   "metadata": {},
   "outputs": [
    {
     "name": "stdout",
     "output_type": "stream",
     "text": [
      "Enter the Input String: hello world! 123\n",
      "LETTERS 10 \n",
      "DIGITS 3\n"
     ]
    }
   ],
   "source": [
    "def letters_and_digits_count():\n",
    "    data = input(\"Enter the Input String: \")\n",
    "    letters_data = 'ABCDEFGHIJKLMNOPQRSTUVWXYZabcdefghijklmnopqrstuvwxyz'\n",
    "    digits_data = '0123456789'\n",
    "    letters = 0\n",
    "    digits = 0\n",
    "    for i in data:\n",
    "        if i in letters_data:\n",
    "            letters += 1\n",
    "        if i in digits_data:\n",
    "            digits += 1\n",
    "    print(f'LETTERS {letters} \\nDIGITS {digits}')\n",
    "        \n",
    "letters_and_digits_count()"
   ]
  },
  {
   "cell_type": "markdown",
   "id": "87dd48ff",
   "metadata": {},
   "source": [
    "#### 6.A website requires the users to input username and password to register. Write a program to check the validity of password input by users.\n",
    "\n",
    "Following are the criteria for checking the password:\n",
    "\n",
    "**1. At least 1 letter between [a-z]**\n",
    "\n",
    "**2. At least 1 number between [0-9]**\n",
    "\n",
    "**1. At least 1 letter between [A-Z]**\n",
    "\n",
    "**3. At least 1 character from [$#@]**\n",
    "\n",
    "**4. Minimum length of transaction password: 6**\n",
    "\n",
    "**5. Maximum length of transaction password: 12**\n",
    "\n",
    "Your program should accept a sequence of comma separated passwords and will check them according to the above criteria. Passwords that match the criteria are to be printed, each separated by a comma.\n",
    "\n",
    "Example\n",
    "\n",
    "If the following passwords are given as input to the program:\n",
    "\n",
    "`ABd1234@1,a F1#,2w3E*,2We3345`\n",
    "\n",
    "Then, the output of the program should be:\n",
    "\n",
    "`ABd1234@1`\n"
   ]
  },
  {
   "cell_type": "code",
   "execution_count": 50,
   "id": "4fdc7926",
   "metadata": {},
   "outputs": [
    {
     "name": "stdout",
     "output_type": "stream",
     "text": [
      "Enter the Input String: ABd1234@1,a F1#,2w3E*,2We3345\n",
      "ABd1234@1\n"
     ]
    }
   ],
   "source": [
    "def password_check():\n",
    "    data = input(\"Enter the Input String: \")\n",
    "    alpha_small = \"abcdefghijklmnopqrstuvwxyz\"\n",
    "    alpha_cap = \"ABCDEFGHIJKLMNOPQRSTUVWXYZ\"\n",
    "    numbers = \"0123456789\"\n",
    "    spl_char = \"$#@\"\n",
    "    for i in data.split(\",\"):\n",
    "        if len(i) <= 12 and len(i) >=6 :\n",
    "            if any(j.isupper() for j in i):\n",
    "                if any(j.islower() for j in i):\n",
    "                    if any(j for j in i if j in spl_char):\n",
    "                        print(i)\n",
    "                               \n",
    "password_check() "
   ]
  },
  {
   "cell_type": "code",
   "execution_count": null,
   "id": "0944097e",
   "metadata": {},
   "outputs": [],
   "source": []
  }
 ],
 "metadata": {
  "kernelspec": {
   "display_name": "Python 3 (ipykernel)",
   "language": "python",
   "name": "python3"
  },
  "language_info": {
   "codemirror_mode": {
    "name": "ipython",
    "version": 3
   },
   "file_extension": ".py",
   "mimetype": "text/x-python",
   "name": "python",
   "nbconvert_exporter": "python",
   "pygments_lexer": "ipython3",
   "version": "3.9.7"
  }
 },
 "nbformat": 4,
 "nbformat_minor": 5
}
