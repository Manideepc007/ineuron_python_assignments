{
 "cells": [
  {
   "cell_type": "markdown",
   "id": "2bccefc2",
   "metadata": {},
   "source": [
    "1. Write a Python Program to Add Two Matrices?\n"
   ]
  },
  {
   "cell_type": "code",
   "execution_count": 1,
   "id": "5361b469",
   "metadata": {},
   "outputs": [],
   "source": [
    "def add_mat(a,b):\n",
    "    if len(a) == len(b):\n",
    "        result = []\n",
    "        # iterate through rows\n",
    "        for i in range(len(a)):\n",
    "            if len(a[i]) == len(b[i]):\n",
    "                result.append([])\n",
    "                # iterate through columns\n",
    "                for j in range(len(a[i])):\n",
    "                    result[i].append(a[i][j] + b[i][j])\n",
    "    print(result)"
   ]
  },
  {
   "cell_type": "code",
   "execution_count": 2,
   "id": "7d84eff9",
   "metadata": {},
   "outputs": [],
   "source": [
    "def add_mat_list_compre(a,b):\n",
    "    if len(a) == len(b):\n",
    "        result = [[a[i][j]+b[i][j] for j in range(len(a[0]))] for i in range(len(a))]\n",
    "        print(result)"
   ]
  },
  {
   "cell_type": "code",
   "execution_count": 3,
   "id": "8057b700",
   "metadata": {},
   "outputs": [],
   "source": [
    "a = [[1,2,3],[4,5,6],[7,8,9]]\n",
    "b = [[15,28,11],[16,71,31],[14,15,9]]"
   ]
  },
  {
   "cell_type": "code",
   "execution_count": 4,
   "id": "085383fd",
   "metadata": {},
   "outputs": [
    {
     "name": "stdout",
     "output_type": "stream",
     "text": [
      "[[16, 30, 14], [20, 76, 37], [21, 23, 18]]\n"
     ]
    }
   ],
   "source": [
    "add_mat(a,b)"
   ]
  },
  {
   "cell_type": "code",
   "execution_count": 5,
   "id": "07671aea",
   "metadata": {},
   "outputs": [
    {
     "name": "stdout",
     "output_type": "stream",
     "text": [
      "[[16, 30, 14], [20, 76, 37], [21, 23, 18]]\n"
     ]
    }
   ],
   "source": [
    "add_mat_list_compre(a,b)"
   ]
  },
  {
   "cell_type": "markdown",
   "id": "ec8d818b",
   "metadata": {},
   "source": [
    "2. Write a Python Program to Multiply Two Matrices?"
   ]
  },
  {
   "cell_type": "code",
   "execution_count": 6,
   "id": "b9a6929f",
   "metadata": {},
   "outputs": [],
   "source": [
    "def mul_mat(a,b):\n",
    "    result = [[sum(i*j for i,j in zip(a_row,b_col)) for b_col in zip(*b)] for a_row in a]\n",
    "    print(result)"
   ]
  },
  {
   "cell_type": "code",
   "execution_count": 7,
   "id": "932e58c7",
   "metadata": {},
   "outputs": [],
   "source": [
    "a = [[1,2,3],[4,5,6],[7,8,9]]\n",
    "b = [[15,28,11],[16,71,31],[14,15,9]]"
   ]
  },
  {
   "cell_type": "code",
   "execution_count": 8,
   "id": "aa80ec41",
   "metadata": {},
   "outputs": [
    {
     "name": "stdout",
     "output_type": "stream",
     "text": [
      "[[89, 215, 100], [224, 557, 253], [359, 899, 406]]\n"
     ]
    }
   ],
   "source": [
    "mul_mat(a,b)"
   ]
  },
  {
   "cell_type": "markdown",
   "id": "9e92ec46",
   "metadata": {},
   "source": [
    "3. Write a Python Program to Transpose a Matrix?"
   ]
  },
  {
   "cell_type": "code",
   "execution_count": 9,
   "id": "cb1f7441",
   "metadata": {},
   "outputs": [],
   "source": [
    "def trans_mat(X):\n",
    "    result = [[X[j][i] for j in range(len(X))] for i in range(len(X[0]))]\n",
    "    print(result)"
   ]
  },
  {
   "cell_type": "code",
   "execution_count": 10,
   "id": "eb394b6d",
   "metadata": {},
   "outputs": [],
   "source": [
    "a = [[1,2,3],[4,5,6],[7,8,9]]"
   ]
  },
  {
   "cell_type": "code",
   "execution_count": 11,
   "id": "5b056fcb",
   "metadata": {},
   "outputs": [
    {
     "name": "stdout",
     "output_type": "stream",
     "text": [
      "[[1, 4, 7], [2, 5, 8], [3, 6, 9]]\n"
     ]
    }
   ],
   "source": [
    "trans_mat(a)"
   ]
  },
  {
   "cell_type": "markdown",
   "id": "5fb952a1",
   "metadata": {},
   "source": [
    "4. Write a Python Program to Sort Words in Alphabetic Order?"
   ]
  },
  {
   "cell_type": "code",
   "execution_count": 12,
   "id": "2403886f",
   "metadata": {},
   "outputs": [],
   "source": [
    "def sort_string():\n",
    "    string = input(\"Enter a String: \").title()\n",
    "    sorted_list = sorted(string.split(' '))\n",
    "    print(' '.join(sorted_list))"
   ]
  },
  {
   "cell_type": "code",
   "execution_count": 13,
   "id": "1b821082",
   "metadata": {},
   "outputs": [
    {
     "name": "stdout",
     "output_type": "stream",
     "text": [
      "Enter a String: Write a Python Program to Sort Words in Alphabetic Order?\n",
      "A Alphabetic In Order? Program Python Sort To Words Write\n"
     ]
    }
   ],
   "source": [
    "sort_string()"
   ]
  },
  {
   "cell_type": "markdown",
   "id": "3afe00e7",
   "metadata": {},
   "source": [
    "5. Write a Python Program to Remove Punctuation From a String?"
   ]
  },
  {
   "cell_type": "code",
   "execution_count": 14,
   "id": "8d1b9ebf",
   "metadata": {},
   "outputs": [],
   "source": [
    "def remove_Punct():\n",
    "    punctuations = '''!()-[]{};:'\"\\,<>./?@#$%^&*_~'''\n",
    "    string = input('Enter a String: ')\n",
    "    result = ''\n",
    "    for ele in string:\n",
    "        if ele not in punctuations:\n",
    "            result += ele\n",
    "    print(result)"
   ]
  },
  {
   "cell_type": "code",
   "execution_count": 15,
   "id": "00302816",
   "metadata": {},
   "outputs": [
    {
     "name": "stdout",
     "output_type": "stream",
     "text": [
      "Enter a String: Write a Python -[]{};:'\"\\,< Program to Remove Punctuation From a String?\n",
      "Write a Python  Program to Remove Punctuation From a String\n"
     ]
    }
   ],
   "source": [
    "remove_Punct()"
   ]
  },
  {
   "cell_type": "code",
   "execution_count": null,
   "id": "04e828f8",
   "metadata": {},
   "outputs": [],
   "source": []
  }
 ],
 "metadata": {
  "kernelspec": {
   "display_name": "Python 3 (ipykernel)",
   "language": "python",
   "name": "python3"
  },
  "language_info": {
   "codemirror_mode": {
    "name": "ipython",
    "version": 3
   },
   "file_extension": ".py",
   "mimetype": "text/x-python",
   "name": "python",
   "nbconvert_exporter": "python",
   "pygments_lexer": "ipython3",
   "version": "3.9.7"
  }
 },
 "nbformat": 4,
 "nbformat_minor": 5
}
