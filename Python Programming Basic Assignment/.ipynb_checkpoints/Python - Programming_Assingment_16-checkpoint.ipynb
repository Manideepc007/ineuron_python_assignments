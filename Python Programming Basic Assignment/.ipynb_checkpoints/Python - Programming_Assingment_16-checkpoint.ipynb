{
 "cells": [
  {
   "cell_type": "markdown",
   "id": "e3d0c6bf",
   "metadata": {},
   "source": [
    "#### 1. Write a function that stutters a word as if someone is struggling to read it. The first two letters are repeated twice with an ellipsis ... and space after each, and then the word is pronounced with a question mark ?.\n",
    "\n",
    "Examples\n",
    "\n",
    "`stutter(\"incredible\") ➞ \"in... in... incredible?\"`\n",
    "\n",
    "`stutter(\"enthusiastic\") ➞ \"en... en... enthusiastic?\"`\n",
    "\n",
    "`stutter(\"outstanding\") ➞ \"ou... ou... outstanding?\"`\n",
    "\n",
    "Hint :- Assume all input is in lower case and at least two characters long.\n"
   ]
  },
  {
   "cell_type": "code",
   "execution_count": 26,
   "id": "909f9d57",
   "metadata": {},
   "outputs": [
    {
     "name": "stdout",
     "output_type": "stream",
     "text": [
      "in... in... incredible?\n",
      "Length of the word should be greater than or equal to 2\n",
      "le... le... le?\n"
     ]
    }
   ],
   "source": [
    "def stutter(word):\n",
    "    word = word.lower()\n",
    "    if len(word) >=2: \n",
    "        print(((word[0:2]+'... ')*2)+word+\"?\")\n",
    "    else:\n",
    "        print('Length of the word should be greater than or equal to 2')\n",
    "\n",
    "stutter(\"incredible\")\n",
    "stutter(\"i\")\n",
    "stutter(\"le\")"
   ]
  },
  {
   "cell_type": "markdown",
   "id": "12113855",
   "metadata": {},
   "source": [
    "#### 2.Create a function that takes an angle in radians and returns the corresponding angle in degrees rounded to one decimal place.\n",
    "\n",
    "Examples\n",
    "\n",
    "`radians_to_degrees(1) ➞ 57.3`\n",
    "\n",
    "`radians_to_degrees(20) ➞ 1145.9`\n",
    "\n",
    "`radians_to_degrees(50) ➞ 2864.8`"
   ]
  },
  {
   "cell_type": "code",
   "execution_count": 28,
   "id": "5c6a8227",
   "metadata": {},
   "outputs": [
    {
     "name": "stdout",
     "output_type": "stream",
     "text": [
      "Enter the angle in Radians: 10\n",
      "10 radian(s) is 573.0 degrees\n",
      "Enter the angle in Radians: 20\n",
      "20 radian(s) is 1145.9 degrees\n",
      "Enter the angle in Radians: 21\n",
      "21 radian(s) is 1203.2 degrees\n"
     ]
    }
   ],
   "source": [
    "import math\n",
    "def rad_deg():\n",
    "    number = int(input('Enter the angle in Radians: '))\n",
    "    result = (180/math.pi)*number\n",
    "    print(f'{number} radian(s) is {result:.1f} degrees')\n",
    "\n",
    "for x in range(3):\n",
    "    rad_deg()"
   ]
  },
  {
   "cell_type": "markdown",
   "id": "a6efd32a",
   "metadata": {},
   "source": [
    "#### 3. In this challenge, establish if a given integer num is a Curzon number. If 1 plus 2 elevated to num is exactly divisible by 1 plus 2 multiplied by num, then num is a Curzon number.\n",
    "\n",
    "Given a non-negative integer num, implement a function that returns True if num is a Curzon number, or False otherwise.\n",
    "\n",
    "Examples\n",
    "\n",
    "is_curzon(5) ➞ True\n",
    "\n",
    "`2 ** 5 + 1 = 33`\n",
    "`2 * 5 + 1 = 11`\n",
    "`33 is a multiple of 11`\n",
    "\n",
    "is_curzon(10) ➞ False\n",
    "\n",
    "`2 ** 10 + 1 = 1025`\n",
    "`2 * 10 + 1 = 21`\n",
    "`1025 is not a multiple of 21`\n",
    "\n",
    "is_curzon(14) ➞ True\n",
    "\n",
    "`2 ** 14 + 1 = 16385`\n",
    "`2 * 14 + 1 = 29`\n",
    "`16385 is a multiple of 29`\n"
   ]
  },
  {
   "cell_type": "code",
   "execution_count": 29,
   "id": "b2889c1a",
   "metadata": {},
   "outputs": [
    {
     "name": "stdout",
     "output_type": "stream",
     "text": [
      "Enter a number: 10\n",
      "10 is Not a Curzon Number\n",
      "Enter a number: 5\n",
      "5 is a Curzon Number\n",
      "Enter a number: 10\n",
      "10 is Not a Curzon Number\n",
      "Enter a number: 14\n",
      "14 is a Curzon Number\n"
     ]
    }
   ],
   "source": [
    "def Curzon_num():\n",
    "    num = int(input(\"Enter a number: \"))\n",
    "    if (pow(2,num)+1)%((2*num)+1) == 0:\n",
    "        print(f'{num} is a Curzon Number')\n",
    "    else:\n",
    "        print(f'{num} is Not a Curzon Number')\n",
    "\n",
    "for x in range(4):\n",
    "    Curzon_num()"
   ]
  },
  {
   "cell_type": "markdown",
   "id": "2c5f8547",
   "metadata": {},
   "source": [
    "#### 4.Given the side length x find the area of a hexagon ?\n",
    "**Examples:**\n",
    "`area_of_hexagon(1) ➞ 2.6`  \n",
    "`area_of_hexagon(2) ➞ 10.4`  \n",
    "`area_of_hexagon(3) ➞ 23.4`  \n",
    "\n",
    "**Examples:**\n",
    "\n",
    "`area_of_hexagon(1) ➞ 2.6`\n",
    "\n",
    "`area_of_hexagon(2) ➞ 10.4`\n",
    "\n",
    "`area_of_hexagon(3) ➞ 23.4`"
   ]
  },
  {
   "cell_type": "code",
   "execution_count": 33,
   "id": "23fec75b",
   "metadata": {},
   "outputs": [
    {
     "name": "stdout",
     "output_type": "stream",
     "text": [
      "Enter the side length of a Hexagon: 1\n",
      "Area for Hexagon of sidelength 1 ➞ 2.6\n",
      "Enter the side length of a Hexagon: 2\n",
      "Area for Hexagon of sidelength 2 ➞ 10.4\n",
      "Enter the side length of a Hexagon: 3\n",
      "Area for Hexagon of sidelength 3 ➞ 23.4\n"
     ]
    }
   ],
   "source": [
    "import math\n",
    "def hex_area():\n",
    "    num = int(input('Enter the side length of a Hexagon: '))\n",
    "    result = ((3*math.sqrt(3))/2)*(pow(num,2))\n",
    "    print(f'Area for Hexagon of sidelength {num} ➞ {result:.1f}')\n",
    "    \n",
    "for x in range(3):\n",
    "    hex_area()"
   ]
  },
  {
   "cell_type": "markdown",
   "id": "540de386",
   "metadata": {},
   "source": [
    "#### 5. Create a function that returns a base-2 (binary) representation of a base-10 (decimal) string number. To convert is simple: ((2) means base-2 and (10) means base-10) 010101001(2) = 1 + 8 + 32 + 128.\n",
    "\n",
    "Going from right to left, the value of the most right bit is 1, now from that every bit to the left will be x2 the value, value of an 8 bit binary numbers are (256, 128, 64, 32, 16, 8, 4, 2, 1).\n",
    "\n",
    "Examples\n",
    "\n",
    "binary(1) ➞ \"1\"\n",
    "\n",
    "`1*1 = 1`\n",
    "\n",
    "binary(5) ➞ \"101\"\n",
    "\n",
    "`1*1 + 1*4 = 5`\n",
    "\n",
    "binary(10) ➞ \"1010\"\n",
    "\n",
    "`1*2 + 1*8 = 10`\n"
   ]
  },
  {
   "cell_type": "code",
   "execution_count": 34,
   "id": "c18157f1",
   "metadata": {},
   "outputs": [
    {
     "name": "stdout",
     "output_type": "stream",
     "text": [
      "Enter a Number: 1\n",
      "Binary of 1 ➞ 1\n",
      "Enter a Number: 5\n",
      "Binary of 5 ➞ 101\n",
      "Enter a Number: 10\n",
      "Binary of 10 ➞ 1010\n"
     ]
    }
   ],
   "source": [
    "def binary_num():\n",
    "    num = int(input(\"Enter a Number: \"))\n",
    "    result = bin(num).replace('0b','') \n",
    "    print(f'Binary of {num} ➞ {result}')\n",
    "\n",
    "for x in range(3):\n",
    "    binary_num()"
   ]
  },
  {
   "cell_type": "code",
   "execution_count": null,
   "id": "e5527f64",
   "metadata": {},
   "outputs": [],
   "source": []
  }
 ],
 "metadata": {
  "kernelspec": {
   "display_name": "Python 3 (ipykernel)",
   "language": "python",
   "name": "python3"
  },
  "language_info": {
   "codemirror_mode": {
    "name": "ipython",
    "version": 3
   },
   "file_extension": ".py",
   "mimetype": "text/x-python",
   "name": "python",
   "nbconvert_exporter": "python",
   "pygments_lexer": "ipython3",
   "version": "3.9.7"
  }
 },
 "nbformat": 4,
 "nbformat_minor": 5
}
