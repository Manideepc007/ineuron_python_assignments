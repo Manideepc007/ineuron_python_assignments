{
 "cells": [
  {
   "cell_type": "markdown",
   "id": "78bf5d21",
   "metadata": {},
   "source": [
    "#### 1.create a function that takes three parameters where:\n",
    "\n",
    "x is the start of the range (inclusive).\n",
    "\n",
    "y is the end of the range (inclusive).\n",
    "\n",
    "n is the divisor to be checked against.\n",
    "\n",
    "Return an ordered list with numbers in the range that are divisible by the third parameter n. Return an empty list if there are no numbers that are divisible by n.\n",
    "\n",
    "Examples\n",
    "\n",
    "`list_operation(1, 10, 3) ➞ [3, 6, 9]\n",
    "\n",
    "list_operation(7, 9, 2) ➞ [8]\n",
    "\n",
    "list_operation(15, 20, 7) ➞ []`"
   ]
  },
  {
   "cell_type": "code",
   "execution_count": 13,
   "id": "8c0cf72f",
   "metadata": {},
   "outputs": [
    {
     "name": "stdout",
     "output_type": "stream",
     "text": [
      "[3, 6, 9]\n",
      "[8]\n",
      "[]\n"
     ]
    }
   ],
   "source": [
    "def list_operation(a,b,n):\n",
    "    result = []\n",
    "    for i in range(a,b+1):\n",
    "        if i % n ==0:\n",
    "            result.append(i)\n",
    "    return result\n",
    "\n",
    "print(list_operation(1,10,3))\n",
    "print(list_operation(7,9,2))\n",
    "print(list_operation(15,20,7))"
   ]
  },
  {
   "cell_type": "markdown",
   "id": "94200bcb",
   "metadata": {},
   "source": [
    "#### 2.Create a function that takes in two lists and returns True if the second list follows the first list by one element, and False otherwise. In other words, determine if the second list is the first list shifted to the right by 1.\n",
    "\n",
    "Examples\n",
    "\n",
    "simon_says([1, 2], [5, 1]) ➞ True\n",
    "\n",
    "simon_says([1, 2], [5, 5]) ➞ False\n",
    "\n",
    "simon_says([1, 2, 3, 4, 5], [0, 1, 2, 3, 4]) ➞ True\n",
    "\n",
    "simon_says([1, 2, 3, 4, 5], [5, 5, 1, 2, 3]) ➞ False\n",
    "\n",
    "Notes\n",
    "\n",
    "Both input lists will be of the same length, and will have a minimum length of 2.\n",
    "\n",
    "The values of the 0-indexed element in the second list and the n-1th indexed element in the first list do not matter."
   ]
  },
  {
   "cell_type": "code",
   "execution_count": 14,
   "id": "f7c2a9f5",
   "metadata": {},
   "outputs": [
    {
     "name": "stdout",
     "output_type": "stream",
     "text": [
      "([1, 2], [5, 1]) ➞ True\n",
      "([1, 2], [5, 5]) ➞ False\n",
      "([1, 2, 3, 4, 5], [0, 1, 2, 3, 4]) ➞ True\n",
      "([1, 2, 3, 4, 5], [5, 5, 1, 2, 3]) ➞ False\n"
     ]
    }
   ],
   "source": [
    "def simon_says(list_1,list_2):\n",
    "    if len(list_1) == len(list_2) and len(list_1) >=2 and len(list_2) >=2:\n",
    "        if(list_1[:-1] == list_2[1:]):\n",
    "            print(f'{list_1,list_2} ➞ {True}')\n",
    "        else:\n",
    "            print(f'{list_1,list_2} ➞ {False}')\n",
    "            \n",
    "simon_says([1, 2], [5, 1])\n",
    "simon_says([1, 2], [5, 5])\n",
    "simon_says([1, 2, 3, 4, 5], [0, 1, 2, 3, 4])\n",
    "simon_says([1, 2, 3, 4, 5], [5, 5, 1, 2, 3])"
   ]
  },
  {
   "cell_type": "markdown",
   "id": "370a1c42",
   "metadata": {},
   "source": [
    "#### 3.A group of friends have decided to start a secret society. The name will be the first letter of each of their names, sorted in alphabetical order.\n",
    "\n",
    "Create a function that takes in a list of names and returns the name of the secret society.\n",
    "\n",
    "Examples\n",
    "\n",
    "`society_name([\"Adam\", \"Sarah\", \"Malcolm\"]) ➞ \"AMS\"\n",
    "\n",
    "society_name([\"Harry\", \"Newt\", \"Luna\", \"Cho\"]) ➞ \"CHLN\"\n",
    "\n",
    "society_name([\"Phoebe\", \"Chandler\", \"Rachel\", \"Ross\", \"Monica\", \"Joey\"])`\n"
   ]
  },
  {
   "cell_type": "code",
   "execution_count": 18,
   "id": "8940bbea",
   "metadata": {},
   "outputs": [
    {
     "name": "stdout",
     "output_type": "stream",
     "text": [
      "['Adam', 'Sarah', 'Malcolm'] ➞ AMS\n",
      "['Harry', 'Newt', 'Luna', 'Cho'] ➞ CHLN\n",
      "['Phoebe', 'Chandler', 'Rachel', 'Ross', 'Monica', 'Joey'] ➞ CJMPRR\n"
     ]
    }
   ],
   "source": [
    "def society_name(lst):\n",
    "    result = []\n",
    "    for i in lst:\n",
    "        result.append(i[0])\n",
    "    result = ''.join(sorted(result))\n",
    "    print(f'{lst} ➞ {result}')\n",
    "\n",
    "society_name([\"Adam\", \"Sarah\", \"Malcolm\"])\n",
    "society_name([\"Harry\", \"Newt\", \"Luna\", \"Cho\"])\n",
    "society_name([\"Phoebe\", \"Chandler\", \"Rachel\", \"Ross\", \"Monica\", \"Joey\"])"
   ]
  },
  {
   "cell_type": "markdown",
   "id": "ac479653",
   "metadata": {},
   "source": [
    "#### 4.An isogram is a word that has no duplicate letters. Create a function that takes a string and returns either True or False depending on whether or not it's an \"isogram\".\n",
    "\n",
    "Examples\n",
    "\n",
    "is_isogram(\"Algorism\") ➞ True\n",
    "\n",
    "is_isogram(\"PasSword\") ➞ False\n",
    "#### Not case sensitive.\n",
    "\n",
    "is_isogram(\"Consecutive\") ➞ False\n",
    "\n",
    "Notes\n",
    "\n",
    "Ignore letter case (should not be case sensitive).\n",
    "\n",
    "All test cases contain valid one word strings.\n"
   ]
  },
  {
   "cell_type": "code",
   "execution_count": 19,
   "id": "efee4d2b",
   "metadata": {},
   "outputs": [
    {
     "name": "stdout",
     "output_type": "stream",
     "text": [
      "Algorism ➞ True\n",
      "PasSword ➞ False\n",
      "Consecutive ➞ False\n"
     ]
    }
   ],
   "source": [
    "def is_isogram(string):\n",
    "    str_lower = string.lower()\n",
    "    if len(str_lower) == len(set(str_lower)):\n",
    "        print(f'{string} ➞ {True}')\n",
    "    else:\n",
    "        print(f'{string} ➞ {False}')\n",
    "    \n",
    "is_isogram(\"Algorism\")\n",
    "is_isogram(\"PasSword\")\n",
    "is_isogram(\"Consecutive\")"
   ]
  },
  {
   "cell_type": "markdown",
   "id": "c222f491",
   "metadata": {},
   "source": [
    "#### 5.Create a function that takes a string and returns True or False, depending on whether the characters are in order or not.\n",
    "\n",
    "Examples\n",
    "\n",
    "is_in_order(\"abc\") ➞ True\n",
    "\n",
    "is_in_order(\"edabit\") ➞ False\n",
    "\n",
    "is_in_order(\"123\") ➞ True\n",
    "\n",
    "is_in_order(\"xyzz\") ➞ True\n",
    "\n",
    "Notes\n",
    "\n",
    "You don't have to handle empty strings.\n"
   ]
  },
  {
   "cell_type": "code",
   "execution_count": 20,
   "id": "48250d99",
   "metadata": {},
   "outputs": [
    {
     "name": "stdout",
     "output_type": "stream",
     "text": [
      "abc ➞ True\n",
      "edabit ➞ False\n",
      "123 ➞ True\n",
      "xyzz ➞ True\n"
     ]
    }
   ],
   "source": [
    "def is_in_order(string):\n",
    "    string_sorted = ''.join(sorted(string))\n",
    "    if string == string_sorted:\n",
    "        print(f'{string} ➞ {True}')\n",
    "    else:\n",
    "        print(f'{string} ➞ {False}')\n",
    "\n",
    "is_in_order(\"abc\")\n",
    "is_in_order(\"edabit\")\n",
    "is_in_order(\"123\")\n",
    "is_in_order(\"xyzz\")"
   ]
  },
  {
   "cell_type": "code",
   "execution_count": null,
   "id": "a3e3e027",
   "metadata": {},
   "outputs": [],
   "source": []
  }
 ],
 "metadata": {
  "kernelspec": {
   "display_name": "Python 3 (ipykernel)",
   "language": "python",
   "name": "python3"
  },
  "language_info": {
   "codemirror_mode": {
    "name": "ipython",
    "version": 3
   },
   "file_extension": ".py",
   "mimetype": "text/x-python",
   "name": "python",
   "nbconvert_exporter": "python",
   "pygments_lexer": "ipython3",
   "version": "3.9.7"
  }
 },
 "nbformat": 4,
 "nbformat_minor": 5
}
