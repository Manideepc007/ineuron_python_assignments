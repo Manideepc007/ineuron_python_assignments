{
 "cells": [
  {
   "cell_type": "markdown",
   "id": "f1fc04a2",
   "metadata": {},
   "source": [
    "#### 1.Create a function that takes a string and returns a string in which each character is repeated once.\n",
    "\n",
    "Examples\n",
    "\n",
    "`double_char(\"String\") ➞ \"SSttrriinngg\"`\n",
    "\n",
    "`double_char(\"Hello World!\") ➞ \"HHeelllloo  WWoorrlldd!!\"`\n",
    "\n",
    "`double_char(\"1234!_ \") ➞ \"11223344!!__  \"`"
   ]
  },
  {
   "cell_type": "code",
   "execution_count": 5,
   "id": "173a8496",
   "metadata": {},
   "outputs": [
    {
     "name": "stdout",
     "output_type": "stream",
     "text": [
      "Enter the string: String\n",
      "String ➞ SSttrriinngg\n",
      "Enter the string: Hello World!\n",
      "Hello World! ➞ HHeelllloo  WWoorrlldd!!\n",
      "Enter the string: 1234!_ \n",
      "1234!_  ➞ 11223344!!__  \n"
     ]
    }
   ],
   "source": [
    "def double_char():\n",
    "    string = input('Enter the string: ')\n",
    "    result = ''\n",
    "    for i in string:\n",
    "        double = i*2\n",
    "        result+=double\n",
    "    print(string, \"➞\" ,result) \n",
    "\n",
    "for i in range(3):\n",
    "    double_char()      "
   ]
  },
  {
   "cell_type": "markdown",
   "id": "f925fd6e",
   "metadata": {},
   "source": [
    "#### 2.Create a function that reverses a boolean value and returns the string \"boolean expected\" if another variable type is given.\n",
    "\n",
    "Examples\n",
    "\n",
    "`reverse(True) ➞ False`\n",
    "\n",
    "`reverse(False) ➞ True`\n",
    "\n",
    "`reverse(0) ➞ \"boolean expected\"`\n",
    "\n",
    "`reverse(None) ➞ \"boolean expected\"`"
   ]
  },
  {
   "cell_type": "code",
   "execution_count": 12,
   "id": "3613b0c6",
   "metadata": {},
   "outputs": [
    {
     "name": "stdout",
     "output_type": "stream",
     "text": [
      "reverse(True) ➞ False\n",
      "reverse(False) ➞ True\n",
      "boolean expected\n",
      "reverse(0) ➞ None\n",
      "boolean expected\n",
      "reverse(None) ➞ None\n"
     ]
    }
   ],
   "source": [
    "def reverse(boolean):\n",
    "    if type(boolean) == bool:\n",
    "        return not boolean\n",
    "    else:\n",
    "        print('boolean expected')\n",
    "        \n",
    "print(f'reverse(True) ➞ {reverse(True)}')\n",
    "print(f'reverse(False) ➞ {reverse(False)}')\n",
    "print(f'reverse(0) ➞ {reverse(0)}')\n",
    "print(f'reverse(None) ➞ {reverse(None)}')"
   ]
  },
  {
   "cell_type": "code",
   "execution_count": 7,
   "id": "74aca44f",
   "metadata": {},
   "outputs": [
    {
     "data": {
      "text/plain": [
       "False"
      ]
     },
     "execution_count": 7,
     "metadata": {},
     "output_type": "execute_result"
    }
   ],
   "source": []
  },
  {
   "cell_type": "code",
   "execution_count": 8,
   "id": "12246cfd",
   "metadata": {},
   "outputs": [
    {
     "data": {
      "text/plain": [
       "True"
      ]
     },
     "execution_count": 8,
     "metadata": {},
     "output_type": "execute_result"
    }
   ],
   "source": [
    "bool(1)"
   ]
  },
  {
   "cell_type": "markdown",
   "id": "b5cf6f5d",
   "metadata": {},
   "source": [
    "#### 3.Create a function that returns the thickness (in meters) of a piece of paper after folding it n number of times. The paper starts off with a thickness of 0.5mm.\n",
    "\n",
    "Examples\n",
    "\n",
    "`num_layers(1) ➞ \"0.001m\"`\n",
    "\n",
    "`Paper folded once is 1mm (equal to 0.001m)`\n",
    "\n",
    "`num_layers(4) ➞ \"0.008m\"`\n",
    "\n",
    "`Paper folded 4 times is 8mm (equal to 0.008m)`\n",
    "\n",
    "`num_layers(21) ➞ \"1048.576m\"`\n",
    "\n",
    "`Paper folded 21 times is 1048576mm (equal to 1048.576m)`"
   ]
  },
  {
   "cell_type": "code",
   "execution_count": 29,
   "id": "80f04041",
   "metadata": {},
   "outputs": [
    {
     "name": "stdout",
     "output_type": "stream",
     "text": [
      "Paper folded 1 time is 1mm (equal to 0.001m)\n",
      "Paper folded 4 times is 4mm (equal to 0.008m)\n",
      "Paper folded 21 times is 21mm (equal to 1048.576m)\n"
     ]
    }
   ],
   "source": [
    "def num_layers(n):\n",
    "    result = 0.5\n",
    "    for i in range(n):\n",
    "        result *= 2\n",
    "    if n == 1:\n",
    "            print(f'Paper folded {n} time is {n}mm (equal to {result/1000}m)')\n",
    "    else:\n",
    "        print(f'Paper folded {n} times is {n}mm (equal to {result/1000}m)')\n",
    "    \n",
    "num_layers(1)\n",
    "num_layers(4)\n",
    "num_layers(21)"
   ]
  },
  {
   "cell_type": "markdown",
   "id": "dde6c9bd",
   "metadata": {},
   "source": [
    "#### 4.Create a function that takes a single string as argument and returns an ordered list containing the indices of all capital letters in the string.\n",
    "\n",
    "Examples\n",
    "\n",
    "`index_of_caps(\"eDaBiT\") ➞ [1, 3, 5]`\n",
    "\n",
    "`index_of_caps(\"eQuINoX\") ➞ [1, 3, 4, 6]`\n",
    "\n",
    "`index_of_caps(\"determine\") ➞ []`\n",
    "\n",
    "`index_of_caps(\"STRIKE\") ➞ [0, 1, 2, 3, 4, 5]`\n",
    "\n",
    "`index_of_caps(\"sUn\") ➞ [1]`"
   ]
  },
  {
   "cell_type": "code",
   "execution_count": 44,
   "id": "ef706b81",
   "metadata": {},
   "outputs": [
    {
     "name": "stdout",
     "output_type": "stream",
     "text": [
      "Enter the string: eDaBiT\n",
      "[1, 3, 5]\n",
      "Enter the string: eQuINoX\n",
      "[1, 3, 4, 6]\n",
      "Enter the string: determine\n",
      "[]\n",
      "Enter the string: STRIKE\n",
      "[0, 1, 2, 3, 4, 5]\n",
      "Enter the string: sUn\n",
      "[1]\n"
     ]
    }
   ],
   "source": [
    "def index_of_caps():\n",
    "    string = input('Enter the string: ')\n",
    "    new_string = []\n",
    "    for i in string:\n",
    "        if i.isupper():\n",
    "            new_string.append(string.index(i))\n",
    "    print( new_string)\n",
    "\n",
    "for i in range(5):\n",
    "    index_of_caps()"
   ]
  },
  {
   "cell_type": "markdown",
   "id": "f2f6a278",
   "metadata": {},
   "source": [
    "#### 5.Using list comprehensions, create a function that finds all even numbers from 1 to the given number.\n",
    "\n",
    "Examples\n",
    "\n",
    "`find_even_nums(8) ➞ [2, 4, 6, 8]`\n",
    "\n",
    "`find_even_nums(4) ➞ [2, 4]`\n",
    "\n",
    "`find_even_nums(2) ➞ [2]`"
   ]
  },
  {
   "cell_type": "code",
   "execution_count": 56,
   "id": "9656fd0c",
   "metadata": {},
   "outputs": [
    {
     "name": "stdout",
     "output_type": "stream",
     "text": [
      "find_even_nums8 ➞ [2, 4, 6, 8]\n",
      "find_even_nums4 ➞ [2, 4]\n",
      "find_even_nums2 ➞ [2]\n"
     ]
    }
   ],
   "source": [
    "def find_even_nums(n):\n",
    "    result = [n for n in range(1,n+1) if n % 2==0]\n",
    "    return(f'find_even_nums{n} ➞ {result}')\n",
    "\n",
    "print(find_even_nums(8))\n",
    "print(find_even_nums(4))\n",
    "print(find_even_nums(2))"
   ]
  },
  {
   "cell_type": "code",
   "execution_count": 50,
   "id": "a79e44e4",
   "metadata": {},
   "outputs": [
    {
     "data": {
      "text/plain": [
       "[2, 4, 6]"
      ]
     },
     "execution_count": 50,
     "metadata": {},
     "output_type": "execute_result"
    }
   ],
   "source": [
    "find_even_nums(8)"
   ]
  },
  {
   "cell_type": "code",
   "execution_count": null,
   "id": "b4ba9975",
   "metadata": {},
   "outputs": [],
   "source": []
  }
 ],
 "metadata": {
  "kernelspec": {
   "display_name": "Python 3 (ipykernel)",
   "language": "python",
   "name": "python3"
  },
  "language_info": {
   "codemirror_mode": {
    "name": "ipython",
    "version": 3
   },
   "file_extension": ".py",
   "mimetype": "text/x-python",
   "name": "python",
   "nbconvert_exporter": "python",
   "pygments_lexer": "ipython3",
   "version": "3.9.7"
  }
 },
 "nbformat": 4,
 "nbformat_minor": 5
}
