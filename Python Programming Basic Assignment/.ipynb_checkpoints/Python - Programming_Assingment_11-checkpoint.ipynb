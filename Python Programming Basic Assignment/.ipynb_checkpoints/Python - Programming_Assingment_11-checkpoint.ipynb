{
 "cells": [
  {
   "cell_type": "markdown",
   "id": "d5a71989",
   "metadata": {},
   "source": [
    "1. Write a Python program to find words which are greater than given length k?"
   ]
  },
  {
   "cell_type": "code",
   "execution_count": 16,
   "id": "a303de9f",
   "metadata": {},
   "outputs": [],
   "source": [
    "def length_words(string):\n",
    "    split = string.split(' ')\n",
    "    number = int(input('Enter the length to find words greater than length: '))\n",
    "    for i in split:\n",
    "        if len(i) > number:\n",
    "            print(i)"
   ]
  },
  {
   "cell_type": "code",
   "execution_count": 17,
   "id": "090832cf",
   "metadata": {},
   "outputs": [
    {
     "name": "stdout",
     "output_type": "stream",
     "text": [
      "Enter the length to find words greater than length: 5\n",
      "Python\n",
      "program\n",
      "greater\n",
      "length\n"
     ]
    }
   ],
   "source": [
    "string = 'Write a Python program to find words which are greater than given length'\n",
    "length_words(string)"
   ]
  },
  {
   "cell_type": "markdown",
   "id": "ebda2368",
   "metadata": {},
   "source": [
    "2. Write a Python program for removing i-th character from a string?"
   ]
  },
  {
   "cell_type": "code",
   "execution_count": 80,
   "id": "f37057e4",
   "metadata": {},
   "outputs": [],
   "source": [
    "def string(s):\n",
    "    new_string = list(s)\n",
    "    i_num = int(input('Enter the i-th index to delete from string: '))\n",
    "    if i_num > 0 and len(new_string) > i_num: \n",
    "        index = i_num-1\n",
    "        del(new_string[index])\n",
    "        join = ''.join(new_string)\n",
    "        print(join)\n",
    "    else:\n",
    "        print('Enter positive number less than length of the string')"
   ]
  },
  {
   "cell_type": "code",
   "execution_count": 81,
   "id": "69536928",
   "metadata": {},
   "outputs": [
    {
     "name": "stdout",
     "output_type": "stream",
     "text": [
      "Enter the i-th index to delete from string: 5\n",
      "manieep\n"
     ]
    }
   ],
   "source": [
    "string('manideep')"
   ]
  },
  {
   "cell_type": "markdown",
   "id": "7c5288ae",
   "metadata": {},
   "source": [
    "3. Write a Python program to split and join a string?"
   ]
  },
  {
   "cell_type": "code",
   "execution_count": null,
   "id": "a82b30f5",
   "metadata": {},
   "outputs": [],
   "source": [
    "3. Write a Python program to split and join a string"
   ]
  },
  {
   "cell_type": "code",
   "execution_count": 94,
   "id": "87bd4a14",
   "metadata": {},
   "outputs": [],
   "source": [
    "def split_join():\n",
    "    string = input('Enter the string: ')\n",
    "    split = string.split(' ')\n",
    "    print(f'After splitting the string\\n{split}')\n",
    "    join = ' '.join(split)\n",
    "    print(f'After joining the string\\n{join}')"
   ]
  },
  {
   "cell_type": "code",
   "execution_count": 95,
   "id": "709ecbfb",
   "metadata": {},
   "outputs": [
    {
     "name": "stdout",
     "output_type": "stream",
     "text": [
      "Enter the string: Write a Python program to split and join a string\n",
      "After splitting the string\n",
      "['Write', 'a', 'Python', 'program', 'to', 'split', 'and', 'join', 'a', 'string']\n",
      "After joining the string\n",
      "Write a Python program to split and join a string\n"
     ]
    }
   ],
   "source": [
    "split_join()"
   ]
  },
  {
   "cell_type": "markdown",
   "id": "e9de9bcd",
   "metadata": {},
   "source": [
    "4. Write a Python to check if a given string is binary string or not?"
   ]
  },
  {
   "cell_type": "code",
   "execution_count": 100,
   "id": "f6d3eea2",
   "metadata": {},
   "outputs": [
    {
     "name": "stdout",
     "output_type": "stream",
     "text": [
      "Yes\n"
     ]
    }
   ],
   "source": [
    "def check(string) :\n",
    "    p = set(string)\n",
    "    s = {'0', '1'}\n",
    "    if s == p or p == {'0'} or p == {'1'}:\n",
    "    print(\"Yes\")\n",
    "    else :\n",
    "    print(\"No\")\n",
    "string = \"01010100\"\n",
    "check(string)"
   ]
  },
  {
   "cell_type": "markdown",
   "id": "0efb5280",
   "metadata": {},
   "source": [
    "5. Write a Python program to find uncommon words from two Strings?"
   ]
  },
  {
   "cell_type": "code",
   "execution_count": 110,
   "id": "ad3e02f5",
   "metadata": {},
   "outputs": [
    {
     "name": "stdout",
     "output_type": "stream",
     "text": [
      "Enter the String 1: Write a Python to check if a given string is binary string or not\n",
      "Enter the String 2: Write a Python program to find uncommon words from two Strings\n",
      "\n",
      "\n",
      "uncommon words in both the string are \n",
      " {'words', 'given', 'from', 'or', 'find', 'program', 'string', 'binary', 'check', 'uncommon', 'if', 'two', 'not', 'Strings', 'is'}\n"
     ]
    }
   ],
   "source": [
    "def unCommon_words():\n",
    "    str1 = set(input(\"Enter the String 1: \").split(' '))\n",
    "    str2 = set(input(\"Enter the String 2: \").split(' '))\n",
    "    result = (str1.union(str2)).difference(str1.intersection(str2))\n",
    "    print('\\n')\n",
    "    print(f'uncommon words in both the string are:\\n {result}')\n",
    "\n",
    "unCommon_words()"
   ]
  },
  {
   "cell_type": "markdown",
   "id": "f0b24516",
   "metadata": {},
   "source": [
    "6. Write a Python to find all duplicate characters in string?"
   ]
  },
  {
   "cell_type": "code",
   "execution_count": 130,
   "id": "321755e6",
   "metadata": {},
   "outputs": [],
   "source": [
    "def duplicate_string(s):\n",
    "    dup_char = []\n",
    "    not_dup_char = []\n",
    "    for i in s:\n",
    "        if i not in dup_char:\n",
    "            dup_char.append(i)\n",
    "        else:\n",
    "            not_dup_char.append(i)\n",
    "    return dup_char"
   ]
  },
  {
   "cell_type": "code",
   "execution_count": 131,
   "id": "018c4afe",
   "metadata": {},
   "outputs": [
    {
     "data": {
      "text/plain": [
       "['c', 'h', 'a', 'r', 't', 'e', 's']"
      ]
     },
     "execution_count": 131,
     "metadata": {},
     "output_type": "execute_result"
    }
   ],
   "source": [
    "duplicate_string('characters')"
   ]
  },
  {
   "cell_type": "markdown",
   "id": "774beb71",
   "metadata": {},
   "source": [
    "7. Write a Python Program to check if a string contains any special character?"
   ]
  },
  {
   "cell_type": "code",
   "execution_count": 133,
   "id": "a28837e1",
   "metadata": {},
   "outputs": [],
   "source": [
    "def spl_char(s):\n",
    "    for i in s:\n",
    "        spl = '[@_!#$%^&*()<>?/\\|}{~:]'\n",
    "        if i in spl:\n",
    "            return True\n",
    "    return False"
   ]
  },
  {
   "cell_type": "code",
   "execution_count": 134,
   "id": "9c0fa628",
   "metadata": {},
   "outputs": [
    {
     "data": {
      "text/plain": [
       "True"
      ]
     },
     "execution_count": 134,
     "metadata": {},
     "output_type": "execute_result"
    }
   ],
   "source": [
    "spl_char('Write a Python Program to check if a string contains any special character?')"
   ]
  },
  {
   "cell_type": "code",
   "execution_count": 135,
   "id": "018a904e",
   "metadata": {},
   "outputs": [
    {
     "data": {
      "text/plain": [
       "False"
      ]
     },
     "execution_count": 135,
     "metadata": {},
     "output_type": "execute_result"
    }
   ],
   "source": [
    "spl_char('Write a Python Program to check if a string contains any special character')"
   ]
  },
  {
   "cell_type": "code",
   "execution_count": null,
   "id": "e3a0880f",
   "metadata": {},
   "outputs": [],
   "source": []
  }
 ],
 "metadata": {
  "kernelspec": {
   "display_name": "Python 3 (ipykernel)",
   "language": "python",
   "name": "python3"
  },
  "language_info": {
   "codemirror_mode": {
    "name": "ipython",
    "version": 3
   },
   "file_extension": ".py",
   "mimetype": "text/x-python",
   "name": "python",
   "nbconvert_exporter": "python",
   "pygments_lexer": "ipython3",
   "version": "3.9.7"
  }
 },
 "nbformat": 4,
 "nbformat_minor": 5
}
