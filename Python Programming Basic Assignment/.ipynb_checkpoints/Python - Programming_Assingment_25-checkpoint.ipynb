{
 "cells": [
  {
   "cell_type": "markdown",
   "id": "a9eb4715",
   "metadata": {},
   "source": [
    "#### 1.Create a function that takes three integer arguments (a, b, c) and returns the amount of integers which are of equal value.\n",
    "\n",
    "**Examples**\n",
    "\n",
    "`equal(3, 4, 3) ➞ 2`\n",
    "\n",
    "`equal(1, 1, 1) ➞ 3`\n",
    "\n",
    "`equal(3, 4, 1) ➞ 0`\n",
    "\n",
    "**Notes: Your function must return 0, 2 or 3.**"
   ]
  },
  {
   "cell_type": "code",
   "execution_count": 1,
   "id": "65529763",
   "metadata": {},
   "outputs": [
    {
     "name": "stdout",
     "output_type": "stream",
     "text": [
      "equal(3,4,3) ➞ 2 \n",
      "equal(1,1,1) ➞ 3 \n",
      "equal(3,4,1) ➞ 0 \n"
     ]
    }
   ],
   "source": [
    "def equal(*args):\n",
    "    l = []\n",
    "    l.extend(args)\n",
    "    count = 0\n",
    "    for i in l:\n",
    "        if l.count(i) > 1:\n",
    "            count += l.count(i)\n",
    "            return count\n",
    "    return 0\n",
    "\n",
    "print(f'equal(3,4,3) ➞ {equal(3,4,3)} ')\n",
    "print(f'equal(1,1,1) ➞ {equal(1,1,1)} ')\n",
    "print(f'equal(3,4,1) ➞ {equal(3,4,1)} ')"
   ]
  },
  {
   "cell_type": "markdown",
   "id": "aa6a9342",
   "metadata": {},
   "source": [
    "#### 2.Write a function that converts a dictionary into a list of keys-values tuples.\n",
    "\n",
    "Examples\n",
    "\n",
    "**dict_to_list({\n",
    "  \"D\": 1,\n",
    "  \"B\": 2,\n",
    "  \"C\": 3\n",
    "})**\n",
    "\n",
    "`➞ [(\"B\", 2), (\"C\", 3), (\"D\", 1)]`\n",
    "\n",
    "**dict_to_list({\n",
    "  \"likes\": 2,\n",
    "  \"dislikes\": 3,\n",
    "  \"followers\": 10\n",
    "})** \n",
    "\n",
    "`➞ [(\"dislikes\", 3), (\"followers\", 10), (\"likes\", 2)]`\n",
    "\n",
    "**Notes: Return the elements in the list in alphabetical order.**\n"
   ]
  },
  {
   "cell_type": "code",
   "execution_count": 2,
   "id": "5a6d5038",
   "metadata": {},
   "outputs": [
    {
     "name": "stdout",
     "output_type": "stream",
     "text": [
      "[('B', 2), ('C', 3), ('D', 1)]\n",
      "[('dislikes', 3), ('followers', 10), ('likes', 2)]\n"
     ]
    }
   ],
   "source": [
    "def dict_to_list(dic):\n",
    "    return sorted(list(dic.items()))\n",
    "    \n",
    "print(dict_to_list({ \"D\": 1, \"B\": 2, \"C\": 3 }))\n",
    "print(dict_to_list({ \"likes\": 2, \"dislikes\": 3, \"followers\": 10 }))"
   ]
  },
  {
   "cell_type": "markdown",
   "id": "5cd42cac",
   "metadata": {},
   "source": [
    "#### 3. Write a function that creates a dictionary with each (key, value) pair being the (lower case, upper case) versions of a letter, respectively.\n",
    "\n",
    "Examples:\n",
    "\n",
    "`mapping([\"p\", \"s\"]) ➞ { \"p\": \"P\", \"s\": \"S\" }`\n",
    "\n",
    "`mapping([\"a\", \"b\", \"c\"]) ➞ { \"a\": \"A\", \"b\": \"B\", \"c\": \"C\" }`\n",
    "\n",
    "`mapping([\"a\", \"v\", \"y\", \"z\"]) ➞ { \"a\": \"A\", \"v\": \"V\", \"y\": \"Y\", \"z\": \"Z\" }`\n",
    "\n",
    "**Notes:All of the letters in the input list will always be lowercase.**\n"
   ]
  },
  {
   "cell_type": "code",
   "execution_count": 3,
   "id": "fa628e2d",
   "metadata": {},
   "outputs": [
    {
     "name": "stdout",
     "output_type": "stream",
     "text": [
      "['p', 's'] ➞ {'p': 'P', 's': 'S'}\n",
      "['a', 'b', 'c'] ➞ {'a': 'A', 'b': 'B', 'c': 'C'}\n",
      "['a', 'v', 'y', 'z'] ➞ {'a': 'A', 'v': 'V', 'y': 'Y', 'z': 'Z'}\n"
     ]
    }
   ],
   "source": [
    "def mapping(lst):    \n",
    "    dic = {}\n",
    "    for i in range(len(lst)):\n",
    "        dic[lst[i]] = lst[i].upper()\n",
    "    print(f'{lst} ➞ {dic}')\n",
    "\n",
    "mapping([\"p\", \"s\"])\n",
    "mapping([\"a\", \"b\", \"c\"])\n",
    "mapping([\"a\", \"v\", \"y\", \"z\"])"
   ]
  },
  {
   "cell_type": "markdown",
   "id": "e6da4799",
   "metadata": {},
   "source": [
    "#### 4.Write a function, that replaces all vowels in a string with a specified vowel.\n",
    "\n",
    "Examples:\n",
    "\n",
    "`vow_replace(\"apples and bananas\", \"u\") ➞ \"upplus und bununus\"`\n",
    "\n",
    "`vow_replace(\"cheese casserole\", \"o\") ➞ \"chooso cossorolo\"`\n",
    "\n",
    "`vow_replace(\"stuffed jalapeno poppers\", \"e\") ➞ \"steffed jelepene peppers\"`\n",
    "\n",
    "**Notes:All words will be lowercase. Y is not considered a vowel.**\n"
   ]
  },
  {
   "cell_type": "code",
   "execution_count": 4,
   "id": "33092455",
   "metadata": {},
   "outputs": [
    {
     "name": "stdout",
     "output_type": "stream",
     "text": [
      "(string,letter) ➞ upplus und bununus\n",
      "(string,letter) ➞ chooso cossorolo\n",
      "(string,letter) ➞ steffed jelepene peppers\n"
     ]
    }
   ],
   "source": [
    "def vow_replace(string,letter):\n",
    "    vowels = \"a,e,i,o,u\"\n",
    "    new_string = ''\n",
    "    for i in string:\n",
    "        if i in vowels:\n",
    "            new_string +=(i.replace(i,letter))\n",
    "        else:\n",
    "            new_string +=i\n",
    "    print(f'(string,letter) ➞ {new_string}' )\n",
    "\n",
    "vow_replace(\"apples and bananas\", \"u\")\n",
    "vow_replace(\"cheese casserole\", \"o\")\n",
    "vow_replace(\"stuffed jalapeno poppers\", \"e\")"
   ]
  },
  {
   "cell_type": "markdown",
   "id": "319e8e9e",
   "metadata": {},
   "source": [
    "#### 5.Create a function that takes a string as input and capitalizes a letter if its ASCII code is even and returns its lower case version if its ASCII code is odd.\n",
    "\n",
    "Examples\n",
    "\n",
    "`ascii_capitalize(\"to be or not to be!\") ➞ \"To Be oR NoT To Be!\"`\n",
    "\n",
    "`ascii_capitalize(\"THE LITTLE MERMAID\") ➞ \"THe LiTTLe meRmaiD\"`\n",
    "\n",
    "`ascii_capitalize(\"Oh what a beautiful morning.\") ➞ \"oH wHaT a BeauTiFuL moRNiNg.\"`\n"
   ]
  },
  {
   "cell_type": "code",
   "execution_count": 5,
   "id": "52b8ec64",
   "metadata": {},
   "outputs": [
    {
     "name": "stdout",
     "output_type": "stream",
     "text": [
      "to be or not to be! ➞ To Be oR NoT To Be!\n",
      "THE LITTLE MERMAID ➞ THe LiTTLe meRmaiD\n",
      "Oh what a beautiful morning. ➞ oH wHaT a BeauTiFuL moRNiNg.\n"
     ]
    }
   ],
   "source": [
    "def ascii_capitalize(string):\n",
    "    new_string = ''\n",
    "    for i in string:\n",
    "        if ord(i) % 2 ==0:\n",
    "            new_string += i.upper()\n",
    "        else:\n",
    "            new_string += i.lower()\n",
    "    print(f'{string} ➞ {new_string}')\n",
    "\n",
    "ascii_capitalize(\"to be or not to be!\")\n",
    "ascii_capitalize(\"THE LITTLE MERMAID\")\n",
    "ascii_capitalize(\"Oh what a beautiful morning.\")"
   ]
  },
  {
   "cell_type": "code",
   "execution_count": null,
   "id": "baa3f5a8",
   "metadata": {},
   "outputs": [],
   "source": []
  }
 ],
 "metadata": {
  "kernelspec": {
   "display_name": "Python 3 (ipykernel)",
   "language": "python",
   "name": "python3"
  },
  "language_info": {
   "codemirror_mode": {
    "name": "ipython",
    "version": 3
   },
   "file_extension": ".py",
   "mimetype": "text/x-python",
   "name": "python",
   "nbconvert_exporter": "python",
   "pygments_lexer": "ipython3",
   "version": "3.9.7"
  }
 },
 "nbformat": 4,
 "nbformat_minor": 5
}
