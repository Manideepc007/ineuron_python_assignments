{
 "cells": [
  {
   "cell_type": "markdown",
   "id": "51d69648",
   "metadata": {},
   "source": [
    "#### 1. Create a function that takes three arguments a, b, c and returns the sum of the numbers that are evenly divided by c from the range a, b inclusive.\n",
    "\n",
    "Examples\n",
    "\n",
    "evenly_divisible(1, 10, 20) ➞ 0\n",
    "`No number between 1 and 10 can be evenly divided by 20.`\n",
    "\n",
    "evenly_divisible(1, 10, 2) ➞ 30\n",
    "`2 + 4 + 6 + 8 + 10 = 30`\n",
    "\n",
    "evenly_divisible(1, 10, 3) ➞ 18\n",
    "`3 + 6 + 9 = 18`\n"
   ]
  },
  {
   "cell_type": "code",
   "execution_count": 28,
   "id": "4b1f8a19",
   "metadata": {},
   "outputs": [
    {
     "name": "stdout",
     "output_type": "stream",
     "text": [
      "(1, 10, 20)➞ 0\n",
      "(1, 10, 2)➞ 30\n",
      "(1, 10, 3)➞ 18\n"
     ]
    }
   ],
   "source": [
    "def evenly_divisible(a,b,c):\n",
    "    summ = 0\n",
    "    for i in range(a,b+1):\n",
    "        if i % c == 0:\n",
    "            summ +=i\n",
    "    print(f'{a,b,c}➞ {summ}')\n",
    "\n",
    "evenly_divisible(1, 10, 20)\n",
    "evenly_divisible(1, 10, 2)\n",
    "evenly_divisible(1, 10, 3)"
   ]
  },
  {
   "cell_type": "markdown",
   "id": "be07d9ea",
   "metadata": {},
   "source": [
    "#### 2. Create a function that returns True if a given inequality expression is correct and False otherwise.\n",
    "\n",
    "Examples\n",
    "\n",
    "`correct_signs(\"3 < 7 < 11\") ➞ True`\n",
    "\n",
    "`correct_signs(\"13 > 44 > 33 > 1\") ➞ False`\n",
    "\n",
    "`correct_signs(\"1 < 2 < 6 < 9 > 3\") ➞ True`"
   ]
  },
  {
   "cell_type": "code",
   "execution_count": 29,
   "id": "4816b337",
   "metadata": {},
   "outputs": [
    {
     "name": "stdout",
     "output_type": "stream",
     "text": [
      "Enter the expression: 3 < 7 < 11\n",
      "3 < 7 < 11 ➞ True\n",
      "Enter the expression: 13 > 44 > 33 > 1\n",
      "13 > 44 > 33 > 1 ➞ False\n",
      "Enter the expression: 1 < 2 < 6 < 9 > 3\n",
      "1 < 2 < 6 < 9 > 3 ➞ True\n"
     ]
    }
   ],
   "source": [
    "def correct_signs():\n",
    "    string = input('Enter the expression: ')\n",
    "    result = eval(string)\n",
    "    print(f'{string} ➞ {result}')\n",
    "\n",
    "for i in range(3):\n",
    "    correct_signs()"
   ]
  },
  {
   "cell_type": "markdown",
   "id": "bfdb1d2d",
   "metadata": {},
   "source": [
    "#### 3. Create a function that replaces all the vowels in a string with a specified character.\n",
    "\n",
    "Examples\n",
    "\n",
    "`replace_vowels(\"the aardvark\", \"#\") ➞ \"th# ##rdv#rk\"`\n",
    "\n",
    "`replace_vowels(\"minnie mouse\", \"?\") ➞ \"m?nn?? m??s?\"`\n",
    "\n",
    "`replace_vowels(\"shakespeare\", \"*\") ➞ \"sh*k*sp**r*\"`"
   ]
  },
  {
   "cell_type": "code",
   "execution_count": 67,
   "id": "fae6edfc",
   "metadata": {},
   "outputs": [
    {
     "name": "stdout",
     "output_type": "stream",
     "text": [
      "Enter the string: the aardvark\n",
      "Choose a character to replace: eg: #,?,*#\n",
      "('the aardvark', '#') ➞ th# ##rdv#rk \n",
      "Enter the string: minnie mouse\n",
      "Choose a character to replace: eg: #,?,*?\n",
      "('minnie mouse', '?') ➞ m?nn?? m??s? \n",
      "Enter the string: shakespeare\n",
      "Choose a character to replace: eg: #,?,**\n",
      "('shakespeare', '*') ➞ sh*k*sp**r* \n"
     ]
    }
   ],
   "source": [
    "def replace_vowels():\n",
    "    vowels = ['a','e','i','o','u','A','E','I','O','U']\n",
    "    string = input('Enter the string: ')\n",
    "    string_ori = string\n",
    "    char = input('Choose a character to replace: eg: #,?,*')\n",
    "    for i in string:\n",
    "        if i in vowels:\n",
    "            string = string.replace(i,char)\n",
    "    print(f\"{string_ori,char} ➞ {string} \")\n",
    "\n",
    "for i in range(3):\n",
    "    replace_vowels()"
   ]
  },
  {
   "cell_type": "markdown",
   "id": "a175dcca",
   "metadata": {},
   "source": [
    "#### 4. Write a function that calculates the factorial of a number recursively.\n",
    "\n",
    "Examples\n",
    "\n",
    "`factorial(5) ➞ 120`\n",
    "\n",
    "`factorial(3) ➞ 6`\n",
    "\n",
    "`factorial(1) ➞ 1`\n",
    "\n",
    "`factorial(0) ➞ 1`"
   ]
  },
  {
   "cell_type": "code",
   "execution_count": 2,
   "id": "b4c36750",
   "metadata": {},
   "outputs": [
    {
     "name": "stdout",
     "output_type": "stream",
     "text": [
      "factorial(5) ➞ 120\n",
      "factorial(3) ➞ 6\n",
      "factorial(1) ➞ 1\n",
      "factorial(0) ➞ 1\n"
     ]
    }
   ],
   "source": [
    "def factorial(n):\n",
    "    if n <= 1:\n",
    "        return 1\n",
    "    else:\n",
    "        return n*factorial(n-1)\n",
    "\n",
    "print(f'factorial(5) ➞ {factorial(5)}')\n",
    "print(f'factorial(3) ➞ {factorial(3)}')\n",
    "print(f'factorial(1) ➞ {factorial(1)}')\n",
    "print(f'factorial(0) ➞ {factorial(0)}')"
   ]
  },
  {
   "cell_type": "markdown",
   "id": "46049b15",
   "metadata": {},
   "source": [
    "#### 5.Hamming distance is the number of characters that differ between two strings.\n",
    "\n",
    "**To illustrate:**\n",
    "\n",
    "`String1: \"abcbba\"`\n",
    "\n",
    "`String2: \"abcbda\"`\n",
    "\n",
    "**Hamming Distance: 1 - \"b\" vs. \"d\" is the only difference.**\n",
    "\n",
    "**Create a function that computes the hamming distance between two strings.**\n",
    "\n",
    "**Examples**\n",
    "\n",
    "`hamming_distance(\"abcde\", \"bcdef\") ➞ 5`\n",
    "\n",
    "`hamming_distance(\"abcde\", \"abcde\") ➞ 0`\n",
    "\n",
    "`hamming_distance(\"strong\", \"strung\") ➞ 1`"
   ]
  },
  {
   "cell_type": "code",
   "execution_count": 3,
   "id": "4a739260",
   "metadata": {},
   "outputs": [
    {
     "name": "stdout",
     "output_type": "stream",
     "text": [
      "Enter the String 1: abcde\n",
      "Enter the String 2: bcdef\n",
      "Hamning Distance b/w abcde and bcdef ➞ 5\n",
      "Enter the String 1: abcde\n",
      "Enter the String 2: abcde\n",
      "Hamning Distance b/w abcde and abcde ➞ 0\n",
      "Enter the String 1: strong\n",
      "Enter the String 2: strung\n",
      "Hamning Distance b/w strong and strung ➞ 1\n"
     ]
    }
   ],
   "source": [
    "def hamming_distance():\n",
    "    string_1 = input('Enter the String 1: ')\n",
    "    string_2 = input('Enter the String 2: ')\n",
    "    if len(string_1) == len(string_2):\n",
    "        count = 0\n",
    "        for i in range(len(string_1)):\n",
    "            if string_1[i] != string_2[i]:\n",
    "                count = count+1\n",
    "        print(f'Hamning Distance b/w {string_1} and {string_2} ➞ {count}')\n",
    "    else:\n",
    "        print('Both Strings Must be of Same Length')\n",
    "\n",
    "for x in range(3):\n",
    "    hamming_distance()"
   ]
  },
  {
   "cell_type": "code",
   "execution_count": null,
   "id": "279c2bcd",
   "metadata": {},
   "outputs": [],
   "source": []
  }
 ],
 "metadata": {
  "kernelspec": {
   "display_name": "Python 3 (ipykernel)",
   "language": "python",
   "name": "python3"
  },
  "language_info": {
   "codemirror_mode": {
    "name": "ipython",
    "version": 3
   },
   "file_extension": ".py",
   "mimetype": "text/x-python",
   "name": "python",
   "nbconvert_exporter": "python",
   "pygments_lexer": "ipython3",
   "version": "3.9.7"
  }
 },
 "nbformat": 4,
 "nbformat_minor": 5
}
