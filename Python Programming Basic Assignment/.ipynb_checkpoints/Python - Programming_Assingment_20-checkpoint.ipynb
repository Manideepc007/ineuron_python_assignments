{
 "cells": [
  {
   "cell_type": "markdown",
   "id": "18a17578",
   "metadata": {},
   "source": [
    "#### 1.Create a function that takes a list of strings and integers, and filters out the list so that it returns a list of integers only.\n",
    "\n",
    "Examples\n",
    "\n",
    "`filter_list([1, 2, 3, \"a\", \"b\", 4]) ➞ [1, 2, 3, 4]`\n",
    "\n",
    "`filter_list([\"A\", 0, \"Edabit\", 1729, \"Python\", \"1729\"]) ➞ [0, 1729]`\n",
    "\n",
    "`filter_list([\"Nothing\", \"here\"]) ➞ []`"
   ]
  },
  {
   "cell_type": "code",
   "execution_count": 12,
   "id": "d63d6d3d",
   "metadata": {},
   "outputs": [],
   "source": [
    "def filter_list(n):\n",
    "    result = []\n",
    "    for i in n:\n",
    "        if type(i) == int:\n",
    "            result.append(i)\n",
    "    return(f'{n} ➞ {result}') "
   ]
  },
  {
   "cell_type": "code",
   "execution_count": 13,
   "id": "27e315a5",
   "metadata": {},
   "outputs": [
    {
     "name": "stdout",
     "output_type": "stream",
     "text": [
      "[1, 2, 3, 'a', 'b', 4] ➞ [1, 2, 3, 4]\n",
      "['A', 0, 'Edabit', 1729, 'Python', '1729'] ➞ [0, 1729]\n",
      "['Nothing', 'here'] ➞ []\n"
     ]
    }
   ],
   "source": [
    "print(filter_list([1, 2, 3, \"a\", \"b\", 4]))\n",
    "print(filter_list([\"A\", 0, \"Edabit\", 1729, \"Python\", \"1729\"]))\n",
    "print(filter_list([\"Nothing\", \"here\"]))"
   ]
  },
  {
   "cell_type": "markdown",
   "id": "6644a291",
   "metadata": {},
   "source": [
    "#### 2 Given a list of numbers, create a function which returns the list but with each element's index in the list added to itself. This means you add 0 to the number at index 0, add 1 to the number at index 1, etc...\n",
    "\n",
    "Examples\n",
    "\n",
    "`add_indexes([0, 0, 0, 0, 0]) ➞ [0, 1, 2, 3, 4]`\n",
    "\n",
    "`add_indexes([1, 2, 3, 4, 5]) ➞ [1, 3, 5, 7, 9]`\n",
    "\n",
    "`add_indexes([5, 4, 3, 2, 1]) ➞ [5, 5, 5, 5, 5]`\n"
   ]
  },
  {
   "cell_type": "code",
   "execution_count": 23,
   "id": "1f5415b2",
   "metadata": {},
   "outputs": [],
   "source": [
    "def add_indexes(n):\n",
    "    result = []\n",
    "    for i in range(len(n)):\n",
    "        result.append(i+n[i])\n",
    "    return(f'{n} ➞ {result}')"
   ]
  },
  {
   "cell_type": "code",
   "execution_count": 24,
   "id": "d5f632b5",
   "metadata": {},
   "outputs": [
    {
     "name": "stdout",
     "output_type": "stream",
     "text": [
      "[0, 0, 0, 0, 0] ➞ [0, 1, 2, 3, 4]\n",
      "[1, 2, 3, 4, 5] ➞ [1, 3, 5, 7, 9]\n",
      "[5, 4, 3, 2, 1] ➞ [5, 5, 5, 5, 5]\n"
     ]
    }
   ],
   "source": [
    "print(add_indexes([0, 0, 0, 0, 0]))\n",
    "print(add_indexes([1, 2, 3, 4, 5]))\n",
    "print(add_indexes([5, 4, 3, 2, 1]))"
   ]
  },
  {
   "cell_type": "markdown",
   "id": "2b1ee6cb",
   "metadata": {},
   "source": [
    "#### 3.Create a function that takes the height and radius of a cone as arguments and returns the volume of the cone rounded to the nearest hundredth. See the resources tab for the formula.\n",
    "\n",
    "Examples\n",
    "\n",
    "`cone_volume(3, 2) ➞ 12.57`\n",
    "\n",
    "`cone_volume(15, 6) ➞ 565.49`\n",
    "\n",
    "`cone_volume(18, 0) ➞ 0`\n",
    "\n",
    "`volume of the cone ==> V=1/3hπr².`"
   ]
  },
  {
   "cell_type": "code",
   "execution_count": 27,
   "id": "a34286bb",
   "metadata": {},
   "outputs": [
    {
     "name": "stdout",
     "output_type": "stream",
     "text": [
      "(3, 2) ➞ 12.57\n",
      "(15, 6) ➞ 565.49\n",
      "(18, 0) ➞ 0.0\n"
     ]
    }
   ],
   "source": [
    "import math\n",
    "def cone_volume(height,radius):\n",
    "    volume = round((1/3)*height*(math.pi)*(radius**2),2)\n",
    "    return(f'{height,radius} ➞ {volume}')\n",
    "\n",
    "print(cone_volume(3, 2))\n",
    "print(cone_volume(15, 6))\n",
    "print(cone_volume(18, 0))"
   ]
  },
  {
   "cell_type": "markdown",
   "id": "751b7e55",
   "metadata": {},
   "source": [
    "#### 4.This Triangular Number Sequence is generated from a pattern of dots that form a triangle. The first 5 numbers of the sequence, or dots, are: \n",
    "\n",
    "`1, 3, 6, 10, 15`\n",
    "\n",
    "This means that the first triangle has just one dot, the second one has three dots, the third one has 6 dots and so on.\n",
    "\n",
    "Write a function that gives the number of dots with its corresponding triangle number of the sequence.\n",
    "\n",
    "Examples\n",
    "\n",
    "`triangle(1) ➞ 1`\n",
    "\n",
    "`triangle(6) ➞ 21`\n",
    "\n",
    "`triangle(215) ➞ 23220`"
   ]
  },
  {
   "cell_type": "code",
   "execution_count": 28,
   "id": "b902e7ab",
   "metadata": {},
   "outputs": [
    {
     "name": "stdout",
     "output_type": "stream",
     "text": [
      "Output ➞ 1\n",
      "Output ➞ 21\n",
      "Output ➞ 23220\n"
     ]
    }
   ],
   "source": [
    "def triangle(num):\n",
    "    print(f'Output ➞ {int((num)*((num+1)/2))}')\n",
    "\n",
    "triangle(1)\n",
    "triangle(6)\n",
    "triangle(215)"
   ]
  },
  {
   "cell_type": "markdown",
   "id": "55643ba0",
   "metadata": {},
   "source": [
    "#### 5.Create a function that takes a list of numbers between 1 and 10 (excluding one number) and returns the missing number.\n",
    "\n",
    "Examples\n",
    "\n",
    "`missing_num([1, 2, 3, 4, 6, 7, 8, 9, 10]) ➞ 5`\n",
    "\n",
    "`missing_num([7, 2, 3, 6, 5, 9, 1, 4, 8]) ➞ 10`\n",
    "\n",
    "`missing_num([10, 5, 1, 2, 4, 6, 8, 3, 9]) ➞ 7`"
   ]
  },
  {
   "cell_type": "code",
   "execution_count": 65,
   "id": "346c31e2",
   "metadata": {},
   "outputs": [
    {
     "name": "stdout",
     "output_type": "stream",
     "text": [
      "n  ➞ 5\n",
      "n  ➞ 10\n",
      "n  ➞ 7\n"
     ]
    }
   ],
   "source": [
    "def missing_num(n):\n",
    "    for i in range(1,11):\n",
    "        if i not in n:\n",
    "            return(f'n  ➞ {i}')\n",
    "        \n",
    "print(missing_num([1, 2, 3, 4, 6, 7, 8, 9, 10]))\n",
    "print(missing_num([7, 2, 3, 6, 5, 9, 1, 4, 8]))\n",
    "print(missing_num([10, 5, 1, 2, 4, 6, 8, 3, 9]))"
   ]
  },
  {
   "cell_type": "code",
   "execution_count": null,
   "id": "f26781ad",
   "metadata": {},
   "outputs": [],
   "source": []
  },
  {
   "cell_type": "code",
   "execution_count": null,
   "id": "b66f157f",
   "metadata": {},
   "outputs": [],
   "source": []
  }
 ],
 "metadata": {
  "kernelspec": {
   "display_name": "Python 3 (ipykernel)",
   "language": "python",
   "name": "python3"
  },
  "language_info": {
   "codemirror_mode": {
    "name": "ipython",
    "version": 3
   },
   "file_extension": ".py",
   "mimetype": "text/x-python",
   "name": "python",
   "nbconvert_exporter": "python",
   "pygments_lexer": "ipython3",
   "version": "3.9.7"
  }
 },
 "nbformat": 4,
 "nbformat_minor": 5
}
