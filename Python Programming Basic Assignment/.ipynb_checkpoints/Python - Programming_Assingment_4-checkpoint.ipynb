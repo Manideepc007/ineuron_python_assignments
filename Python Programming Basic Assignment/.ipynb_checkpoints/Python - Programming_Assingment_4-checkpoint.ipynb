{
 "cells": [
  {
   "cell_type": "markdown",
   "id": "7c49cc09",
   "metadata": {},
   "source": [
    "### Write a Python Program to Find the Factorial of a Number?"
   ]
  },
  {
   "cell_type": "code",
   "execution_count": 3,
   "id": "4e03dc8e",
   "metadata": {},
   "outputs": [],
   "source": [
    "def fac(num):\n",
    "    if num < 1:\n",
    "        return 1\n",
    "    else:\n",
    "        return num*(fac(num-1))"
   ]
  },
  {
   "cell_type": "code",
   "execution_count": 5,
   "id": "4bc93817",
   "metadata": {},
   "outputs": [
    {
     "data": {
      "text/plain": [
       "3628800"
      ]
     },
     "execution_count": 5,
     "metadata": {},
     "output_type": "execute_result"
    }
   ],
   "source": [
    "fac(10)"
   ]
  },
  {
   "cell_type": "markdown",
   "id": "de756b8d",
   "metadata": {},
   "source": [
    "### Write a Python Program to Display the multiplication Table?\n"
   ]
  },
  {
   "cell_type": "code",
   "execution_count": 16,
   "id": "8e25054a",
   "metadata": {},
   "outputs": [],
   "source": [
    "def mul(num):\n",
    "    no_of_multiplies = int(input('Enter till which number you want to multiply: '))\n",
    "    for i in range(1,no_of_multiplies+1):\n",
    "        print('{} * {} = {}'.format(num,i,(num*i)))"
   ]
  },
  {
   "cell_type": "code",
   "execution_count": 18,
   "id": "4f98f220",
   "metadata": {},
   "outputs": [
    {
     "name": "stdout",
     "output_type": "stream",
     "text": [
      "Enter till which number you want to multiply: 5\n",
      "17 * 1 = 17\n",
      "17 * 2 = 34\n",
      "17 * 3 = 51\n",
      "17 * 4 = 68\n",
      "17 * 5 = 85\n"
     ]
    }
   ],
   "source": [
    "mul(17)"
   ]
  },
  {
   "cell_type": "markdown",
   "id": "4e61fbc1",
   "metadata": {},
   "source": [
    "### Write a Python Program to Print the Fibonacci sequence?\n"
   ]
  },
  {
   "cell_type": "code",
   "execution_count": 53,
   "id": "e3124865",
   "metadata": {},
   "outputs": [
    {
     "name": "stdout",
     "output_type": "stream",
     "text": [
      "Enter the no. of terms: 1\n",
      "Fibonacci sequence:\n",
      "0\n"
     ]
    }
   ],
   "source": [
    "def recur_fibo(n):\n",
    "    if n <= 1:\n",
    "        return n\n",
    "    else:\n",
    "        return(recur_fibo(n-1) + recur_fibo(n-2))\n",
    "terms = int(input('Enter the no. of terms: '))\n",
    "if terms <= 0:\n",
    "    print(\"Plese enter a positive integer\")\n",
    "else:\n",
    "    print(\"Fibonacci sequence:\")\n",
    "for i in range(terms):\n",
    "    print(recur_fibo(i))"
   ]
  },
  {
   "cell_type": "markdown",
   "id": "ef01de4d",
   "metadata": {},
   "source": [
    "### Write a Python Program to Check Armstrong Number?"
   ]
  },
  {
   "cell_type": "code",
   "execution_count": 27,
   "id": "5523ad2e",
   "metadata": {},
   "outputs": [
    {
     "name": "stdout",
     "output_type": "stream",
     "text": [
      "Enter the number: 1634\n",
      "1634 is an Armstrong number\n"
     ]
    }
   ],
   "source": [
    "num = int(input('Enter the number: '))\n",
    "\n",
    "order = len(str(num))\n",
    "\n",
    "sum = 0\n",
    "\n",
    "temp = num\n",
    "while temp > 0:\n",
    "    digit = temp % 10\n",
    "    sum += digit ** order\n",
    "    temp //= 10\n",
    "\n",
    "if num == sum:\n",
    "    print(num,\"is an Armstrong number\")\n",
    "else:\n",
    "    print(num,\"is not an Armstrong number\")\n"
   ]
  },
  {
   "cell_type": "markdown",
   "id": "4a9b7dab",
   "metadata": {},
   "source": [
    "### Write a Python Program to Find Armstrong Number in an Interval?\n"
   ]
  },
  {
   "cell_type": "code",
   "execution_count": 49,
   "id": "1e14a257",
   "metadata": {},
   "outputs": [
    {
     "name": "stdout",
     "output_type": "stream",
     "text": [
      "153,370,371,407,1634,"
     ]
    }
   ],
   "source": [
    "lower,upper = 100,2000\n",
    "\n",
    "for num in range(lower, upper + 1):\n",
    "    order = len(str(num))\n",
    "    sum = 0\n",
    "    temp = num\n",
    "    while temp > 0:\n",
    "        digit = temp % 10\n",
    "        sum += digit ** order\n",
    "        temp //= 10\n",
    "    if num == sum:\n",
    "        print(num,end=\",\")"
   ]
  },
  {
   "cell_type": "markdown",
   "id": "e279de0e",
   "metadata": {},
   "source": [
    "### Write a Python Program to Find the Sum of Natural Numbers?"
   ]
  },
  {
   "cell_type": "code",
   "execution_count": 50,
   "id": "29461b2c",
   "metadata": {},
   "outputs": [
    {
     "name": "stdout",
     "output_type": "stream",
     "text": [
      "Enter a number: 20\n",
      "Sum of 20 natural numbers is 210.0\n"
     ]
    }
   ],
   "source": [
    "def sumofnaturalnumbers(num):\n",
    "    sum = num*((num+1)/2)\n",
    "    print(f'Sum of {num} natural numbers is {sum}')\n",
    "    \n",
    "num = int(input('Enter a number: '))\n",
    "sumofnaturalnumbers(num)"
   ]
  },
  {
   "cell_type": "code",
   "execution_count": null,
   "id": "d3bb513e",
   "metadata": {},
   "outputs": [],
   "source": []
  }
 ],
 "metadata": {
  "kernelspec": {
   "display_name": "Python 3 (ipykernel)",
   "language": "python",
   "name": "python3"
  },
  "language_info": {
   "codemirror_mode": {
    "name": "ipython",
    "version": 3
   },
   "file_extension": ".py",
   "mimetype": "text/x-python",
   "name": "python",
   "nbconvert_exporter": "python",
   "pygments_lexer": "ipython3",
   "version": "3.9.7"
  }
 },
 "nbformat": 4,
 "nbformat_minor": 5
}
