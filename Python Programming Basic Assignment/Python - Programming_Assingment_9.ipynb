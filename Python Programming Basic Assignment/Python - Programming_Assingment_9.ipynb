{
 "cells": [
  {
   "cell_type": "markdown",
   "id": "8ec2592a",
   "metadata": {},
   "source": [
    "1. Write a Python program to check if the given number is a Disarium Number?"
   ]
  },
  {
   "cell_type": "code",
   "execution_count": 23,
   "id": "e8abf79b",
   "metadata": {},
   "outputs": [],
   "source": [
    "def disarium():\n",
    "    n = input('Enter the number: ')\n",
    "    count = 0\n",
    "    for i in range(len(n)):\n",
    "        count += int(n[i])**(i+1)\n",
    "    if int(n) == count:\n",
    "        print(f'Entered number {n} is disarim number')\n",
    "    else:\n",
    "        print(f'Entered number {n} is not disarim number')"
   ]
  },
  {
   "cell_type": "code",
   "execution_count": 27,
   "id": "93522e1c",
   "metadata": {},
   "outputs": [
    {
     "name": "stdout",
     "output_type": "stream",
     "text": [
      "Enter the number: 215\n",
      "Entered number 215 is not disarim number\n",
      "Enter the number: 135\n",
      "Entered number 135 is disarim number\n"
     ]
    }
   ],
   "source": [
    "disarium()\n",
    "disarium()"
   ]
  },
  {
   "cell_type": "markdown",
   "id": "b1b327e2",
   "metadata": {},
   "source": [
    "2. Write a Python program to print all disarium numbers between 1 to 100?"
   ]
  },
  {
   "cell_type": "code",
   "execution_count": 36,
   "id": "e26082c4",
   "metadata": {},
   "outputs": [],
   "source": [
    "def disarium_range(a,b):\n",
    "    result = []\n",
    "    for n in range(a,b+1):\n",
    "        count = 0\n",
    "        for i in range(len(str(n))):\n",
    "            count += int(str(n)[i])**(i+1)\n",
    "        if count == n:\n",
    "            result.append(n)\n",
    "    return(result)"
   ]
  },
  {
   "cell_type": "code",
   "execution_count": 37,
   "id": "2ac7ebb9",
   "metadata": {},
   "outputs": [
    {
     "data": {
      "text/plain": [
       "[1, 2, 3, 4, 5, 6, 7, 8, 9, 89]"
      ]
     },
     "execution_count": 37,
     "metadata": {},
     "output_type": "execute_result"
    }
   ],
   "source": [
    "disarium_range(1,100)"
   ]
  },
  {
   "cell_type": "markdown",
   "id": "5fdbc780",
   "metadata": {},
   "source": [
    "3. Write a Python program to check if the given number is Happy Number?"
   ]
  },
  {
   "cell_type": "code",
   "execution_count": 70,
   "id": "91b7d643",
   "metadata": {},
   "outputs": [
    {
     "name": "stdout",
     "output_type": "stream",
     "text": [
      "False\n",
      "True\n",
      "False\n"
     ]
    }
   ],
   "source": [
    "def Happy_num(n):\n",
    "    unique = set()\n",
    "    while n != 1:\n",
    "        n = sum(int(i)**2 for i in str(n))\n",
    "        if n in unique:\n",
    "            return False\n",
    "        unique.add(n)\n",
    "    return True\n",
    "print(Happy_num(17))\n",
    "print(Happy_num(7))\n",
    "print(Happy_num(163))"
   ]
  },
  {
   "cell_type": "markdown",
   "id": "bfcafd81",
   "metadata": {},
   "source": [
    "4. Write a Python program to print all happy numbers between 1 and 100?"
   ]
  },
  {
   "cell_type": "code",
   "execution_count": 80,
   "id": "e26d596e",
   "metadata": {},
   "outputs": [
    {
     "name": "stdout",
     "output_type": "stream",
     "text": [
      "Entered number is not a Happy number\n",
      "[97, 130, 1, 10, 49]\n",
      "Entered number is not a Happy number\n"
     ]
    }
   ],
   "source": [
    "def Happy_num(n):\n",
    "    unique = set()\n",
    "    numbers = []\n",
    "    while n != 1:\n",
    "        n = sum(int(i)**2 for i in str(n))\n",
    "        if n in unique:\n",
    "            return('Entered number is not a Happy number')\n",
    "        unique.add(n)\n",
    "    return list(unique)\n",
    "print(Happy_num(177))\n",
    "print(Happy_num(7))\n",
    "print(Happy_num(63))"
   ]
  },
  {
   "cell_type": "markdown",
   "id": "d3d9b169",
   "metadata": {},
   "source": [
    "5. Write a Python program to determine whether the given number is a Harshad Number?"
   ]
  },
  {
   "cell_type": "code",
   "execution_count": 94,
   "id": "21bd2c06",
   "metadata": {},
   "outputs": [
    {
     "name": "stdout",
     "output_type": "stream",
     "text": [
      "Enter number: 10\n",
      "10 is Harshad Number\n",
      "Enter number: 11\n",
      "11 is Not Harshad Number\n"
     ]
    }
   ],
   "source": [
    "def harshad_number():\n",
    "    number = int(input('Enter number: '))\n",
    "    copy = number\n",
    "    digit_sum = 0\n",
    "    while number:\n",
    "        digit_sum += number%10\n",
    "        number //= 10\n",
    "    if copy%digit_sum == 0:\n",
    "        print('%d is Harshad Number' % (copy))\n",
    "    else:\n",
    "        print('%d is Not Harshad Number' % (copy))\n",
    "\n",
    "harshad_number()\n",
    "harshad_number()"
   ]
  },
  {
   "cell_type": "markdown",
   "id": "115f745f",
   "metadata": {},
   "source": [
    "6. Write a Python program to print all pronic numbers between 1 and 100?"
   ]
  },
  {
   "cell_type": "code",
   "execution_count": 98,
   "id": "080f55fe",
   "metadata": {},
   "outputs": [
    {
     "name": "stdout",
     "output_type": "stream",
     "text": [
      "Enter a number: 7\n",
      "Not a Pronic number\n",
      "Enter a number: 20\n",
      "Pronic number\n"
     ]
    }
   ],
   "source": [
    "def pronic_number():\n",
    "    n = int(input(\"Enter a number: \"))\n",
    "    pronic = 0\n",
    "    for i in range(n):\n",
    "        if i * (i + 1) == n:\n",
    "            pronic = 1\n",
    "            break\n",
    "    if pronic==1:\n",
    "        print(\"Pronic number\")\n",
    "    else:\n",
    "        print(\"Not a Pronic number\")\n",
    "    \n",
    "pronic_number()\n",
    "pronic_number()"
   ]
  },
  {
   "cell_type": "code",
   "execution_count": null,
   "id": "d7b234d9",
   "metadata": {},
   "outputs": [],
   "source": []
  }
 ],
 "metadata": {
  "kernelspec": {
   "display_name": "Python 3 (ipykernel)",
   "language": "python",
   "name": "python3"
  },
  "language_info": {
   "codemirror_mode": {
    "name": "ipython",
    "version": 3
   },
   "file_extension": ".py",
   "mimetype": "text/x-python",
   "name": "python",
   "nbconvert_exporter": "python",
   "pygments_lexer": "ipython3",
   "version": "3.9.7"
  }
 },
 "nbformat": 4,
 "nbformat_minor": 5
}
