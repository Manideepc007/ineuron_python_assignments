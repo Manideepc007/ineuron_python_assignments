{
 "cells": [
  {
   "cell_type": "markdown",
   "id": "a85a9338",
   "metadata": {},
   "source": [
    "1. Write a Python program to find sum of elements in list?"
   ]
  },
  {
   "cell_type": "code",
   "execution_count": 7,
   "id": "ecc13383",
   "metadata": {},
   "outputs": [
    {
     "name": "stdout",
     "output_type": "stream",
     "text": [
      "The sum of the elements in the list is: 15\n"
     ]
    }
   ],
   "source": [
    "def summ(n):\n",
    "    count = 0\n",
    "    for i in n:\n",
    "        count += i\n",
    "    print(f'The sum of the elements in the list is: {count}')\n",
    "\n",
    "n = [1,2,3,4,5]\n",
    "summ(n)"
   ]
  },
  {
   "cell_type": "markdown",
   "id": "cf69bd84",
   "metadata": {},
   "source": [
    "2. Write a Python program to  Multiply all numbers in the list?"
   ]
  },
  {
   "cell_type": "code",
   "execution_count": 9,
   "id": "846d6bbd",
   "metadata": {},
   "outputs": [
    {
     "name": "stdout",
     "output_type": "stream",
     "text": [
      "The product of the elements in the list is: 120\n"
     ]
    }
   ],
   "source": [
    "def mul(n):\n",
    "    count = 1\n",
    "    for i in n:\n",
    "        count *= i\n",
    "    print(f'The product of the elements in the list is: {count}')\n",
    "\n",
    "n = [1,2,3,4,5]\n",
    "mul(n)"
   ]
  },
  {
   "cell_type": "markdown",
   "id": "348b6ea4",
   "metadata": {},
   "source": [
    "3. Write a Python program to find smallest number in a list?"
   ]
  },
  {
   "cell_type": "code",
   "execution_count": 21,
   "id": "40de0de4",
   "metadata": {},
   "outputs": [],
   "source": [
    "def small(n):\n",
    "    smallest = n[0]\n",
    "    for i in n:\n",
    "        if i < smallest:\n",
    "            smallest = i\n",
    "    return (f'The smallest number in the list is {smallest}')"
   ]
  },
  {
   "cell_type": "code",
   "execution_count": 22,
   "id": "4585ddea",
   "metadata": {},
   "outputs": [
    {
     "data": {
      "text/plain": [
       "'The smallest number in the list is -30'"
      ]
     },
     "execution_count": 22,
     "metadata": {},
     "output_type": "execute_result"
    }
   ],
   "source": [
    "n = [120,-20,-30,1]\n",
    "small(n)"
   ]
  },
  {
   "cell_type": "markdown",
   "id": "90289aff",
   "metadata": {},
   "source": [
    "4. Write a Python program to find largest number in a list?"
   ]
  },
  {
   "cell_type": "code",
   "execution_count": 23,
   "id": "f0a9be58",
   "metadata": {},
   "outputs": [],
   "source": [
    "def large(n):\n",
    "    largest = n[-1]\n",
    "    for i in n:\n",
    "        if i > largest:\n",
    "            largest = i\n",
    "    return (f'The largest number in the list is {largest}')"
   ]
  },
  {
   "cell_type": "code",
   "execution_count": 25,
   "id": "1f387969",
   "metadata": {},
   "outputs": [
    {
     "data": {
      "text/plain": [
       "'The largest number in the list is 120'"
      ]
     },
     "execution_count": 25,
     "metadata": {},
     "output_type": "execute_result"
    }
   ],
   "source": [
    "n = [120,-20,-30,1]\n",
    "large(n)"
   ]
  },
  {
   "cell_type": "markdown",
   "id": "ae94aa6d",
   "metadata": {},
   "source": [
    "5. Write a Python program to find second largest number in a list?"
   ]
  },
  {
   "cell_type": "code",
   "execution_count": 50,
   "id": "9e429ed2",
   "metadata": {},
   "outputs": [],
   "source": [
    "def large_but_one(n):\n",
    "    new_list = []\n",
    "    while n:\n",
    "        small = n[0]\n",
    "        for i in n:\n",
    "            if i < small:\n",
    "                small = i\n",
    "        new_list.append(small)\n",
    "        n.remove(small)\n",
    "    return new_list[-2]"
   ]
  },
  {
   "cell_type": "code",
   "execution_count": 51,
   "id": "77a20b70",
   "metadata": {},
   "outputs": [
    {
     "data": {
      "text/plain": [
       "30"
      ]
     },
     "execution_count": 51,
     "metadata": {},
     "output_type": "execute_result"
    }
   ],
   "source": [
    "n = [120,20,30,1]\n",
    "large_but_one(n)"
   ]
  },
  {
   "cell_type": "markdown",
   "id": "c7a9d36c",
   "metadata": {},
   "source": [
    "6. Write a Python program to find N largest elements from a list?"
   ]
  },
  {
   "cell_type": "code",
   "execution_count": 54,
   "id": "65472390",
   "metadata": {},
   "outputs": [],
   "source": [
    "def n_large(n):\n",
    "    new_list = []\n",
    "    while n:\n",
    "        large = n[-1]\n",
    "        for i in n:\n",
    "            if i > large:\n",
    "                large = i\n",
    "        new_list.append(large)\n",
    "        n.remove(large)\n",
    "    k = int(input('Enter number of large numbers required: '))\n",
    "    return new_list[0:k]"
   ]
  },
  {
   "cell_type": "code",
   "execution_count": 55,
   "id": "fa29e7b0",
   "metadata": {},
   "outputs": [
    {
     "name": "stdout",
     "output_type": "stream",
     "text": [
      "Enter number of large numbers required: 4\n"
     ]
    },
    {
     "data": {
      "text/plain": [
       "[120, 71, 68, 20]"
      ]
     },
     "execution_count": 55,
     "metadata": {},
     "output_type": "execute_result"
    }
   ],
   "source": [
    "n = [1,5,20,3,120,-20,71,68]\n",
    "n_large(n)"
   ]
  },
  {
   "cell_type": "markdown",
   "id": "778cf73d",
   "metadata": {},
   "source": [
    "7. Write a Python program to print even numbers in a list?"
   ]
  },
  {
   "cell_type": "code",
   "execution_count": 64,
   "id": "1a173079",
   "metadata": {},
   "outputs": [],
   "source": [
    "def even(n):\n",
    "    for i in n:\n",
    "        if i % 2 ==0:\n",
    "            print(i,end=\" \")"
   ]
  },
  {
   "cell_type": "code",
   "execution_count": 65,
   "id": "55e1d00e",
   "metadata": {},
   "outputs": [
    {
     "name": "stdout",
     "output_type": "stream",
     "text": [
      "20 120 -20 68 "
     ]
    }
   ],
   "source": [
    "n = [1,5,20,3,120,-20,71,68]\n",
    "even(n)"
   ]
  },
  {
   "cell_type": "markdown",
   "id": "5dcf5ac4",
   "metadata": {},
   "source": [
    "8. Write a Python program to print odd numbers in a List?"
   ]
  },
  {
   "cell_type": "code",
   "execution_count": 66,
   "id": "564793fa",
   "metadata": {},
   "outputs": [],
   "source": [
    "def odd(n):\n",
    "    for i in n:\n",
    "        if i % 2 !=0:\n",
    "            print(i,end=' ')"
   ]
  },
  {
   "cell_type": "code",
   "execution_count": 67,
   "id": "663ac68d",
   "metadata": {},
   "outputs": [
    {
     "name": "stdout",
     "output_type": "stream",
     "text": [
      "1 5 3 71 "
     ]
    }
   ],
   "source": [
    "n = [1,5,20,3,120,-20,71,68]\n",
    "odd(n)"
   ]
  },
  {
   "cell_type": "markdown",
   "id": "c1e2a412",
   "metadata": {},
   "source": [
    "9. Write a Python program to Remove empty List from List?"
   ]
  },
  {
   "cell_type": "code",
   "execution_count": 68,
   "id": "b167069f",
   "metadata": {},
   "outputs": [],
   "source": [
    "def empty(n):\n",
    "    result = list(filter(None, n))\n",
    "    print (\"List after empty list removal : \" + str(result))"
   ]
  },
  {
   "cell_type": "code",
   "execution_count": 71,
   "id": "cc6301a9",
   "metadata": {},
   "outputs": [
    {
     "name": "stdout",
     "output_type": "stream",
     "text": [
      "List after empty list removal : [1, 2, 3, 4, 5, 9]\n"
     ]
    }
   ],
   "source": [
    "myList = [1, [], 2, 3, [], 4, 5, [], [], 9]\n",
    "empty(myList)"
   ]
  },
  {
   "cell_type": "markdown",
   "id": "01376564",
   "metadata": {},
   "source": [
    "10. Write a Python program to Cloning or Copying a list?"
   ]
  },
  {
   "cell_type": "code",
   "execution_count": 77,
   "id": "d9af2e93",
   "metadata": {},
   "outputs": [
    {
     "name": "stdout",
     "output_type": "stream",
     "text": [
      "Enter a list[1,2,3,20,51]\n",
      "[1, 2, 3, 20, 51] 2009206803392\n",
      "[1, 2, 3, 20, 51] 2009207010048\n"
     ]
    }
   ],
   "source": [
    "import copy\n",
    "\n",
    "def cloneList():\n",
    "    lst = eval(input('Enter a list'))\n",
    "    print(lst, id(lst))\n",
    "    cloned_list = lst.copy()\n",
    "    print(cloned_list, id(cloned_list))\n",
    "\n",
    "cloneList()"
   ]
  },
  {
   "cell_type": "markdown",
   "id": "758c1e6f",
   "metadata": {},
   "source": [
    "11. Write a Python program to Count occurrences of an element in a list?"
   ]
  },
  {
   "cell_type": "code",
   "execution_count": 80,
   "id": "5f35705a",
   "metadata": {},
   "outputs": [],
   "source": [
    "def count(n):\n",
    "    ele = eval(input('Enter the number to count number of occurence in the list:  '))\n",
    "    count = 0\n",
    "    for i in n:\n",
    "        if i == ele:\n",
    "            count +=1\n",
    "    print(f'The number {ele} appeared in the list {count} times')"
   ]
  },
  {
   "cell_type": "code",
   "execution_count": 81,
   "id": "67c05b6e",
   "metadata": {},
   "outputs": [
    {
     "name": "stdout",
     "output_type": "stream",
     "text": [
      "Enter the number to count number of occurence in the list:  5\n",
      "The number 5 appeared in the list 2 times\n"
     ]
    }
   ],
   "source": [
    "n = [1,5,20,3,120,-20,71,68,5]\n",
    "count(n)"
   ]
  },
  {
   "cell_type": "code",
   "execution_count": null,
   "id": "f7d3ecc2",
   "metadata": {},
   "outputs": [],
   "source": []
  }
 ],
 "metadata": {
  "kernelspec": {
   "display_name": "Python 3 (ipykernel)",
   "language": "python",
   "name": "python3"
  },
  "language_info": {
   "codemirror_mode": {
    "name": "ipython",
    "version": 3
   },
   "file_extension": ".py",
   "mimetype": "text/x-python",
   "name": "python",
   "nbconvert_exporter": "python",
   "pygments_lexer": "ipython3",
   "version": "3.9.7"
  }
 },
 "nbformat": 4,
 "nbformat_minor": 5
}
