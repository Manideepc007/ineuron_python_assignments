{
 "cells": [
  {
   "cell_type": "markdown",
   "id": "115e15bc",
   "metadata": {},
   "source": [
    "#### 1.Create a function that takes a number as an argument and returns True or False depending on whether the number is symmetrical or not. A number is symmetrical when it is the same as its reverse.\n",
    "\n",
    "Examples\n",
    "\n",
    "`is_symmetrical(7227) ➞ True`\n",
    "\n",
    "`is_symmetrical(12567) ➞ False`\n",
    "\n",
    "`is_symmetrical(44444444) ➞ True`\n",
    "\n",
    "`is_symmetrical(9939) ➞ False`\n",
    "\n",
    "`is_symmetrical(1112111) ➞ True`"
   ]
  },
  {
   "cell_type": "code",
   "execution_count": 13,
   "id": "6779d3d0",
   "metadata": {},
   "outputs": [
    {
     "name": "stdout",
     "output_type": "stream",
     "text": [
      "7227 ➞ True\n",
      "12567 ➞ False\n",
      "44444444 ➞ True\n",
      "9939 ➞ False\n",
      "1112111 ➞ True\n"
     ]
    }
   ],
   "source": [
    "def is_symmetrical(n):\n",
    "    if str(n) == str(n)[::-1]:\n",
    "        print(f'{n} ➞ {True}')\n",
    "    else:\n",
    "        print(f'{n} ➞ {False}')\n",
    "        \n",
    "is_symmetrical(7227)\n",
    "is_symmetrical(12567)\n",
    "is_symmetrical(44444444)\n",
    "is_symmetrical(9939)\n",
    "is_symmetrical(1112111)"
   ]
  },
  {
   "cell_type": "markdown",
   "id": "6abffeb7",
   "metadata": {},
   "source": [
    "#### 2.Given a string of numbers separated by a comma and space, return the product of the numbers.\n",
    "\n",
    "Examples\n",
    "\n",
    "`multiply_nums(\"2, 3\") ➞ 6`\n",
    "\n",
    "`multiply_nums(\"1, 2, 3, 4\") ➞ 24`\n",
    "\n",
    "`multiply_nums(\"54, 75, 453, 0\") ➞ 0`\n",
    "\n",
    "`multiply_nums(\"10, -2\") ➞ -20`"
   ]
  },
  {
   "cell_type": "code",
   "execution_count": 22,
   "id": "67e668c6",
   "metadata": {},
   "outputs": [
    {
     "name": "stdout",
     "output_type": "stream",
     "text": [
      "['2', '3'] ➞ 6\n",
      "['1', '2', '3', '4'] ➞ 24\n",
      "['54', '75', '453', '0'] ➞ 0\n",
      "['10', '-2'] ➞ -20\n"
     ]
    }
   ],
   "source": [
    "def multiply_nums(string):\n",
    "    result = string.replace(' ','').split(',')\n",
    "    counter = 1\n",
    "    for ele in result:\n",
    "        counter *= int(ele)\n",
    "    print(f'{result} ➞ {counter}')\n",
    "    \n",
    "multiply_nums(\"2, 3\")\n",
    "multiply_nums(\"1, 2, 3, 4\")\n",
    "multiply_nums(\"54, 75, 453, 0\")\n",
    "multiply_nums(\"10, -2\")"
   ]
  },
  {
   "cell_type": "markdown",
   "id": "93d2e4aa",
   "metadata": {},
   "source": [
    "#### 3.Create a function that squares every digit of a number.\n",
    "\n",
    "Examples\n",
    "\n",
    "`square_digits(9119) ➞ 811181`\n",
    "\n",
    "`square_digits(2483) ➞ 416649`\n",
    "\n",
    "`square_digits(3212) ➞ 9414`\n",
    "\n",
    "Notes\n",
    "\n",
    "The function receives an integer and must return an integer.\n"
   ]
  },
  {
   "cell_type": "code",
   "execution_count": 37,
   "id": "304d75e5",
   "metadata": {},
   "outputs": [
    {
     "name": "stdout",
     "output_type": "stream",
     "text": [
      "9119 ➞ 811181\n",
      "2483 ➞ 416649\n",
      "3212 ➞ 9414\n"
     ]
    }
   ],
   "source": [
    "def square_digits(num):\n",
    "    list_num = [str(int(ele)**2) for ele in str(num)]\n",
    "    result = ''.join(list_num)\n",
    "    print(f'{num} ➞ {int(result)}')\n",
    "\n",
    "square_digits(9119)\n",
    "square_digits(2483)\n",
    "square_digits(3212)"
   ]
  },
  {
   "cell_type": "markdown",
   "id": "55cbd2a0",
   "metadata": {},
   "source": [
    "#### 4.Create a function that sorts a list and removes all duplicate items from it.\n",
    "\n",
    "Examples\n",
    "\n",
    "`setify([1, 3, 3, 5, 5]) ➞ [1, 3, 5]`\n",
    "\n",
    "`setify([4, 4, 4, 4]) ➞ [4]`\n",
    "\n",
    "`setify([5, 7, 8, 9, 10, 15]) ➞ [5, 7, 8, 9, 10, 15]`\n",
    "\n",
    "`setify([3, 3, 3, 2, 1]) ➞ [1, 2, 3]`"
   ]
  },
  {
   "cell_type": "code",
   "execution_count": 45,
   "id": "1775e4ec",
   "metadata": {},
   "outputs": [
    {
     "name": "stdout",
     "output_type": "stream",
     "text": [
      "[1, 3, 3, 5, 5] ➞ [1, 3, 5]\n",
      "[4, 4, 4, 4] ➞ [4]\n",
      "[5, 7, 8, 9, 10, 15] ➞ [5, 7, 8, 9, 10, 15]\n",
      "[3, 3, 3, 2, 1] ➞ [1, 2, 3]\n"
     ]
    }
   ],
   "source": [
    "def setify(lst):\n",
    "    result = sorted(set(lst))\n",
    "    print(f'{lst} ➞ {result}')\n",
    "    \n",
    "setify([1, 3, 3, 5, 5]) \n",
    "setify([4, 4, 4, 4])\n",
    "setify([5, 7, 8, 9, 10, 15])\n",
    "setify([3, 3, 3, 2, 1])"
   ]
  },
  {
   "cell_type": "markdown",
   "id": "e2e839df",
   "metadata": {},
   "source": [
    "#### 5.Create a function that returns the mean of all digits.\n",
    "\n",
    "Examples\n",
    "\n",
    "`mean(42) ➞ 3`\n",
    "\n",
    "`mean(12345) ➞ 3`\n",
    "\n",
    "`mean(666) ➞ 6`\n",
    "\n",
    "Notes\n",
    "\n",
    "The mean of all digits is the sum of digits / how many digits there are (e.g. mean of digits in 512 is (5+1+2)/3(number of digits) = 8/3=2).\n",
    "\n",
    "The mean will always be an integer.\n"
   ]
  },
  {
   "cell_type": "code",
   "execution_count": 48,
   "id": "3fadf844",
   "metadata": {},
   "outputs": [
    {
     "name": "stdout",
     "output_type": "stream",
     "text": [
      "Mean of 42  ➞ 3\n",
      "Mean of 12345  ➞ 3\n",
      "Mean of 666  ➞ 6\n"
     ]
    }
   ],
   "source": [
    "def mean(num):\n",
    "    lst = [int(ele) for ele in str(num)]\n",
    "    result = sum(lst)/len(str(num))\n",
    "    print(f'Mean of {num}  ➞ {result:.0f}')\n",
    "    \n",
    "mean(42)\n",
    "mean(12345)\n",
    "mean(666)"
   ]
  },
  {
   "cell_type": "code",
   "execution_count": null,
   "id": "2185517c",
   "metadata": {},
   "outputs": [],
   "source": []
  }
 ],
 "metadata": {
  "kernelspec": {
   "display_name": "Python 3 (ipykernel)",
   "language": "python",
   "name": "python3"
  },
  "language_info": {
   "codemirror_mode": {
    "name": "ipython",
    "version": 3
   },
   "file_extension": ".py",
   "mimetype": "text/x-python",
   "name": "python",
   "nbconvert_exporter": "python",
   "pygments_lexer": "ipython3",
   "version": "3.9.7"
  }
 },
 "nbformat": 4,
 "nbformat_minor": 5
}
