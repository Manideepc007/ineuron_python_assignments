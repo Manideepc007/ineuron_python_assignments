{
 "cells": [
  {
   "cell_type": "markdown",
   "id": "3fa0ef3b",
   "metadata": {},
   "source": [
    "#### 1. Write a function that takes a list of lists and returns the value of all of the symbols in it, where each symbol adds or takes something from the total score. Symbol values:\n",
    "\n",
    "`# = 5`\n",
    "`O = 3`\n",
    "`X = 1`\n",
    "`! = -1`\n",
    "`!! = -3`\n",
    "`!!! = -5`\n",
    "\n",
    "A list of lists containing 2 #s, a O, and a !!! would equal (0 + 5 + 5 + 3 - 5) 8.\n",
    "\n",
    "If the final score is negative, return 0 (e.g. 3 #s, 3 !!s, 2 !!!s and a X would be (0 + 5 + 5 + 5 - 3 - 3 - 3 - 5 - 5 + 1) -3, so return 0.\n",
    "\n",
    "Examples\n",
    "\n",
    "`check_score([\n",
    "  [\"#\", \"!\"],\n",
    "  [\"!!\", \"X\"]\n",
    "])` ➞ 2\n",
    "\n",
    "`check_score([\n",
    "  [\"!!!\", \"O\", \"!\"],\n",
    "  [\"X\", \"#\", \"!!!\"],\n",
    "  [\"!!\", \"X\", \"O\"]\n",
    "])` ➞ 0\n"
   ]
  },
  {
   "cell_type": "code",
   "execution_count": 27,
   "id": "8d8339f9",
   "metadata": {},
   "outputs": [
    {
     "name": "stdout",
     "output_type": "stream",
     "text": [
      "[['#', '!'], ['!!', 'X']] ➞ 2\n",
      "[['!!!', 'O', '!'], ['X', '#', '!!!'], ['!!', 'X', 'O']] ➞ 0\n"
     ]
    }
   ],
   "source": [
    "def check_score(lst):\n",
    "    symbols = {'#':5,'O':3,'X':1,'!':-1,'!!':-3,'!!!':-5}\n",
    "    score = 0\n",
    "    for i in lst:\n",
    "        for j in i:\n",
    "            score += symbols[j]\n",
    "    if score < 0:\n",
    "        print(f\"{lst} ➞ 0\")\n",
    "    else:\n",
    "        print(f\"{lst} ➞ {score}\")\n",
    "    \n",
    "    \n",
    "check_score([\n",
    "  [\"#\", \"!\"],\n",
    "  [\"!!\", \"X\"]\n",
    "])\n",
    "check_score([\n",
    "  [\"!!!\", \"O\", \"!\"],\n",
    "  [\"X\", \"#\", \"!!!\"],\n",
    "  [\"!!\", \"X\", \"O\"]\n",
    "])"
   ]
  },
  {
   "cell_type": "markdown",
   "id": "ab34c15e",
   "metadata": {},
   "source": [
    "#### 2. Create a function that takes a variable number of arguments, each argument representing the number of items in a group, and returns the number of permutations (combinations) of items that you could get by taking one item from each group.\n",
    "\n",
    "**Examples**\n",
    "\n",
    "`combinations(2, 3) ➞ 6`\n",
    "\n",
    "`combinations(3, 7, 4) ➞ 84`\n",
    "\n",
    "`combinations(2, 3, 4, 5) ➞ 120`\n"
   ]
  },
  {
   "cell_type": "code",
   "execution_count": 59,
   "id": "e5c09512",
   "metadata": {},
   "outputs": [
    {
     "name": "stdout",
     "output_type": "stream",
     "text": [
      "combinations(2, 3) ➞  6\n",
      "combinations(3, 7, 4) ➞  84\n",
      "combinations(2, 3, 4, 5) ➞  120\n"
     ]
    }
   ],
   "source": [
    "def combinations(*args):\n",
    "    result = 1\n",
    "    for i in args:\n",
    "        result *= i\n",
    "    return result\n",
    "\n",
    "print('combinations(2, 3) ➞ ',combinations(2, 3))\n",
    "print('combinations(3, 7, 4) ➞ ',combinations(3, 7, 4))\n",
    "print('combinations(2, 3, 4, 5) ➞ ',combinations(2, 3, 4, 5))"
   ]
  },
  {
   "cell_type": "markdown",
   "id": "bece73b3",
   "metadata": {},
   "source": [
    "#### 3. Create a function that takes a string as an argument and returns the Morse code equivalent.\n",
    "\n",
    "**Examples**\n",
    "\n",
    "`encode_morse(\"EDABBIT CHALLENGE\") ➞ \". -.. .- -... -... .. -   -.-. .... .- .-.. .-.. . -. --. .\"`\n",
    "\n",
    "`encode_morse(\"HELP ME !\") ➞ \".... . .-.. .--.   -- .   -.-.--\"`\n",
    "\n",
    "**This dictionary can be used for coding:**\n",
    "\n",
    "`char_to_dots = {\n",
    "  'A': '.-', 'B': '-...', 'C': '-.-.', 'D': '-..', 'E': '.', 'F': '..-.',\n",
    "  'G': '--.', 'H': '....', 'I': '..', 'J': '.---', 'K': '-.-', 'L': '.-..',\n",
    "  'M': '--', 'N': '-.', 'O': '---', 'P': '.--.', 'Q': '--.-', 'R': '.-.',\n",
    "  'S': '...', 'T': '-', 'U': '..-', 'V': '...-', 'W': '.--', 'X': '-..-',\n",
    "  'Y': '-.--', 'Z': '--..', ' ': ' ', '0': '-----',\n",
    "  '1': '.----', '2': '..---', '3': '...--', '4': '....-', '5': '.....',\n",
    "  '6': '-....', '7': '--...', '8': '---..', '9': '----.',\n",
    "  '&': '.-...', \"'\": '.----.', '@': '.--.-.', ')': '-.--.-', '(': '-.--.',\n",
    "  ':': '---...', ',': '--..--', '=': '-...-', '!': '-.-.--', '.': '.-.-.-',\n",
    "  '-': '-....-', '+': '.-.-.', '\"': '.-..-.', '?': '..--..', '/': '-..-.'\n",
    "}`\n"
   ]
  },
  {
   "cell_type": "code",
   "execution_count": 66,
   "id": "8cef8924",
   "metadata": {},
   "outputs": [
    {
     "name": "stdout",
     "output_type": "stream",
     "text": [
      "EDABBIT CHALLENGE ➞  . -.. .- -... -... .. -   -.-. .... .- .-.. .-.. . -. --. .\n",
      "HELP ME ! ➞  .... . .-.. .--.   -- .   -.-.--\n"
     ]
    }
   ],
   "source": [
    "def encode_morse(string):\n",
    "    char_to_dots = {\n",
    "      'A': '.-', 'B': '-...', 'C': '-.-.', 'D': '-..', 'E': '.', 'F': '..-.',\n",
    "      'G': '--.', 'H': '....', 'I': '..', 'J': '.---', 'K': '-.-', 'L': '.-..',\n",
    "      'M': '--', 'N': '-.', 'O': '---', 'P': '.--.', 'Q': '--.-', 'R': '.-.',\n",
    "      'S': '...', 'T': '-', 'U': '..-', 'V': '...-', 'W': '.--', 'X': '-..-',\n",
    "      'Y': '-.--', 'Z': '--..', ' ': ' ', '0': '-----',\n",
    "      '1': '.----', '2': '..---', '3': '...--', '4': '....-', '5': '.....',\n",
    "      '6': '-....', '7': '--...', '8': '---..', '9': '----.',\n",
    "      '&': '.-...', \"'\": '.----.', '@': '.--.-.', ')': '-.--.-', '(': '-.--.',\n",
    "      ':': '---...', ',': '--..--', '=': '-...-', '!': '-.-.--', '.': '.-.-.-',\n",
    "      '-': '-....-', '+': '.-.-.', '\"': '.-..-.', '?': '..--..', '/': '-..-.'}\n",
    "    encode = ''\n",
    "    for i in string:\n",
    "        if i in char_to_dots:\n",
    "            encode +=' '+char_to_dots[i]     \n",
    "    print(f'{string} ➞ {encode}')\n",
    "\n",
    "\n",
    "encode_morse(\"EDABBIT CHALLENGE\")\n",
    "encode_morse(\"HELP ME !\")   "
   ]
  },
  {
   "cell_type": "markdown",
   "id": "70dc15e3",
   "metadata": {},
   "source": [
    "#### 4.  Write a function that takes a number and returns True if it's a prime; False otherwise. The number can be 2^64-1 (2 to the power of 63, not XOR). With the standard technique it would be O(2^64-1), which is much too large for the 10 second time limit.\n",
    "\n",
    "**Examples**\n",
    "\n",
    "`prime(7) ➞ True`\n",
    "\n",
    "`prime(56963) ➞ True`\n",
    "\n",
    "`prime(5151512515524) ➞ False`\n"
   ]
  },
  {
   "cell_type": "code",
   "execution_count": 78,
   "id": "cddedfee",
   "metadata": {},
   "outputs": [],
   "source": [
    "import random,time\n",
    "\n",
    "def prime(n):\n",
    "    def binpower(a, b, n):\n",
    "        if b == 0:\n",
    "            return 1\n",
    "        if b % 2 == 0:\n",
    "            return binpower(a * a % n, b // 2, n)\n",
    "        else:\n",
    "            return a * binpower(a * a % n, b // 2, n) % n\n",
    "\n",
    "    def check_composite(n, a, d, s):\n",
    "        x = binpower(a, d, n)\n",
    "        if x == 1 or x == n - 1:\n",
    "            return False\n",
    "        for r in range(1, s):\n",
    "            x = binpower(x, 2, n)\n",
    "            if x == n - 1:\n",
    "                return False\n",
    "        return True\n",
    "\n",
    "    def MillerRabin_PrimalityTesting(n, iter=5):\n",
    "        if n < 4:\n",
    "            return n == 2 or n == 3\n",
    "        s = 0\n",
    "\n",
    "        d = n - 1\n",
    "        while d % 2 == 0:\n",
    "            d //= 2\n",
    "            s += 1\n",
    "\n",
    "        for i in range(iter):\n",
    "            a = 2 + random.randint(0, n - 3)\n",
    "            if check_composite(n, a, d, s):\n",
    "                return False\n",
    "        return True\n",
    "\n",
    "    if MillerRabin_PrimalityTesting(n):\n",
    "        print(\"Prime Number\")\n",
    "    else:\n",
    "        print(\"Not Prime Number\")"
   ]
  },
  {
   "cell_type": "code",
   "execution_count": 79,
   "id": "54b65a1b",
   "metadata": {},
   "outputs": [
    {
     "name": "stdout",
     "output_type": "stream",
     "text": [
      "Not Prime Number\n",
      "Time required: 0.0009970664978027344\n"
     ]
    }
   ],
   "source": [
    "t0 = time.time()\n",
    "prime(5151512515524)\n",
    "t1 = time.time()\n",
    "print(\"Time required:\", t1 - t0)"
   ]
  },
  {
   "cell_type": "code",
   "execution_count": 76,
   "id": "81c10623",
   "metadata": {},
   "outputs": [
    {
     "name": "stdout",
     "output_type": "stream",
     "text": [
      "Prime Number\n",
      "Time required: 0.000997781753540039\n"
     ]
    }
   ],
   "source": [
    "t0 = time.time()\n",
    "prime(56963)\n",
    "t1 = time.time()\n",
    "print(\"Time required:\", t1 - t0)"
   ]
  },
  {
   "cell_type": "code",
   "execution_count": 77,
   "id": "d8fb80c6",
   "metadata": {},
   "outputs": [
    {
     "name": "stdout",
     "output_type": "stream",
     "text": [
      "Prime Number\n",
      "Time required: 0.0009982585906982422\n"
     ]
    }
   ],
   "source": [
    "t0 = time.time()\n",
    "prime(7)\n",
    "t1 = time.time()\n",
    "print(\"Time required:\", t1 - t0)"
   ]
  },
  {
   "cell_type": "markdown",
   "id": "0cd5a8fa",
   "metadata": {},
   "source": [
    "#### 5.Create a function that converts a word to a bitstring and then to a boolean list based on the following criteria:\n",
    "    1. Locate the position of the letter in the English alphabet (from 1 to 26).\n",
    "    2. Odd positions will be represented as 1 and 0 otherwise.\n",
    "    3. Convert the represented positions to boolean values, 1 for True and 0 for False.\n",
    "    4. Store the conversions into an array.\n",
    "\n",
    "**Examples:**  \n",
    "`to_boolean_list(\"deep\") ➞ [False, True, True, False]`     \n",
    "    `# deep converts to 0110`  \n",
    "    `# d is the 4th alphabet - 0`  \n",
    "    `# e is the 5th alphabet - 1`  \n",
    "    `# e is the 5th alphabet - 1`  \n",
    "    `# p is the 16th alphabet - 0`  \n",
    "`to_boolean_list(\"loves\") ➞ [False, True, False, True, True]`  \n",
    "`to_boolean_list(\"tesh\") ➞ [False, True, True, False]` "
   ]
  },
  {
   "cell_type": "code",
   "execution_count": 81,
   "id": "da7c7477",
   "metadata": {},
   "outputs": [
    {
     "name": "stdout",
     "output_type": "stream",
     "text": [
      "to_boolean_list(deep) ➞ [False, True, True, False]\n",
      "to_boolean_list(loves) ➞ [False, True, False, True, True]\n",
      "to_boolean_list(tesh) ➞ [False, True, True, False]\n"
     ]
    }
   ],
   "source": [
    "def to_boolean_list(string):\n",
    "    alphabets = 'abcdefghijklmnopqrstuvwxyz'\n",
    "    result = []\n",
    "    for ele in string:\n",
    "        result.append(bool((alphabets.index(ele)+1)%2))\n",
    "    print(f'to_boolean_list({string}) ➞ {result}')\n",
    "    \n",
    "to_boolean_list(\"deep\")\n",
    "to_boolean_list(\"loves\")\n",
    "to_boolean_list(\"tesh\")"
   ]
  },
  {
   "cell_type": "code",
   "execution_count": null,
   "id": "000e0780",
   "metadata": {},
   "outputs": [],
   "source": []
  }
 ],
 "metadata": {
  "kernelspec": {
   "display_name": "Python 3 (ipykernel)",
   "language": "python",
   "name": "python3"
  },
  "language_info": {
   "codemirror_mode": {
    "name": "ipython",
    "version": 3
   },
   "file_extension": ".py",
   "mimetype": "text/x-python",
   "name": "python",
   "nbconvert_exporter": "python",
   "pygments_lexer": "ipython3",
   "version": "3.9.7"
  }
 },
 "nbformat": 4,
 "nbformat_minor": 5
}
