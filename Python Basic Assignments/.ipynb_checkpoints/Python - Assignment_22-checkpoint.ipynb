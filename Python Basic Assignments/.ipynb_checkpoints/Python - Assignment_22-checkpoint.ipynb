{
 "cells": [
  {
   "cell_type": "code",
   "execution_count": 2,
   "id": "beb0e097",
   "metadata": {},
   "outputs": [
    {
     "name": "stdout",
     "output_type": "stream",
     "text": [
      "iNeuron\n"
     ]
    }
   ],
   "source": [
    "### 1. What is the result of the code, and explain?\n",
    "\n",
    "\n",
    "X = 'iNeuron'\n",
    "def func():\n",
    "    print(X)\n",
    "\n",
    "\n",
    "func()"
   ]
  },
  {
   "cell_type": "code",
   "execution_count": 5,
   "id": "63e488e1",
   "metadata": {},
   "outputs": [
    {
     "data": {
      "text/plain": [
       "'The global variables are accessible in side the functions in python. But we can not access function variable out side \\nfunction. \\nSince X is golbal variable we are able to print it in side the function\\nsolution : \"iNeuron\"'"
      ]
     },
     "execution_count": 5,
     "metadata": {},
     "output_type": "execute_result"
    }
   ],
   "source": [
    "'''The global variables are accessible in side the functions in python. But we can not access function variable out side \n",
    "function. \n",
    "Since X is golbal variable we are able to print it in side the function\n",
    "solution : \"iNeuron\"'''"
   ]
  },
  {
   "cell_type": "code",
   "execution_count": 9,
   "id": "d4f99f58",
   "metadata": {},
   "outputs": [
    {
     "name": "stdout",
     "output_type": "stream",
     "text": [
      "NI!\n"
     ]
    }
   ],
   "source": [
    "# 2. What is the result of the code, and explain?\n",
    "\n",
    "X = 'iNeuron'\n",
    "\n",
    "def func():\n",
    "    X = 'NI!'\n",
    "    print(X)\n",
    "\n",
    "func()"
   ]
  },
  {
   "cell_type": "markdown",
   "id": "19af9550",
   "metadata": {},
   "source": [
    "Here, 'X'='iNeuron' is a global but 'X'='NI!' is a local variable. so, in global area we are not allowed to print local variable of function b it's scope expires outside the function."
   ]
  },
  {
   "cell_type": "code",
   "execution_count": 10,
   "id": "9c05d836",
   "metadata": {},
   "outputs": [
    {
     "name": "stdout",
     "output_type": "stream",
     "text": [
      "NI\n",
      "iNeuron\n"
     ]
    }
   ],
   "source": [
    "### 3. What does this code print, and why?\n",
    "\n",
    "\n",
    "X = 'iNeuron'\n",
    "def func():\n",
    "    X = 'NI'\n",
    "    print(X)\n",
    "\n",
    "\n",
    "func()\n",
    "print(X)\n"
   ]
  },
  {
   "cell_type": "code",
   "execution_count": 11,
   "id": "93171641",
   "metadata": {},
   "outputs": [],
   "source": [
    "### Here, func() takes local variable X=NI and print(X) takes global variable X = 'ineuron'"
   ]
  },
  {
   "cell_type": "code",
   "execution_count": 14,
   "id": "bcb3b1d5",
   "metadata": {},
   "outputs": [
    {
     "name": "stdout",
     "output_type": "stream",
     "text": [
      "NI\n"
     ]
    }
   ],
   "source": [
    "## 4. What output does this code produce? Why?\n",
    "\n",
    "\n",
    "X = 'iNeuron'\n",
    "def func():\n",
    "    global X\n",
    "    X = 'NI'\n",
    "\n",
    "\n",
    "func()\n",
    "print(X)\n"
   ]
  },
  {
   "cell_type": "markdown",
   "id": "32b2427d",
   "metadata": {},
   "source": [
    "Inside the function, we are assigning X as global. So, while calling\n",
    "it will override the value."
   ]
  },
  {
   "cell_type": "code",
   "execution_count": 23,
   "id": "6ee622e8",
   "metadata": {},
   "outputs": [
    {
     "name": "stdout",
     "output_type": "stream",
     "text": [
      "NI\n",
      "iNeuron\n"
     ]
    }
   ],
   "source": [
    "### 5. What about this code—what’s the output, and why?\n",
    "\n",
    "\n",
    "X = 'iNeuron'\n",
    "def func():\n",
    "    X = 'NI'\n",
    "    def nested():\n",
    "        print(X)\n",
    "    nested()\n",
    "\n",
    "func()\n",
    "\n",
    "print(X)"
   ]
  },
  {
   "cell_type": "markdown",
   "id": "2fcf8f20",
   "metadata": {},
   "source": [
    "here in func() we defined  the nested() method and these fun has local variable 'Ni' so it's prnting local variable in nested \n",
    "function."
   ]
  },
  {
   "cell_type": "code",
   "execution_count": 24,
   "id": "a5309d79",
   "metadata": {},
   "outputs": [
    {
     "name": "stdout",
     "output_type": "stream",
     "text": [
      "Spam\n"
     ]
    }
   ],
   "source": [
    "### 6. How about this code: what is its output in Python 3, and explain?\n",
    "\n",
    "\n",
    "def func():\n",
    "    X = 'NI'\n",
    "    def nested():\n",
    "        nonlocal X\n",
    "        X = 'Spam'\n",
    "    nested()\n",
    "    print(X)\n",
    "\n",
    "\n",
    "func()\n"
   ]
  },
  {
   "cell_type": "markdown",
   "id": "0dc93762",
   "metadata": {},
   "source": [
    "Nonlocal variables are used in nested functions whose local scope is not defined. \n",
    "This means that the variable can be neither in the local nor the global scope. it print the updated value from nested \n",
    "function\n",
    "\n",
    "Solution : 'spam'"
   ]
  },
  {
   "cell_type": "code",
   "execution_count": null,
   "id": "fbb21590",
   "metadata": {},
   "outputs": [],
   "source": []
  }
 ],
 "metadata": {
  "kernelspec": {
   "display_name": "Python 3 (ipykernel)",
   "language": "python",
   "name": "python3"
  },
  "language_info": {
   "codemirror_mode": {
    "name": "ipython",
    "version": 3
   },
   "file_extension": ".py",
   "mimetype": "text/x-python",
   "name": "python",
   "nbconvert_exporter": "python",
   "pygments_lexer": "ipython3",
   "version": "3.9.7"
  }
 },
 "nbformat": 4,
 "nbformat_minor": 5
}
