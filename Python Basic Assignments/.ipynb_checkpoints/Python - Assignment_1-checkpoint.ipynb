{
 "cells": [
  {
   "cell_type": "raw",
   "metadata": {},
   "source": [
    "# 1. In the below elements which of them are values or an expression? eg:- values can be integer or string and expressions will be mathematical operators.\n",
    "# * => expression\n",
    "# 'hello' => values\n",
    "# -87.8 => values\n",
    "# - => expression\n",
    "# / => expression\n",
    "# + => expression\n",
    "# 6  => values"
   ]
  },
  {
   "cell_type": "raw",
   "metadata": {},
   "source": [
    "#2. What is the difference between string and variable?\n",
    "\n",
    "#variable => to store various data values in memory.\n",
    "#string => any data in quotes"
   ]
  },
  {
   "cell_type": "raw",
   "metadata": {},
   "source": [
    "#3. Describe three different data types.\n",
    "\n",
    "String => Holds the data in quotes\n",
    "Numeric Types=> int: +ve/-ve integer values , float: decimal values, complex: complex values.\n",
    "Sequence Types=> list, tuple, range\n",
    "Mapping Type: dict => holds data in key,value.\n",
    "Set Types: set => holds unique values, unordered\n",
    "Boolean Type => returns True or False"
   ]
  },
  {
   "cell_type": "raw",
   "metadata": {},
   "source": [
    "#4. What is an expression made up of? What do all expressions do?\n",
    "\n",
    "#Constant Expressions: expressions have constant values only.\n",
    "#Arithmetic Expressions: +,-,*,/,// etc\n",
    "#Relational Expressions: >,<,>=,<= \n",
    "#etc"
   ]
  },
  {
   "cell_type": "raw",
   "metadata": {},
   "source": [
    "5. This assignment statements, like spam = 10. What is the difference between an expression and a statement?\n",
    "\n",
    "'=' expression assigning value to spam variable.\n",
    "Statement: Instructions to a Python interpreter which can execute are called statements."
   ]
  },
  {
   "cell_type": "code",
   "execution_count": 1,
   "metadata": {},
   "outputs": [
    {
     "data": {
      "text/plain": [
       "23"
      ]
     },
     "execution_count": 1,
     "metadata": {},
     "output_type": "execute_result"
    }
   ],
   "source": [
    "#6. After running the following code, what does the variable bacon contain?\n",
    "bacon = 22\n",
    "bacon + 1"
   ]
  },
  {
   "cell_type": "code",
   "execution_count": 1,
   "metadata": {},
   "outputs": [
    {
     "name": "stdout",
     "output_type": "stream",
     "text": [
      "spamspamspam\n",
      "spamspamspam\n"
     ]
    }
   ],
   "source": [
    "#7. What should the values of the following two terms be?\n",
    "print('spam' + 'spamspam')\n",
    "print('spam' * 3)"
   ]
  },
  {
   "cell_type": "raw",
   "metadata": {},
   "source": [
    "# 8. Why is eggs a valid variable name while 100 is invalid?\n",
    "\n",
    "#a variable should not be integers."
   ]
  },
  {
   "cell_type": "raw",
   "metadata": {},
   "source": [
    "9. What three functions can be used to get the integer, floating-point number, or string version of a value?\n",
    "int = integer\n",
    "float = floating-point number\n",
    "str = string"
   ]
  },
  {
   "cell_type": "code",
   "execution_count": 3,
   "metadata": {},
   "outputs": [
    {
     "data": {
      "text/plain": [
       "'I have eaten 99 burritos.'"
      ]
     },
     "execution_count": 3,
     "metadata": {},
     "output_type": "execute_result"
    }
   ],
   "source": [
    "#10. Why does this expression cause an error? How can you fix it?\n",
    "#Python concatenate string with string, in below code we have to add quotes value in order to concatenate the string\n",
    "'I have eaten ' + '99' + ' burritos.'\n"
   ]
  },
  {
   "cell_type": "code",
   "execution_count": null,
   "metadata": {},
   "outputs": [],
   "source": []
  }
 ],
 "metadata": {
  "kernelspec": {
   "display_name": "Python 3",
   "language": "python",
   "name": "python3"
  },
  "language_info": {
   "codemirror_mode": {
    "name": "ipython",
    "version": 3
   },
   "file_extension": ".py",
   "mimetype": "text/x-python",
   "name": "python",
   "nbconvert_exporter": "python",
   "pygments_lexer": "ipython3",
   "version": "3.8.5"
  }
 },
 "nbformat": 4,
 "nbformat_minor": 4
}
