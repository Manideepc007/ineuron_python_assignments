{
 "cells": [
  {
   "cell_type": "markdown",
   "metadata": {},
   "source": [
    "1. How do you distinguish between shutil.copy() and shutil.copytree()?\n",
    "\n",
    "shutil.copy() method in Python is used to copy the content of the source file to the destination file or directory.\n",
    "shutil.copytree() method recursively copies an entire directory tree rooted at source to the destination directory."
   ]
  },
  {
   "cell_type": "markdown",
   "metadata": {},
   "source": [
    "2. What function is used to rename files??\n",
    "\n",
    "import os\n",
    "os.rename(\"filename.txt\",\"desirednamem.txt\")"
   ]
  },
  {
   "cell_type": "markdown",
   "metadata": {},
   "source": [
    "3. What is the difference between the delete functions in the send2trash and shutil modules?\n",
    "\n",
    "import shutil\n",
    "shutil.retree():\n",
    "The shutil module’s rmtree() function can be used to delete files or folders. But, this function delete the files\n",
    "permanently. \n",
    "The operations cannot be undone if there were any accidental deletions performed \n",
    "\n",
    "import send2trash\n",
    "send2trash.send2trash() : Using send2trash, we can send files to the Trash or Recycle Bin instead of permanently \n",
    "deleting them.\n",
    "If the directory contains files or other folders, those are also deleted. A TrashPermissionError exception is raised, \n",
    "in case a file could not be deleted due to permission error or any other unexpected reason.\n"
   ]
  },
  {
   "cell_type": "markdown",
   "metadata": {},
   "source": [
    "4.ZipFile objects have a close() method just like File objects’ close() method.\n",
    "What ZipFile method is equivalent to File objects’ open() method?\n",
    "\n",
    "\n",
    "from zipfile import Zipfile\n",
    "with ZipFile(file_name, 'r') as zip: -> this code will open specified zipfile for us. \n",
    "we can use zip objext to preform other operations like zipfile.\n",
    "like zip.read()"
   ]
  },
  {
   "cell_type": "markdown",
   "metadata": {},
   "source": [
    "5. Create a programme that searches a folder tree for files with a certain file extension (such as .pdf or .jpg).\n",
    "Copy these files from whatever location they are in to a new folder."
   ]
  },
  {
   "cell_type": "code",
   "execution_count": 1,
   "metadata": {},
   "outputs": [
    {
     "name": "stdout",
     "output_type": "stream",
     "text": [
      "Looking in C:\\Users\\manim\\Downloads for files with extensions of .mp4, .pdf, .jpg\n",
      "Coping C:\\Users\\manim\\Downloads\\cert-24365197-1158.pdf to C:\\Users\\manim\\Documents\n",
      "Coping C:\\Users\\manim\\Downloads\\cert-24365197-1169.pdf to C:\\Users\\manim\\Documents\n"
     ]
    }
   ],
   "source": [
    "import os, shutil\n",
    "\n",
    "def selectiveCopy(source, extensions, destFolder):\n",
    "    folder = os.path.abspath(source)\n",
    "    destFolder = os.path.abspath(destFolder)\n",
    "    print('Looking in', source, 'for files with extensions of', ', '.join(extensions))\n",
    "    for foldername, subfolders, filenames in os.walk(source):\n",
    "        for filename in filenames:\n",
    "            name, extension = os.path.splitext(filename)\n",
    "            if extension in extensions:\n",
    "                fileAbsPath = foldername + os.path.sep + filename\n",
    "                print('Coping', fileAbsPath, 'to', destFolder)\n",
    "                shutil.copy(fileAbsPath, destFolder)\n",
    "\n",
    "extensions = ['.mp4', '.pdf','.jpg']\n",
    "source = 'C:\\\\Users\\\\manim\\\\Downloads'\n",
    "destFolder = 'C:\\\\Users\\\\manim\\\\Documents'\n",
    "selectiveCopy(source, extensions, destFolder)"
   ]
  },
  {
   "cell_type": "code",
   "execution_count": null,
   "metadata": {},
   "outputs": [],
   "source": []
  }
 ],
 "metadata": {
  "kernelspec": {
   "display_name": "Python 3",
   "language": "python",
   "name": "python3"
  },
  "language_info": {
   "codemirror_mode": {
    "name": "ipython",
    "version": 3
   },
   "file_extension": ".py",
   "mimetype": "text/x-python",
   "name": "python",
   "nbconvert_exporter": "python",
   "pygments_lexer": "ipython3",
   "version": "3.8.5"
  }
 },
 "nbformat": 4,
 "nbformat_minor": 4
}
