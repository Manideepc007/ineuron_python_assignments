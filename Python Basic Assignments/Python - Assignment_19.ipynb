{
 "cells": [
  {
   "cell_type": "markdown",
   "id": "803c2d24",
   "metadata": {},
   "source": [
    "### 1. Make a class called Thing with no contents and print it. Then, create an object called example from this class and also print it. Are the printed values the same or different?"
   ]
  },
  {
   "cell_type": "code",
   "execution_count": 1,
   "id": "10dce22c",
   "metadata": {},
   "outputs": [],
   "source": [
    "class Thing:\n",
    "    pass"
   ]
  },
  {
   "cell_type": "code",
   "execution_count": 2,
   "id": "80632e64",
   "metadata": {},
   "outputs": [
    {
     "name": "stdout",
     "output_type": "stream",
     "text": [
      "<class '__main__.Thing'>\n"
     ]
    }
   ],
   "source": [
    "print(Thing)"
   ]
  },
  {
   "cell_type": "code",
   "execution_count": 3,
   "id": "fc4cdcf1",
   "metadata": {},
   "outputs": [
    {
     "name": "stdout",
     "output_type": "stream",
     "text": [
      "<__main__.Thing object at 0x0000014009F7DF40>\n"
     ]
    }
   ],
   "source": [
    "example = Thing()\n",
    "print(example)"
   ]
  },
  {
   "cell_type": "markdown",
   "id": "3da02655",
   "metadata": {},
   "source": [
    "### 2. Create a new class called Thing2 and add the value 'abc' to the letters class attribute. Letters should be printed."
   ]
  },
  {
   "cell_type": "code",
   "execution_count": 9,
   "id": "51f81232",
   "metadata": {},
   "outputs": [
    {
     "data": {
      "text/plain": [
       "'abc'"
      ]
     },
     "execution_count": 9,
     "metadata": {},
     "output_type": "execute_result"
    }
   ],
   "source": [
    "class Thing2:\n",
    "    letters = 'abc'\n",
    "\n",
    "Thing2.letters"
   ]
  },
  {
   "cell_type": "markdown",
   "id": "ddfcc4a6",
   "metadata": {},
   "source": [
    "### 3. Make yet another class called, of course, Thing3. This time, assign the value 'xyz' to an instance (object) attribute called letters. Print letters. Do you need to make an object from the class to do this?"
   ]
  },
  {
   "cell_type": "code",
   "execution_count": 12,
   "id": "cc4b174d",
   "metadata": {},
   "outputs": [
    {
     "name": "stdout",
     "output_type": "stream",
     "text": [
      "xyz\n"
     ]
    }
   ],
   "source": [
    "class Thing3:\n",
    "    def __init__(self,letter):\n",
    "        self.letter = letter\n",
    "    def letters(self):\n",
    "        print(self.letter)\n",
    "\n",
    "Thing3('xyz').letters()   "
   ]
  },
  {
   "cell_type": "markdown",
   "id": "1dbfd687",
   "metadata": {},
   "source": [
    "### 4. Create an Element class with the instance attributes name, symbol, and number. Create a class object with the values 'Hydrogen,' 'H,' and 1."
   ]
  },
  {
   "cell_type": "code",
   "execution_count": 29,
   "id": "58eafb3c",
   "metadata": {},
   "outputs": [],
   "source": [
    "class Element:\n",
    "    def __init__(self,name,symbol,number):\n",
    "        self.name = name\n",
    "        self.symbol = symbol\n",
    "        self.number = number\n",
    "    def printThem(self):\n",
    "        print(f'Name is {self.name}, Symbol is {self.symbol} and Number is {self.number}')\n",
    "example = Element('Hydrogen','H',1)"
   ]
  },
  {
   "cell_type": "code",
   "execution_count": 30,
   "id": "9796e880",
   "metadata": {},
   "outputs": [
    {
     "name": "stdout",
     "output_type": "stream",
     "text": [
      "Name is Hydrogen, Symbol is H and Number is 1\n"
     ]
    }
   ],
   "source": [
    "example.printThem()"
   ]
  },
  {
   "cell_type": "markdown",
   "id": "b7b7d637",
   "metadata": {},
   "source": [
    "### 5. Make a dictionary with these keys and values: 'name': 'Hydrogen', 'symbol': 'H', 'number': 1. Then, create an object called hydrogen from class Element using this dictionary."
   ]
  },
  {
   "cell_type": "code",
   "execution_count": 31,
   "id": "6549e445",
   "metadata": {},
   "outputs": [
    {
     "name": "stdout",
     "output_type": "stream",
     "text": [
      "{'name': 'Hydrogen', 'symbol': 'H', 'number': 1}\n"
     ]
    }
   ],
   "source": [
    "d={'name':'Hydrogen',\n",
    "  'symbol':'H',\n",
    "  'number':1}\n",
    "class Element():\n",
    "    def __init__(self,a):\n",
    "        print(d)\n",
    "\n",
    "Hydrogen=Element(d)"
   ]
  },
  {
   "cell_type": "markdown",
   "id": "e99b081a",
   "metadata": {},
   "source": [
    "### 6. For the Element class, define a method called dump() that prints the values of the object’s attributes (name, symbol, and number). Create the hydrogen object from this new definition and use dump() to print its attributes."
   ]
  },
  {
   "cell_type": "code",
   "execution_count": 34,
   "id": "dac7fadc",
   "metadata": {},
   "outputs": [
    {
     "name": "stdout",
     "output_type": "stream",
     "text": [
      "Hydrogen H 1\n"
     ]
    }
   ],
   "source": [
    "class Element():\n",
    "    def dump(self,name,symbol,number):\n",
    "        print(name,symbol,number)\n",
    "Hydrogen=Element()\n",
    "Hydrogen.dump('Hydrogen','H',1)"
   ]
  },
  {
   "cell_type": "markdown",
   "id": "a072fb08",
   "metadata": {},
   "source": [
    "### 7. Call print(hydrogen). In the definition of Element, change the name of method dump to __str__, create a new hydrogen object, and call print(hydrogen) again."
   ]
  },
  {
   "cell_type": "code",
   "execution_count": 35,
   "id": "b96f63e0",
   "metadata": {},
   "outputs": [
    {
     "name": "stdout",
     "output_type": "stream",
     "text": [
      "Hydrogen\n",
      " H \n",
      " 1\n"
     ]
    }
   ],
   "source": [
    "class Element():\n",
    "    def __str__(self):\n",
    "        return \"Hydrogen\\n H \\n 1\"\n",
    "Hydrogen=Element()\n",
    "print(Hydrogen)"
   ]
  },
  {
   "cell_type": "markdown",
   "id": "3f99e4a1",
   "metadata": {},
   "source": [
    "### 8. Modify Element to make the attributes name, symbol, and number private. Define a getter property for each to return its value."
   ]
  },
  {
   "cell_type": "code",
   "execution_count": 37,
   "id": "5521d9ab",
   "metadata": {},
   "outputs": [],
   "source": [
    "class Element(): \n",
    "    def __init__(self ,name,symbol,number):\n",
    "        self.__name = name\n",
    "        self.__symbol = symbol\n",
    "        self.__number = number\n",
    "    @property\n",
    "    def name(self):\n",
    "        return (self.__name)\n",
    "    @property\n",
    "    def symbol(self):\n",
    "        return (self.__symbol)\n",
    "    @property\n",
    "    def number(self):\n",
    "        return (self.__number)"
   ]
  },
  {
   "cell_type": "code",
   "execution_count": 45,
   "id": "b7edda87",
   "metadata": {},
   "outputs": [
    {
     "name": "stdout",
     "output_type": "stream",
     "text": [
      "Hydrogen H 1\n"
     ]
    }
   ],
   "source": [
    "example = Element('Hydrogen','H',1)\n",
    "\n",
    "print(example.name,\n",
    "example.symbol,\n",
    "example.number)"
   ]
  },
  {
   "cell_type": "markdown",
   "id": "5342ecae",
   "metadata": {},
   "source": [
    "### 9. Define three classes: Bear, Rabbit, and Octothorpe. For each, define only one method: eats(). This should return 'berries' (Bear), 'clover' (Rabbit), or 'campers' (Octothorpe). Create one object from each and print what it eats."
   ]
  },
  {
   "cell_type": "code",
   "execution_count": 46,
   "id": "8fa92db3",
   "metadata": {},
   "outputs": [],
   "source": [
    "class Bear:\n",
    "    def eats():\n",
    "        print('berries')\n",
    "\n",
    "class Rabbit:\n",
    "    def eats():\n",
    "        print('clover')\n",
    "\n",
    "class Octothorpe:\n",
    "    def eats():\n",
    "        print('campers')"
   ]
  },
  {
   "cell_type": "code",
   "execution_count": 47,
   "id": "e7084943",
   "metadata": {},
   "outputs": [
    {
     "name": "stdout",
     "output_type": "stream",
     "text": [
      "berries\n"
     ]
    }
   ],
   "source": [
    "Bear.eats()"
   ]
  },
  {
   "cell_type": "code",
   "execution_count": 48,
   "id": "d3d5d898",
   "metadata": {},
   "outputs": [
    {
     "name": "stdout",
     "output_type": "stream",
     "text": [
      "clover\n"
     ]
    }
   ],
   "source": [
    "Rabbit.eats()"
   ]
  },
  {
   "cell_type": "code",
   "execution_count": 49,
   "id": "b30dd6aa",
   "metadata": {},
   "outputs": [
    {
     "name": "stdout",
     "output_type": "stream",
     "text": [
      "campers\n"
     ]
    }
   ],
   "source": [
    "Octothorpe.eats()"
   ]
  },
  {
   "cell_type": "markdown",
   "id": "4eedb0bc",
   "metadata": {},
   "source": [
    "### 10. Define these classes: Laser, Claw, and SmartPhone. Each has only one method: does(). This returns 'disintegrate' (Laser), 'crush' (Claw), or 'ring' (SmartPhone). Then, define the class Robot that has one instance (object) of each of these. Define a does() method for the Robot that prints what its component objects do."
   ]
  },
  {
   "cell_type": "code",
   "execution_count": 50,
   "id": "7fd221c3",
   "metadata": {},
   "outputs": [],
   "source": [
    "class Laser:\n",
    "    def does(self):\n",
    "        return('disitegrate')\n",
    "class Claw:\n",
    "    def does(self):\n",
    "        return('crush')\n",
    "class SmartPhone:\n",
    "    def does(self):\n",
    "        return('ring')\n",
    "        \n",
    "class Robot:\n",
    "    def __init__(self):\n",
    "        self.laser = Laser()\n",
    "        self.claw = Claw()\n",
    "        self.smartphone = SmartPhone()\n",
    "    def does(self):\n",
    "        return ('Laser is %s, Claw is %s, SmartPhone is %s' % (self.laser.does(),self.claw.does(),self.smartphone.does()))"
   ]
  },
  {
   "cell_type": "code",
   "execution_count": 51,
   "id": "14830957",
   "metadata": {},
   "outputs": [],
   "source": [
    "robo = Robot()"
   ]
  },
  {
   "cell_type": "code",
   "execution_count": 52,
   "id": "07b4bdd7",
   "metadata": {},
   "outputs": [
    {
     "data": {
      "text/plain": [
       "'Laser is disitegrate, Claw is crush, SmartPhone is ring'"
      ]
     },
     "execution_count": 52,
     "metadata": {},
     "output_type": "execute_result"
    }
   ],
   "source": [
    "robo.does()"
   ]
  },
  {
   "cell_type": "code",
   "execution_count": null,
   "id": "80026c86",
   "metadata": {},
   "outputs": [],
   "source": []
  }
 ],
 "metadata": {
  "kernelspec": {
   "display_name": "Python 3 (ipykernel)",
   "language": "python",
   "name": "python3"
  },
  "language_info": {
   "codemirror_mode": {
    "name": "ipython",
    "version": 3
   },
   "file_extension": ".py",
   "mimetype": "text/x-python",
   "name": "python",
   "nbconvert_exporter": "python",
   "pygments_lexer": "ipython3",
   "version": "3.9.7"
  }
 },
 "nbformat": 4,
 "nbformat_minor": 5
}
