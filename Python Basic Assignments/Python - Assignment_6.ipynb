{
 "cells": [
  {
   "cell_type": "raw",
   "metadata": {},
   "source": [
    "1. What are escape characters, and how do you use them?\n",
    "\n",
    "==> Escape characters allow us to insert the data which are illegal in python.\n",
    "\n",
    "# \\'==\tSingle Quote\t\n",
    "# \\\\==\tBackslash\t\n",
    "# \\n==\tNew Line\t\n",
    "# \\r==\tCarriage Return\t\n",
    "# \\t==\tTab\t\n",
    "# \\b==\tBackspace\t\n",
    "# \\f==\tForm Feed\t\n",
    "# \\ooo==\tOctal value\t\n",
    "# \\xhh==\tHex value"
   ]
  },
  {
   "cell_type": "raw",
   "metadata": {},
   "source": [
    "2. What do the escape characters n and t stand for?\n",
    "\n",
    "# \\n==\tNew Line\n",
    "# \\t==\tTab"
   ]
  },
  {
   "cell_type": "code",
   "execution_count": 1,
   "metadata": {},
   "outputs": [
    {
     "data": {
      "text/plain": [
       "'Amazon prime web series \"wheel of time\" worth to watch.'"
      ]
     },
     "execution_count": 1,
     "metadata": {},
     "output_type": "execute_result"
    }
   ],
   "source": [
    "#3. What is the way to include backslash characters in a string?\n",
    "\n",
    "variable =  \"Amazon prime web series \\\"wheel of time\\\" worth to watch.\"\n",
    "variable # with the help of escape charater in the above variable, we can store the string."
   ]
  },
  {
   "cell_type": "code",
   "execution_count": 2,
   "metadata": {},
   "outputs": [],
   "source": [
    "#4. The string \"Howl's Moving Castle\" is a correct value. \n",
    "#Why isn't the single quote character in the word Howl's not escaped a problem?\n",
    "\n",
    "### Because we have used double quotes for the whole string.\n"
   ]
  },
  {
   "cell_type": "code",
   "execution_count": 3,
   "metadata": {},
   "outputs": [
    {
     "name": "stdout",
     "output_type": "stream",
     "text": [
      "foo\\nbar\n"
     ]
    }
   ],
   "source": [
    "#5. How do you write a string of newlines if you don't want to use the n character?\n",
    "print(\"foo\\nbar\".encode(\"unicode_escape\").decode(\"utf-8\"))"
   ]
  },
  {
   "cell_type": "code",
   "execution_count": 5,
   "metadata": {},
   "outputs": [
    {
     "name": "stdout",
     "output_type": "stream",
     "text": [
      "e\n",
      "Hello\n",
      "Hello\n",
      "lo, world!\n"
     ]
    }
   ],
   "source": [
    "#6. What are the values of the given expressions?\n",
    "print('Hello, world!'[1])\n",
    "print('Hello, world!'[0:5])\n",
    "print('Hello, world!'[:5])\n",
    "print('Hello, world!'[3:])\n"
   ]
  },
  {
   "cell_type": "code",
   "execution_count": 6,
   "metadata": {},
   "outputs": [
    {
     "name": "stdout",
     "output_type": "stream",
     "text": [
      "HELLO\n",
      "True\n",
      "hello\n"
     ]
    }
   ],
   "source": [
    "#7. What are the values of the following expressions?\n",
    "print('Hello'.upper())\n",
    "print('Hello'.upper().isupper())\n",
    "print('Hello'.upper().lower())\n"
   ]
  },
  {
   "cell_type": "code",
   "execution_count": 8,
   "metadata": {},
   "outputs": [
    {
     "name": "stdout",
     "output_type": "stream",
     "text": [
      "['Remember,', 'remember,', 'the', 'fifth', 'of', 'July.']\n",
      "There-can-only-one.\n"
     ]
    }
   ],
   "source": [
    "#8. What are the values of the following expressions?\n",
    "print('Remember, remember, the fifth of July.'.split())\n",
    "print('-'.join('There can only one.'.split()))"
   ]
  },
  {
   "cell_type": "code",
   "execution_count": 10,
   "metadata": {},
   "outputs": [
    {
     "name": "stdout",
     "output_type": "stream",
     "text": [
      "   manideep\n",
      "manideep  \n",
      "   manideep  \n"
     ]
    }
   ],
   "source": [
    "#9. What are the methods for right-justifying, left-justifying, and centering a string?\n",
    "a =\"   manideep  \"\n",
    "print(a.rstrip())\n",
    "print(a.lstrip())\n",
    "print(a.center(2))"
   ]
  },
  {
   "cell_type": "code",
   "execution_count": 11,
   "metadata": {},
   "outputs": [
    {
     "name": "stdout",
     "output_type": "stream",
     "text": [
      "mani\n",
      "manid\n"
     ]
    }
   ],
   "source": [
    "#10. What is the best way to remove whitespace characters from the start or end?\n",
    "#1\n",
    "a=\" m a ni \"\n",
    "print(a.replace(\" \",\"\"))\n",
    "\n",
    "#2\n",
    "\n",
    "a=\" m a nid  \"\n",
    "print(\"\".join(a.split()))"
   ]
  },
  {
   "cell_type": "code",
   "execution_count": null,
   "metadata": {},
   "outputs": [],
   "source": []
  }
 ],
 "metadata": {
  "kernelspec": {
   "display_name": "Python 3",
   "language": "python",
   "name": "python3"
  },
  "language_info": {
   "codemirror_mode": {
    "name": "ipython",
    "version": 3
   },
   "file_extension": ".py",
   "mimetype": "text/x-python",
   "name": "python",
   "nbconvert_exporter": "python",
   "pygments_lexer": "ipython3",
   "version": "3.8.5"
  }
 },
 "nbformat": 4,
 "nbformat_minor": 4
}
