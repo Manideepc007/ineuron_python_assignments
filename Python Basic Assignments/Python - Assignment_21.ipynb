{
 "cells": [
  {
   "cell_type": "markdown",
   "id": "8f2e7a32",
   "metadata": {},
   "source": [
    "### 1. Add the current date to the text file today.txt as a string."
   ]
  },
  {
   "cell_type": "code",
   "execution_count": 1,
   "id": "14b86953",
   "metadata": {},
   "outputs": [],
   "source": [
    "import datetime"
   ]
  },
  {
   "cell_type": "code",
   "execution_count": 8,
   "id": "293c378a",
   "metadata": {},
   "outputs": [],
   "source": [
    "date = datetime.date.today()\n",
    "with open('today.txt','w+') as a:\n",
    "    a.writelines(str(date))"
   ]
  },
  {
   "cell_type": "markdown",
   "id": "a8818cc5",
   "metadata": {},
   "source": [
    "### 2. Read the text file today.txt into the string today_string"
   ]
  },
  {
   "cell_type": "code",
   "execution_count": 10,
   "id": "cdbc5cd6",
   "metadata": {},
   "outputs": [
    {
     "name": "stdout",
     "output_type": "stream",
     "text": [
      "2022-02-10\n"
     ]
    }
   ],
   "source": [
    "with open('today.txt','r+') as a:\n",
    "    today_string=a.readline()\n",
    "print(today_string)"
   ]
  },
  {
   "cell_type": "markdown",
   "id": "5105738f",
   "metadata": {},
   "source": [
    "### 3. Parse the date from today_string."
   ]
  },
  {
   "cell_type": "code",
   "execution_count": 13,
   "id": "73f290ad",
   "metadata": {},
   "outputs": [
    {
     "data": {
      "text/plain": [
       "datetime.datetime(2022, 2, 10, 0, 0)"
      ]
     },
     "execution_count": 13,
     "metadata": {},
     "output_type": "execute_result"
    }
   ],
   "source": [
    "from datetime import datetime\n",
    "format = '%Y-%m-%d'\n",
    "datetime.strptime(today_string,format)"
   ]
  },
  {
   "cell_type": "markdown",
   "id": "8ec7454b",
   "metadata": {},
   "source": [
    "### 4. List the files in your current directory"
   ]
  },
  {
   "cell_type": "code",
   "execution_count": 15,
   "id": "66e2e851",
   "metadata": {},
   "outputs": [
    {
     "data": {
      "text/plain": [
       "['.ipynb_checkpoints',\n",
       " 'books.csv',\n",
       " 'books.db',\n",
       " 'dummy.csv',\n",
       " 'hellothere.docx',\n",
       " 'Python -  Assignment_4.ipynb',\n",
       " 'Python - Assignment_1.ipynb',\n",
       " 'Python - Assignment_10.ipynb',\n",
       " 'Python - Assignment_11.ipynb',\n",
       " 'Python - Assignment_12.ipynb',\n",
       " 'Python - Assignment_13.ipynb',\n",
       " 'Python - Assignment_14.ipynb',\n",
       " 'Python - Assignment_15.ipynb',\n",
       " 'Python - Assignment_16.ipynb',\n",
       " 'Python - Assignment_17.ipynb',\n",
       " 'Python - Assignment_18.ipynb',\n",
       " 'Python - Assignment_19.ipynb',\n",
       " 'Python - Assignment_2.ipynb',\n",
       " 'Python - Assignment_20.ipynb',\n",
       " 'Python - Assignment_21.ipynb',\n",
       " 'Python - Assignment_3.ipynb',\n",
       " 'Python - Assignment_5.ipynb',\n",
       " 'Python - Assignment_6.ipynb',\n",
       " 'Python - Assignment_7.ipynb',\n",
       " 'Python - Assignment_8.ipynb',\n",
       " 'Python - Assignment_9.ipynb',\n",
       " 'python.png',\n",
       " 'test.txt',\n",
       " 'today.txt',\n",
       " 'zoo.py',\n",
       " '__pycache__']"
      ]
     },
     "execution_count": 15,
     "metadata": {},
     "output_type": "execute_result"
    }
   ],
   "source": [
    "import os\n",
    "os.listdir()"
   ]
  },
  {
   "cell_type": "markdown",
   "id": "c0ddc666",
   "metadata": {},
   "source": [
    "### 5. Create a list of all of the files in your parent directory (minimum five files should be available).\n"
   ]
  },
  {
   "cell_type": "code",
   "execution_count": 21,
   "id": "a322bfed",
   "metadata": {},
   "outputs": [
    {
     "data": {
      "text/plain": [
       "['$Recycle.Bin',\n",
       " '$WinREAgent',\n",
       " '173A463648B7',\n",
       " 'Documents and Settings',\n",
       " 'DumpStack.log.tmp',\n",
       " 'hiberfil.sys',\n",
       " 'Intel',\n",
       " 'OneDriveTemp',\n",
       " 'pagefile.sys',\n",
       " 'PerfLogs',\n",
       " 'Program Files',\n",
       " 'Program Files (x86)',\n",
       " 'ProgramData',\n",
       " 'Recovery',\n",
       " 'swapfile.sys',\n",
       " 'System Volume Information',\n",
       " 'Users',\n",
       " 'Windows']"
      ]
     },
     "execution_count": 21,
     "metadata": {},
     "output_type": "execute_result"
    }
   ],
   "source": [
    "os.chdir(r\"C:/\")\n",
    "os.listdir()"
   ]
  },
  {
   "cell_type": "markdown",
   "id": "be725219",
   "metadata": {},
   "source": [
    "### 6. Use multiprocessing to create three separate processes. Make each one wait a random number of seconds between one and five, print the current time, and then exit."
   ]
  },
  {
   "cell_type": "code",
   "execution_count": 31,
   "id": "d4ae50c5",
   "metadata": {},
   "outputs": [
    {
     "name": "stdout",
     "output_type": "stream",
     "text": [
      "wait 1644457384.7112873 seconds, time is 2022-02-10 01:43:09.715770 \n",
      "\n",
      "wait 1644457389.7187824 seconds, time is 2022-02-10 01:43:11.731507 \n",
      "\n",
      "wait 1644457391.7318642 seconds, time is 2022-02-10 01:43:14.743290 \n",
      "\n"
     ]
    }
   ],
   "source": [
    "import threading\n",
    "from datetime import datetime\n",
    "import random\n",
    "import time\n",
    "\n",
    "def p1():\n",
    "    for i in range(3):\n",
    "        a=time.time()\n",
    "        ran=random.randrange(1,6)\n",
    "        time.sleep(ran)\n",
    "        print('wait', a, 'seconds, time is', datetime.utcnow(),'\\n')\n",
    "\n",
    "t1=threading.Thread(target=p1)\n",
    "\n",
    "t1.start()\n"
   ]
  },
  {
   "cell_type": "markdown",
   "id": "5a00f810",
   "metadata": {},
   "source": [
    "### 7. Create a date object of your day of birth."
   ]
  },
  {
   "cell_type": "code",
   "execution_count": 36,
   "id": "7c9f9071",
   "metadata": {},
   "outputs": [
    {
     "name": "stdout",
     "output_type": "stream",
     "text": [
      "1994-05-25 00:00:00\n"
     ]
    }
   ],
   "source": [
    "import datetime\n",
    "\n",
    "date = datetime.datetime(1994, 5, 25)\n",
    "\n",
    "print(date)"
   ]
  },
  {
   "cell_type": "markdown",
   "id": "835e233e",
   "metadata": {},
   "source": [
    "### 8. What day of the week was your day of birth?"
   ]
  },
  {
   "cell_type": "code",
   "execution_count": 37,
   "id": "0934fa55",
   "metadata": {},
   "outputs": [
    {
     "data": {
      "text/plain": [
       "2"
      ]
     },
     "execution_count": 37,
     "metadata": {},
     "output_type": "execute_result"
    }
   ],
   "source": [
    "date.weekday()"
   ]
  },
  {
   "cell_type": "markdown",
   "id": "9ebc3504",
   "metadata": {},
   "source": [
    "### 9. When will you be (or when were you) 10,000 days old?\n"
   ]
  },
  {
   "cell_type": "code",
   "execution_count": 38,
   "id": "4536c664",
   "metadata": {},
   "outputs": [
    {
     "data": {
      "text/plain": [
       "datetime.datetime(2021, 10, 10, 0, 0)"
      ]
     },
     "execution_count": 38,
     "metadata": {},
     "output_type": "execute_result"
    }
   ],
   "source": [
    "from datetime import timedelta\n",
    "day_10k = date + timedelta(days=10000)\n",
    "day_10k"
   ]
  },
  {
   "cell_type": "code",
   "execution_count": null,
   "id": "7e44d281",
   "metadata": {},
   "outputs": [],
   "source": []
  }
 ],
 "metadata": {
  "kernelspec": {
   "display_name": "Python 3 (ipykernel)",
   "language": "python",
   "name": "python3"
  },
  "language_info": {
   "codemirror_mode": {
    "name": "ipython",
    "version": 3
   },
   "file_extension": ".py",
   "mimetype": "text/x-python",
   "name": "python",
   "nbconvert_exporter": "python",
   "pygments_lexer": "ipython3",
   "version": "3.9.7"
  }
 },
 "nbformat": 4,
 "nbformat_minor": 5
}
